{
 "cells": [
  {
   "cell_type": "markdown",
   "metadata": {
    "toc": true
   },
   "source": [
    "<h1>Table of Contents<span class=\"tocSkip\"></span></h1>\n",
    "<div class=\"toc\"><ul class=\"toc-item\"><li><span><a href=\"#Libraries\" data-toc-modified-id=\"Libraries-1\"><span class=\"toc-item-num\">1&nbsp;&nbsp;</span>Libraries</a></span></li><li><span><a href=\"#Getting-valid-URL's\" data-toc-modified-id=\"Getting-valid-URL's-2\"><span class=\"toc-item-num\">2&nbsp;&nbsp;</span>Getting valid URL's</a></span><ul class=\"toc-item\"><li><span><a href=\"#Check-for-valid-url's\" data-toc-modified-id=\"Check-for-valid-url's-2.1\"><span class=\"toc-item-num\">2.1&nbsp;&nbsp;</span>Check for valid url's</a></span></li><li><span><a href=\"#Clean-categories\" data-toc-modified-id=\"Clean-categories-2.2\"><span class=\"toc-item-num\">2.2&nbsp;&nbsp;</span>Clean categories</a></span></li><li><span><a href=\"#Add-reliable-URL's\" data-toc-modified-id=\"Add-reliable-URL's-2.3\"><span class=\"toc-item-num\">2.3&nbsp;&nbsp;</span>Add reliable URL's</a></span></li><li><span><a href=\"#Save-the-new-url-list\" data-toc-modified-id=\"Save-the-new-url-list-2.4\"><span class=\"toc-item-num\">2.4&nbsp;&nbsp;</span>Save the new url list</a></span></li></ul></li><li><span><a href=\"#Scrapy/BeautifulSoup\" data-toc-modified-id=\"Scrapy/BeautifulSoup-3\"><span class=\"toc-item-num\">3&nbsp;&nbsp;</span>Scrapy/BeautifulSoup</a></span></li><li><span><a href=\"#Web-Scraping-(nytimes)\" data-toc-modified-id=\"Web-Scraping-(nytimes)-4\"><span class=\"toc-item-num\">4&nbsp;&nbsp;</span>Web Scraping (nytimes)</a></span><ul class=\"toc-item\"><li><span><a href=\"#Archive-search\" data-toc-modified-id=\"Archive-search-4.1\"><span class=\"toc-item-num\">4.1&nbsp;&nbsp;</span>Archive search</a></span></li><li><span><a href=\"#Article-search\" data-toc-modified-id=\"Article-search-4.2\"><span class=\"toc-item-num\">4.2&nbsp;&nbsp;</span>Article search</a></span></li><li><span><a href=\"#Example\" data-toc-modified-id=\"Example-4.3\"><span class=\"toc-item-num\">4.3&nbsp;&nbsp;</span>Example</a></span></li></ul></li><li><span><a href=\"#News-API\" data-toc-modified-id=\"News-API-5\"><span class=\"toc-item-num\">5&nbsp;&nbsp;</span>News API</a></span></li><li><span><a href=\"#webhose.io\" data-toc-modified-id=\"webhose.io-6\"><span class=\"toc-item-num\">6&nbsp;&nbsp;</span>webhose.io</a></span><ul class=\"toc-item\"><li><span><a href=\"#API-Plyground\" data-toc-modified-id=\"API-Plyground-6.1\"><span class=\"toc-item-num\">6.1&nbsp;&nbsp;</span>API Plyground</a></span></li><li><span><a href=\"#Python-API\" data-toc-modified-id=\"Python-API-6.2\"><span class=\"toc-item-num\">6.2&nbsp;&nbsp;</span>Python API</a></span></li></ul></li><li><span><a href=\"#Extracting-extra-data-from-a-dataset-found-at-webhose.io\" data-toc-modified-id=\"Extracting-extra-data-from-a-dataset-found-at-webhose.io-7\"><span class=\"toc-item-num\">7&nbsp;&nbsp;</span>Extracting extra data from a dataset found at webhose.io</a></span><ul class=\"toc-item\"><li><span><a href=\"#URL's\" data-toc-modified-id=\"URL's-7.1\"><span class=\"toc-item-num\">7.1&nbsp;&nbsp;</span>URL's</a></span></li><li><span><a href=\"#Select-only-sites-with-.com-suffix\" data-toc-modified-id=\"Select-only-sites-with-.com-suffix-7.2\"><span class=\"toc-item-num\">7.2&nbsp;&nbsp;</span>Select only sites with <code>.com</code> suffix</a></span></li><li><span><a href=\"#Remove-none-US-sites\" data-toc-modified-id=\"Remove-none-US-sites-7.3\"><span class=\"toc-item-num\">7.3&nbsp;&nbsp;</span>Remove none-US sites</a></span></li><li><span><a href=\"#Collect-news-article\" data-toc-modified-id=\"Collect-news-article-7.4\"><span class=\"toc-item-num\">7.4&nbsp;&nbsp;</span>Collect news article</a></span></li><li><span><a href=\"#Save-content\" data-toc-modified-id=\"Save-content-7.5\"><span class=\"toc-item-num\">7.5&nbsp;&nbsp;</span>Save content</a></span></li></ul></li></ul></div>"
   ]
  },
  {
   "cell_type": "markdown",
   "metadata": {},
   "source": [
    "## Libraries"
   ]
  },
  {
   "cell_type": "code",
   "execution_count": 12,
   "metadata": {},
   "outputs": [],
   "source": [
    "import os\n",
    "import re\n",
    "import sys\n",
    "import json\n",
    "import time\n",
    "import requests\n",
    "import ujson\n",
    "import random\n",
    "import socket\n",
    "import tldextract\n",
    "import geoip2.database\n",
    "import socket\n",
    "import webhose\n",
    "import datetime\n",
    "import pandas as pd\n",
    "\n",
    "from tqdm import tqdm\n",
    "from pprint import pprint\n",
    "from pathlib import Path\n",
    "from urllib.request import urlopen\n",
    "from newsapi import NewsApiClient"
   ]
  },
  {
   "cell_type": "markdown",
   "metadata": {},
   "source": [
    "Load the file with all the needed api tokens."
   ]
  },
  {
   "cell_type": "code",
   "execution_count": 3,
   "metadata": {},
   "outputs": [],
   "source": [
    "config_file = os.path.join(str(Path.home()), '.auth/config.json')\n",
    "with open(config_file) as f:\n",
    "    tokens = json.load(f)"
   ]
  },
  {
   "cell_type": "markdown",
   "metadata": {},
   "source": [
    "---"
   ]
  },
  {
   "cell_type": "markdown",
   "metadata": {},
   "source": [
    "## Getting valid URL's"
   ]
  },
  {
   "cell_type": "markdown",
   "metadata": {},
   "source": [
    "[OpenSources](http://www.opensources.co/) is a curated resource for assessing online information sources, available for public use. Websites in this resource range from credible news sources to misleading and outright fake websites. \n",
    "\n",
    "In the given csv file we have over 800 url's."
   ]
  },
  {
   "cell_type": "code",
   "execution_count": 2,
   "metadata": {},
   "outputs": [
    {
     "data": {
      "text/html": [
       "<div>\n",
       "<style scoped>\n",
       "    .dataframe tbody tr th:only-of-type {\n",
       "        vertical-align: middle;\n",
       "    }\n",
       "\n",
       "    .dataframe tbody tr th {\n",
       "        vertical-align: top;\n",
       "    }\n",
       "\n",
       "    .dataframe thead th {\n",
       "        text-align: right;\n",
       "    }\n",
       "</style>\n",
       "<table border=\"1\" class=\"dataframe\">\n",
       "  <thead>\n",
       "    <tr style=\"text-align: right;\">\n",
       "      <th></th>\n",
       "      <th>Unnamed: 0</th>\n",
       "      <th>type</th>\n",
       "      <th>2nd type</th>\n",
       "      <th>3rd type</th>\n",
       "      <th>Source Notes (things to know?)</th>\n",
       "      <th>Unnamed: 5</th>\n",
       "    </tr>\n",
       "  </thead>\n",
       "  <tbody>\n",
       "    <tr>\n",
       "      <th>0</th>\n",
       "      <td>100percentfedup.com</td>\n",
       "      <td>bias</td>\n",
       "      <td>NaN</td>\n",
       "      <td>NaN</td>\n",
       "      <td>NaN</td>\n",
       "      <td>NaN</td>\n",
       "    </tr>\n",
       "    <tr>\n",
       "      <th>1</th>\n",
       "      <td>365usanews.com</td>\n",
       "      <td>bias</td>\n",
       "      <td>conspiracy</td>\n",
       "      <td>NaN</td>\n",
       "      <td>NaN</td>\n",
       "      <td>NaN</td>\n",
       "    </tr>\n",
       "    <tr>\n",
       "      <th>2</th>\n",
       "      <td>4threvolutionarywar.wordpress.com</td>\n",
       "      <td>bias</td>\n",
       "      <td>conspiracy</td>\n",
       "      <td>NaN</td>\n",
       "      <td>NaN</td>\n",
       "      <td>NaN</td>\n",
       "    </tr>\n",
       "    <tr>\n",
       "      <th>3</th>\n",
       "      <td>aheadoftheherd.com</td>\n",
       "      <td>bias</td>\n",
       "      <td>NaN</td>\n",
       "      <td>NaN</td>\n",
       "      <td>false quotes regarding banking, heavily promot...</td>\n",
       "      <td>NaN</td>\n",
       "    </tr>\n",
       "    <tr>\n",
       "      <th>4</th>\n",
       "      <td>americablog.com</td>\n",
       "      <td>bias</td>\n",
       "      <td>clickbait</td>\n",
       "      <td>NaN</td>\n",
       "      <td>domain for sale</td>\n",
       "      <td>NaN</td>\n",
       "    </tr>\n",
       "  </tbody>\n",
       "</table>\n",
       "</div>"
      ],
      "text/plain": [
       "                          Unnamed: 0  type    2nd type 3rd type  \\\n",
       "0                100percentfedup.com  bias         NaN      NaN   \n",
       "1                     365usanews.com  bias  conspiracy      NaN   \n",
       "2  4threvolutionarywar.wordpress.com  bias  conspiracy      NaN   \n",
       "3                 aheadoftheherd.com  bias         NaN      NaN   \n",
       "4                    americablog.com  bias   clickbait      NaN   \n",
       "\n",
       "                      Source Notes (things to know?) Unnamed: 5  \n",
       "0                                                NaN        NaN  \n",
       "1                                                NaN        NaN  \n",
       "2                                                NaN        NaN  \n",
       "3  false quotes regarding banking, heavily promot...        NaN  \n",
       "4                                    domain for sale        NaN  "
      ]
     },
     "execution_count": 2,
     "metadata": {},
     "output_type": "execute_result"
    }
   ],
   "source": [
    "source_file = 'data/sources.csv'\n",
    "\n",
    "df = pd.read_csv(source_file)\n",
    "df.head()"
   ]
  },
  {
   "cell_type": "code",
   "execution_count": 3,
   "metadata": {},
   "outputs": [
    {
     "data": {
      "text/plain": [
       "(832, 6)"
      ]
     },
     "execution_count": 3,
     "metadata": {},
     "output_type": "execute_result"
    }
   ],
   "source": [
    "df.shape"
   ]
  },
  {
   "cell_type": "markdown",
   "metadata": {},
   "source": [
    "We wil rename column `Unnamed: 0` to `url` and `type` to `category`, and drop all the other columns. We could look more closely at `2nd type`, but for now we will focus on looking at the url's given."
   ]
  },
  {
   "cell_type": "code",
   "execution_count": 4,
   "metadata": {},
   "outputs": [],
   "source": [
    "df.drop(['2nd type', '3rd type', 'Source Notes (things to know?)', 'Unnamed: 5'], axis=1, inplace=True)"
   ]
  },
  {
   "cell_type": "code",
   "execution_count": 5,
   "metadata": {},
   "outputs": [
    {
     "data": {
      "text/html": [
       "<div>\n",
       "<style scoped>\n",
       "    .dataframe tbody tr th:only-of-type {\n",
       "        vertical-align: middle;\n",
       "    }\n",
       "\n",
       "    .dataframe tbody tr th {\n",
       "        vertical-align: top;\n",
       "    }\n",
       "\n",
       "    .dataframe thead th {\n",
       "        text-align: right;\n",
       "    }\n",
       "</style>\n",
       "<table border=\"1\" class=\"dataframe\">\n",
       "  <thead>\n",
       "    <tr style=\"text-align: right;\">\n",
       "      <th></th>\n",
       "      <th>url</th>\n",
       "      <th>category</th>\n",
       "    </tr>\n",
       "  </thead>\n",
       "  <tbody>\n",
       "    <tr>\n",
       "      <th>0</th>\n",
       "      <td>100percentfedup.com</td>\n",
       "      <td>bias</td>\n",
       "    </tr>\n",
       "    <tr>\n",
       "      <th>1</th>\n",
       "      <td>365usanews.com</td>\n",
       "      <td>bias</td>\n",
       "    </tr>\n",
       "    <tr>\n",
       "      <th>2</th>\n",
       "      <td>4threvolutionarywar.wordpress.com</td>\n",
       "      <td>bias</td>\n",
       "    </tr>\n",
       "    <tr>\n",
       "      <th>3</th>\n",
       "      <td>aheadoftheherd.com</td>\n",
       "      <td>bias</td>\n",
       "    </tr>\n",
       "    <tr>\n",
       "      <th>4</th>\n",
       "      <td>americablog.com</td>\n",
       "      <td>bias</td>\n",
       "    </tr>\n",
       "  </tbody>\n",
       "</table>\n",
       "</div>"
      ],
      "text/plain": [
       "                                 url category\n",
       "0                100percentfedup.com     bias\n",
       "1                     365usanews.com     bias\n",
       "2  4threvolutionarywar.wordpress.com     bias\n",
       "3                 aheadoftheherd.com     bias\n",
       "4                    americablog.com     bias"
      ]
     },
     "execution_count": 5,
     "metadata": {},
     "output_type": "execute_result"
    }
   ],
   "source": [
    "df.columns = ['url', 'category']\n",
    "df.head()"
   ]
  },
  {
   "cell_type": "markdown",
   "metadata": {},
   "source": [
    "### Check for valid url's\n",
    "\n",
    "Let us check if we can open the url's in the list provided and if not remove it from the dataset."
   ]
  },
  {
   "cell_type": "code",
   "execution_count": 6,
   "metadata": {},
   "outputs": [
    {
     "name": "stderr",
     "output_type": "stream",
     "text": [
      "832it [22:33,  1.09s/it]\n"
     ]
    }
   ],
   "source": [
    "with tqdm() as progress:\n",
    "    for url in df['url']:\n",
    "        try:\n",
    "            code = urlopen('http://' + url).getcode()\n",
    "        except IOError:\n",
    "            df = df[df.url != url]\n",
    "            code = None\n",
    "            \n",
    "        progress.update()"
   ]
  },
  {
   "cell_type": "code",
   "execution_count": 7,
   "metadata": {},
   "outputs": [
    {
     "data": {
      "text/plain": [
       "(472, 2)"
      ]
     },
     "execution_count": 7,
     "metadata": {},
     "output_type": "execute_result"
    }
   ],
   "source": [
    "df.shape"
   ]
  },
  {
   "cell_type": "markdown",
   "metadata": {},
   "source": [
    "From the orginal 832 url's we have reduced it down to 472."
   ]
  },
  {
   "cell_type": "code",
   "execution_count": 8,
   "metadata": {},
   "outputs": [
    {
     "data": {
      "text/plain": [
       "fake          134\n",
       "conspiracy     75\n",
       "satire         72\n",
       "bias           67\n",
       "political      40\n",
       "unreliable     30\n",
       "junksci        17\n",
       "hate           13\n",
       "clickbait      12\n",
       "rumor           4\n",
       "reliable        3\n",
       "rumor           1\n",
       "fake news       1\n",
       "fake            1\n",
       "state           1\n",
       "Conspiracy      1\n",
       "Name: category, dtype: int64"
      ]
     },
     "execution_count": 8,
     "metadata": {},
     "output_type": "execute_result"
    }
   ],
   "source": [
    "df['category'].value_counts()"
   ]
  },
  {
   "cell_type": "markdown",
   "metadata": {},
   "source": [
    "We have an overwhelmingly large number of url's which are categorized as fake. As well as consipacy, bias and unreliable. Compare to only 3 reliable url's. "
   ]
  },
  {
   "cell_type": "markdown",
   "metadata": {},
   "source": [
    "### Clean categories\n",
    "\n",
    "From the looks we have some misspelling in the naming of the categories. Let's clean it."
   ]
  },
  {
   "cell_type": "code",
   "execution_count": 9,
   "metadata": {},
   "outputs": [
    {
     "data": {
      "text/plain": [
       "array(['bias', 'clickbait', 'conspiracy', 'Conspiracy', 'fake', 'fake ',\n",
       "       'fake news', 'hate', 'junksci', 'satire', 'political', 'reliable',\n",
       "       'rumor', 'rumor ', 'state', 'unreliable'], dtype=object)"
      ]
     },
     "execution_count": 9,
     "metadata": {},
     "output_type": "execute_result"
    }
   ],
   "source": [
    "df['category'].unique()"
   ]
  },
  {
   "cell_type": "code",
   "execution_count": 10,
   "metadata": {},
   "outputs": [
    {
     "name": "stdout",
     "output_type": "stream",
     "text": [
      "['bias' 'clickbait' 'conspiracy' 'fake' 'junksci' 'satire' 'political'\n",
      " 'reliable' 'unreliable']\n",
      "fake          134\n",
      "conspiracy     75\n",
      "satire         72\n",
      "bias           67\n",
      "political      40\n",
      "unreliable     30\n",
      "junksci        17\n",
      "clickbait      12\n",
      "reliable        3\n",
      "Name: category, dtype: int64\n"
     ]
    }
   ],
   "source": [
    "df = df[(df['category'] != 'rumor') & (df['category'] != 'rumor ') & \n",
    "        (df['category'] != 'hate') & (df['category'] != 'state') &\n",
    "        (df['category'] != 'Conspiracy') & (df['category'] != 'fake news') & \n",
    "        (df['category'] != 'fake ')]\n",
    "\n",
    "print(df['category'].unique())\n",
    "print(df['category'].value_counts())"
   ]
  },
  {
   "cell_type": "markdown",
   "metadata": {},
   "source": [
    "### Add reliable URL's"
   ]
  },
  {
   "cell_type": "markdown",
   "metadata": {},
   "source": [
    "Because of the very low number of reliable url's we will add a few of our own."
   ]
  },
  {
   "cell_type": "code",
   "execution_count": 11,
   "metadata": {},
   "outputs": [
    {
     "name": "stdout",
     "output_type": "stream",
     "text": [
      "68\n"
     ]
    }
   ],
   "source": [
    "domains_reliable = ['reuters.com', 'yahoo.com', 'sfgate.com', 'chron.com', 'news.yahoo.com',\n",
    "                    'uk.finance.yahoo.com', 'huffingtonpost.com', 'abcnews.go.com', 'msn.com', \n",
    "                    'businessinsider.com', 'uk.reuters.com', 'theguardian.com', 'buzzfeed.com', \n",
    "                    'ca.reuters.com', 'wsj.com', 'af.reuters.com', 'nhl.com', 'legacy.com', \n",
    "                    'latimes.com', 'washingtonpost.com', 'sports.yahoo.com', 'forbes.com', \n",
    "                    'nytimes.com', 'nydailynews.com', 'bloomberg.com', 'in.reuters.com', \n",
    "                    'usatoday.com', 'ndtv.com', 'music.yahoo.com', 'cnbc.com', 'ca.news.yahoo.com', \n",
    "                    'cbsnews.com', 'marketwatch.com', 'm.mlb.com', 'nypost.com', 'npr.org', \n",
    "                    'bleacherreport.com', 'finance.yahoo.com', 'feeds.reuters.com', 'cbssports.com', \n",
    "                    'edition.cnn.com', 'people.com', 'cnet.com', 'nz.sports.yahoo.com', 'news.abs-cbn.com',\n",
    "                    'nba.com', 'online.wsj.com', 'investing.com', 'cnn.com', 'eonline.com', \n",
    "                    'newsinfo.inquirer.net', 'nbcnews.com', 'politico.com', 'profit.ndtv.com', \n",
    "                    'uk.news.yahoo.com', 'video.foxnews.com', 'au.finance.yahoo.com', 'nz.news.yahoo.com', \n",
    "                    'engadget.com', 'vice.com', 'wikihow.com', 'money.cnn.com', 'nfl.com', \n",
    "                    'washpost.bloomberg.com', 'realclearpolitics.com', 'motherboard.vice.com', \n",
    "                    'au.news.yahoo.com', 'theatlantic.com']\n",
    "\n",
    "print(len(domains_reliable))"
   ]
  },
  {
   "cell_type": "code",
   "execution_count": 12,
   "metadata": {},
   "outputs": [
    {
     "name": "stdout",
     "output_type": "stream",
     "text": [
      "68\n"
     ]
    }
   ],
   "source": [
    "reliable_urls = [item for item in domains_reliable if item not in df.url]\n",
    "print(len(reliable_urls))"
   ]
  },
  {
   "cell_type": "code",
   "execution_count": 13,
   "metadata": {},
   "outputs": [
    {
     "data": {
      "text/html": [
       "<div>\n",
       "<style scoped>\n",
       "    .dataframe tbody tr th:only-of-type {\n",
       "        vertical-align: middle;\n",
       "    }\n",
       "\n",
       "    .dataframe tbody tr th {\n",
       "        vertical-align: top;\n",
       "    }\n",
       "\n",
       "    .dataframe thead th {\n",
       "        text-align: right;\n",
       "    }\n",
       "</style>\n",
       "<table border=\"1\" class=\"dataframe\">\n",
       "  <thead>\n",
       "    <tr style=\"text-align: right;\">\n",
       "      <th></th>\n",
       "      <th>url</th>\n",
       "      <th>category</th>\n",
       "    </tr>\n",
       "  </thead>\n",
       "  <tbody>\n",
       "    <tr>\n",
       "      <th>63</th>\n",
       "      <td>washpost.bloomberg.com</td>\n",
       "      <td>reliable</td>\n",
       "    </tr>\n",
       "    <tr>\n",
       "      <th>64</th>\n",
       "      <td>realclearpolitics.com</td>\n",
       "      <td>reliable</td>\n",
       "    </tr>\n",
       "    <tr>\n",
       "      <th>65</th>\n",
       "      <td>motherboard.vice.com</td>\n",
       "      <td>reliable</td>\n",
       "    </tr>\n",
       "    <tr>\n",
       "      <th>66</th>\n",
       "      <td>au.news.yahoo.com</td>\n",
       "      <td>reliable</td>\n",
       "    </tr>\n",
       "    <tr>\n",
       "      <th>67</th>\n",
       "      <td>theatlantic.com</td>\n",
       "      <td>reliable</td>\n",
       "    </tr>\n",
       "  </tbody>\n",
       "</table>\n",
       "</div>"
      ],
      "text/plain": [
       "                       url  category\n",
       "63  washpost.bloomberg.com  reliable\n",
       "64   realclearpolitics.com  reliable\n",
       "65    motherboard.vice.com  reliable\n",
       "66       au.news.yahoo.com  reliable\n",
       "67         theatlantic.com  reliable"
      ]
     },
     "execution_count": 13,
     "metadata": {},
     "output_type": "execute_result"
    }
   ],
   "source": [
    "reliable_df = pd.DataFrame(data=reliable_urls, columns=['url'])\n",
    "reliable_df['category'] = 'reliable'\n",
    "reliable_df.tail()"
   ]
  },
  {
   "cell_type": "code",
   "execution_count": 14,
   "metadata": {},
   "outputs": [
    {
     "name": "stdout",
     "output_type": "stream",
     "text": [
      "fake          134\n",
      "conspiracy     75\n",
      "satire         72\n",
      "reliable       71\n",
      "bias           67\n",
      "political      40\n",
      "unreliable     30\n",
      "junksci        17\n",
      "clickbait      12\n",
      "Name: category, dtype: int64\n"
     ]
    }
   ],
   "source": [
    "df = df.append(reliable_df, ignore_index=True)\n",
    "print(df['category'].value_counts())"
   ]
  },
  {
   "cell_type": "code",
   "execution_count": 15,
   "metadata": {},
   "outputs": [
    {
     "data": {
      "text/plain": [
       "(518, 2)"
      ]
     },
     "execution_count": 15,
     "metadata": {},
     "output_type": "execute_result"
    }
   ],
   "source": [
    "df.shape"
   ]
  },
  {
   "cell_type": "code",
   "execution_count": 16,
   "metadata": {},
   "outputs": [
    {
     "name": "stdout",
     "output_type": "stream",
     "text": [
      "9\n"
     ]
    }
   ],
   "source": [
    "print(len(df['category'].unique()))"
   ]
  },
  {
   "cell_type": "markdown",
   "metadata": {},
   "source": [
    "That looks somewhat better now. Still off balance but good enough for us to start gathering some content."
   ]
  },
  {
   "cell_type": "markdown",
   "metadata": {},
   "source": [
    "### Save the new url list"
   ]
  },
  {
   "cell_type": "code",
   "execution_count": 17,
   "metadata": {},
   "outputs": [],
   "source": [
    "df.to_csv('data/url_sources.csv', index=False)"
   ]
  },
  {
   "cell_type": "raw",
   "metadata": {},
   "source": [
    "url_df = pd.DataFrame(columns=['url', 'category'])\n",
    "\n",
    "categories = df.category.unique()\n",
    "for c in categories:\n",
    "    test_df = df[df.category == c]\n",
    "    n_rows = test_df.shape[0]-10\n",
    "    n = random.sample(range(0, test_df.shape[0]), n_rows)\n",
    "    temp = test_df.drop(test_df.index[n])\n",
    "    url_df = url_df.append(temp, ignore_index=True)\n",
    "    \n",
    "url_df = url_df.reset_index(drop=True)"
   ]
  },
  {
   "cell_type": "markdown",
   "metadata": {},
   "source": [
    "---"
   ]
  },
  {
   "cell_type": "markdown",
   "metadata": {},
   "source": [
    "## Scrapy/BeautifulSoup"
   ]
  },
  {
   "cell_type": "markdown",
   "metadata": {},
   "source": [
    "The attempt to get the news content from a website can be a daunting task. Especially when we are looking at an article from the nytimes. Instead of having the article contained in one html tag, here we find each paragraph nested in it's own `<p class>`. Which makes it not necessarily difficult but just bloody hard.\n",
    "\n",
    "Now if we multiply the task of webscarping by the amount of url's we got in our list we will be spending some time on it. More then we probably like.\n",
    "\n",
    "Let us explore other options."
   ]
  },
  {
   "cell_type": "markdown",
   "metadata": {},
   "source": [
    "---"
   ]
  },
  {
   "cell_type": "markdown",
   "metadata": {},
   "source": [
    "## Web Scraping (nytimes)"
   ]
  },
  {
   "cell_type": "markdown",
   "metadata": {},
   "source": [
    "The nytimes offers an api to search their archive, articles and more to get the web url's to the articles as well as headlines, document type etc.\n",
    "\n",
    "### Archive search"
   ]
  },
  {
   "cell_type": "code",
   "execution_count": null,
   "metadata": {},
   "outputs": [],
   "source": [
    "url = 'https://api.nytimes.com/svc/archive/v1/%s/%s.json?api-key=%s'\n",
    "\n",
    "begin_year = 2017\n",
    "end_year = 2018\n",
    "\n",
    "with open('nytimes_data/archivesearch.json', 'w') as f:\n",
    "    with tqdm() as progress:\n",
    "        for year in range(begin_year, end_year + 1):\n",
    "            for month in range(1, 13):\n",
    "                try:\n",
    "                    response = requests.get(url % (year, month, NYTIMES_TOKEN))\n",
    "                    docs = response.json()['response']['docs']\n",
    "                except Exception:\n",
    "                    print('Failed to get {}/{}'.format(year, month))\n",
    "                \n",
    "                # There are two rate limits per API: 4,000 requests per day and 10 requests per minute. \n",
    "                # You should sleep 6 seconds between calls to avoid hitting the per minute rate limit.\n",
    "                time.sleep(6) \n",
    "                \n",
    "                progress.update()\n",
    "                \n",
    "    f.write(ujson.dumps(docs) + '\\n')"
   ]
  },
  {
   "cell_type": "code",
   "execution_count": 50,
   "metadata": {
    "scrolled": false
   },
   "outputs": [
    {
     "data": {
      "text/html": [
       "<div>\n",
       "<style scoped>\n",
       "    .dataframe tbody tr th:only-of-type {\n",
       "        vertical-align: middle;\n",
       "    }\n",
       "\n",
       "    .dataframe tbody tr th {\n",
       "        vertical-align: top;\n",
       "    }\n",
       "\n",
       "    .dataframe thead th {\n",
       "        text-align: right;\n",
       "    }\n",
       "</style>\n",
       "<table border=\"1\" class=\"dataframe\">\n",
       "  <thead>\n",
       "    <tr style=\"text-align: right;\">\n",
       "      <th></th>\n",
       "      <th>_id</th>\n",
       "      <th>blog</th>\n",
       "      <th>byline</th>\n",
       "      <th>document_type</th>\n",
       "      <th>headline</th>\n",
       "      <th>keywords</th>\n",
       "      <th>multimedia</th>\n",
       "      <th>news_desk</th>\n",
       "      <th>print_page</th>\n",
       "      <th>pub_date</th>\n",
       "      <th>score</th>\n",
       "      <th>section_name</th>\n",
       "      <th>slideshow_credits</th>\n",
       "      <th>snippet</th>\n",
       "      <th>source</th>\n",
       "      <th>type_of_material</th>\n",
       "      <th>uri</th>\n",
       "      <th>web_url</th>\n",
       "      <th>word_count</th>\n",
       "    </tr>\n",
       "  </thead>\n",
       "  <tbody>\n",
       "    <tr>\n",
       "      <th>0</th>\n",
       "      <td>5c04323300a1bc2872e96b1a</td>\n",
       "      <td>[]</td>\n",
       "      <td>{'original': 'By BARBARA MARCOLINI and NEETI U...</td>\n",
       "      <td>multimedia</td>\n",
       "      <td>{'main': 'The People ‘Are Hungry’: Scenes from...</td>\n",
       "      <td>[{'name': 'subject', 'value': 'Demonstrations,...</td>\n",
       "      <td>[{'rank': 0, 'subtype': 'xlarge', 'caption': N...</td>\n",
       "      <td>World / Europe</td>\n",
       "      <td>NaN</td>\n",
       "      <td>2018-12-02T19:27:44+0000</td>\n",
       "      <td>1</td>\n",
       "      <td>Europe</td>\n",
       "      <td>NaN</td>\n",
       "      <td>Ambulance workers and students joined anti-gov...</td>\n",
       "      <td>The New York Times</td>\n",
       "      <td>Video</td>\n",
       "      <td>nyt://video/f3ee5687-4bd3-5224-a9b1-41dd912520fb</td>\n",
       "      <td>https://www.nytimes.com/video/world/europe/100...</td>\n",
       "      <td>0</td>\n",
       "    </tr>\n",
       "    <tr>\n",
       "      <th>1</th>\n",
       "      <td>5c0269b300a1bc2872e96926</td>\n",
       "      <td>[]</td>\n",
       "      <td>{'original': 'By FRANK DeCARO', 'person': [{'f...</td>\n",
       "      <td>article</td>\n",
       "      <td>{'main': 'The Marvelous Mr. Mackie', 'kicker':...</td>\n",
       "      <td>[{'name': 'persons', 'value': 'Mackie, Bob', '...</td>\n",
       "      <td>[{'rank': 0, 'subtype': 'xlarge', 'caption': N...</td>\n",
       "      <td>Styles</td>\n",
       "      <td>1.0</td>\n",
       "      <td>2018-12-01T11:00:01+0000</td>\n",
       "      <td>1</td>\n",
       "      <td>NaN</td>\n",
       "      <td>NaN</td>\n",
       "      <td>Thanks to a new musical, Cher’s favorite desig...</td>\n",
       "      <td>The New York Times</td>\n",
       "      <td>News</td>\n",
       "      <td>nyt://article/902519e6-21c3-5441-857d-522efe10...</td>\n",
       "      <td>https://www.nytimes.com/2018/12/01/style/cher-...</td>\n",
       "      <td>2820</td>\n",
       "    </tr>\n",
       "    <tr>\n",
       "      <th>2</th>\n",
       "      <td>5c02911b00a1bc2872e96945</td>\n",
       "      <td>[]</td>\n",
       "      <td>{'original': 'By SHASTA DARLINGTON', 'person':...</td>\n",
       "      <td>article</td>\n",
       "      <td>{'main': 'Brazil’s New Leader Wants to Ease Gu...</td>\n",
       "      <td>[{'name': 'subject', 'value': 'Gun Control', '...</td>\n",
       "      <td>[{'rank': 0, 'subtype': 'xlarge', 'caption': N...</td>\n",
       "      <td>Foreign</td>\n",
       "      <td>14.0</td>\n",
       "      <td>2018-12-01T13:48:09+0000</td>\n",
       "      <td>1</td>\n",
       "      <td>Americas</td>\n",
       "      <td>NaN</td>\n",
       "      <td>President-elect Jair Bolsonaro wants to make i...</td>\n",
       "      <td>The New York Times</td>\n",
       "      <td>News</td>\n",
       "      <td>nyt://article/e619c196-fd4d-5e5e-b463-3a0df52e...</td>\n",
       "      <td>https://www.nytimes.com/2018/12/01/world/ameri...</td>\n",
       "      <td>1221</td>\n",
       "    </tr>\n",
       "    <tr>\n",
       "      <th>3</th>\n",
       "      <td>5c0226ea00a1bc2872e968e3</td>\n",
       "      <td>[]</td>\n",
       "      <td>{'original': 'By THE EDITORIAL BOARD', 'person...</td>\n",
       "      <td>article</td>\n",
       "      <td>{'main': 'George H.W. Bush, Public Servant', '...</td>\n",
       "      <td>[{'name': 'persons', 'value': 'Bush, George', ...</td>\n",
       "      <td>[{'rank': 0, 'subtype': 'xlarge', 'caption': N...</td>\n",
       "      <td>Editorial</td>\n",
       "      <td>26.0</td>\n",
       "      <td>2018-12-01T06:15:02+0000</td>\n",
       "      <td>1</td>\n",
       "      <td>NaN</td>\n",
       "      <td>NaN</td>\n",
       "      <td>He made his share of mistakes, but he worked f...</td>\n",
       "      <td>The New York Times</td>\n",
       "      <td>Editorial</td>\n",
       "      <td>nyt://article/c1f5796b-f0cd-541f-86b0-37b00475...</td>\n",
       "      <td>https://www.nytimes.com/2018/12/01/opinion/geo...</td>\n",
       "      <td>1187</td>\n",
       "    </tr>\n",
       "    <tr>\n",
       "      <th>4</th>\n",
       "      <td>5c022a6800a1bc2872e968ea</td>\n",
       "      <td>[]</td>\n",
       "      <td>{'original': 'By SARAH MERVOSH and JACEY FORTI...</td>\n",
       "      <td>article</td>\n",
       "      <td>{'main': 'Politicians and Family React to Geor...</td>\n",
       "      <td>[{'name': 'persons', 'value': 'Bush, George', ...</td>\n",
       "      <td>[{'rank': 0, 'subtype': 'xlarge', 'caption': N...</td>\n",
       "      <td>Express</td>\n",
       "      <td>27.0</td>\n",
       "      <td>2018-12-01T06:29:59+0000</td>\n",
       "      <td>1</td>\n",
       "      <td>NaN</td>\n",
       "      <td>NaN</td>\n",
       "      <td>Politicians, including President Trump, joined...</td>\n",
       "      <td>The New York Times</td>\n",
       "      <td>News</td>\n",
       "      <td>nyt://article/a830058e-7478-59c8-a41c-c924ad2e...</td>\n",
       "      <td>https://www.nytimes.com/2018/12/01/us/george-b...</td>\n",
       "      <td>1066</td>\n",
       "    </tr>\n",
       "  </tbody>\n",
       "</table>\n",
       "</div>"
      ],
      "text/plain": [
       "                        _id blog  \\\n",
       "0  5c04323300a1bc2872e96b1a   []   \n",
       "1  5c0269b300a1bc2872e96926   []   \n",
       "2  5c02911b00a1bc2872e96945   []   \n",
       "3  5c0226ea00a1bc2872e968e3   []   \n",
       "4  5c022a6800a1bc2872e968ea   []   \n",
       "\n",
       "                                              byline document_type  \\\n",
       "0  {'original': 'By BARBARA MARCOLINI and NEETI U...    multimedia   \n",
       "1  {'original': 'By FRANK DeCARO', 'person': [{'f...       article   \n",
       "2  {'original': 'By SHASTA DARLINGTON', 'person':...       article   \n",
       "3  {'original': 'By THE EDITORIAL BOARD', 'person...       article   \n",
       "4  {'original': 'By SARAH MERVOSH and JACEY FORTI...       article   \n",
       "\n",
       "                                            headline  \\\n",
       "0  {'main': 'The People ‘Are Hungry’: Scenes from...   \n",
       "1  {'main': 'The Marvelous Mr. Mackie', 'kicker':...   \n",
       "2  {'main': 'Brazil’s New Leader Wants to Ease Gu...   \n",
       "3  {'main': 'George H.W. Bush, Public Servant', '...   \n",
       "4  {'main': 'Politicians and Family React to Geor...   \n",
       "\n",
       "                                            keywords  \\\n",
       "0  [{'name': 'subject', 'value': 'Demonstrations,...   \n",
       "1  [{'name': 'persons', 'value': 'Mackie, Bob', '...   \n",
       "2  [{'name': 'subject', 'value': 'Gun Control', '...   \n",
       "3  [{'name': 'persons', 'value': 'Bush, George', ...   \n",
       "4  [{'name': 'persons', 'value': 'Bush, George', ...   \n",
       "\n",
       "                                          multimedia       news_desk  \\\n",
       "0  [{'rank': 0, 'subtype': 'xlarge', 'caption': N...  World / Europe   \n",
       "1  [{'rank': 0, 'subtype': 'xlarge', 'caption': N...          Styles   \n",
       "2  [{'rank': 0, 'subtype': 'xlarge', 'caption': N...         Foreign   \n",
       "3  [{'rank': 0, 'subtype': 'xlarge', 'caption': N...       Editorial   \n",
       "4  [{'rank': 0, 'subtype': 'xlarge', 'caption': N...         Express   \n",
       "\n",
       "   print_page                  pub_date  score section_name slideshow_credits  \\\n",
       "0         NaN  2018-12-02T19:27:44+0000      1       Europe               NaN   \n",
       "1         1.0  2018-12-01T11:00:01+0000      1          NaN               NaN   \n",
       "2        14.0  2018-12-01T13:48:09+0000      1     Americas               NaN   \n",
       "3        26.0  2018-12-01T06:15:02+0000      1          NaN               NaN   \n",
       "4        27.0  2018-12-01T06:29:59+0000      1          NaN               NaN   \n",
       "\n",
       "                                             snippet              source  \\\n",
       "0  Ambulance workers and students joined anti-gov...  The New York Times   \n",
       "1  Thanks to a new musical, Cher’s favorite desig...  The New York Times   \n",
       "2  President-elect Jair Bolsonaro wants to make i...  The New York Times   \n",
       "3  He made his share of mistakes, but he worked f...  The New York Times   \n",
       "4  Politicians, including President Trump, joined...  The New York Times   \n",
       "\n",
       "  type_of_material                                                uri  \\\n",
       "0            Video   nyt://video/f3ee5687-4bd3-5224-a9b1-41dd912520fb   \n",
       "1             News  nyt://article/902519e6-21c3-5441-857d-522efe10...   \n",
       "2             News  nyt://article/e619c196-fd4d-5e5e-b463-3a0df52e...   \n",
       "3        Editorial  nyt://article/c1f5796b-f0cd-541f-86b0-37b00475...   \n",
       "4             News  nyt://article/a830058e-7478-59c8-a41c-c924ad2e...   \n",
       "\n",
       "                                             web_url  word_count  \n",
       "0  https://www.nytimes.com/video/world/europe/100...           0  \n",
       "1  https://www.nytimes.com/2018/12/01/style/cher-...        2820  \n",
       "2  https://www.nytimes.com/2018/12/01/world/ameri...        1221  \n",
       "3  https://www.nytimes.com/2018/12/01/opinion/geo...        1187  \n",
       "4  https://www.nytimes.com/2018/12/01/us/george-b...        1066  "
      ]
     },
     "execution_count": 50,
     "metadata": {},
     "output_type": "execute_result"
    }
   ],
   "source": [
    "data = pd.read_json('nytimes_data/archivesearch.json')\n",
    "data.head()"
   ]
  },
  {
   "cell_type": "markdown",
   "metadata": {},
   "source": [
    "### Article search"
   ]
  },
  {
   "cell_type": "code",
   "execution_count": 2,
   "metadata": {},
   "outputs": [],
   "source": [
    "def get_date_range(start_date, end_date):\n",
    "    '''\n",
    "    Return date between start and end date\n",
    "    '''\n",
    "    if start_date <= end_date:\n",
    "        for i in range((end_date - start_date).days + 1):\n",
    "            yield start_date + datetime.timedelta(i)\n",
    "    else:\n",
    "        for i in range((start_date - end_date).days + 1):\n",
    "            yield start_date - datetime.timedelta(i)"
   ]
  },
  {
   "cell_type": "code",
   "execution_count": 7,
   "metadata": {},
   "outputs": [],
   "source": [
    "def get_json_file(date, page, json_file_path):\n",
    "    '''\n",
    "    Define file name\n",
    "    '''\n",
    "    json_file_name = \".\".join([str(date), str(page), 'json'])\n",
    "    json_file_name = \"/\".join([json_file_path, json_file_name])\n",
    "    \n",
    "    return json_file_name"
   ]
  },
  {
   "cell_type": "code",
   "execution_count": 10,
   "metadata": {},
   "outputs": [],
   "source": [
    "def get_articles(date, query, json_file_path):\n",
    "    '''\n",
    "    Get all articles from the NYTimes Article Search API\n",
    "    \n",
    "    The Article Search API returns a max of 10 results at a time. The meta \n",
    "    node in the response contains the total number of matches (\"hits\") and \n",
    "    the current offset. Use the page query parameter to paginate thru results \n",
    "    (page=0 for results 1-10, page=1 for 11-20, ...). You can paginate thru \n",
    "    up to 100 pages (1,000 results). If you get too many results try filtering \n",
    "    by date range.\n",
    "    '''\n",
    "    \n",
    "    for page in range(0, 100):\n",
    "        # recommented wait time between requests\n",
    "        time.sleep(6) \n",
    "        \n",
    "        request_string = \"http://api.nytimes.com/svc/search/v2/articlesearch.json?q=\" + query + \"&begin_date=\" + \\\n",
    "                            str(date) + \"&end_date=\" + str(date) + \"&page=\" + str(page) + \"&api-key=\" + NYTIMES_TOKEN\n",
    "        response = requests.get(request_string)\n",
    "        if response.json()['status'] == 'OK':\n",
    "            docs = response.json()['response']['docs']\n",
    "            if len(docs) >= 1:\n",
    "                json_file_name = get_json_file(date, page, json_file_path)\n",
    "                with open(json_file_name, 'w') as f:\n",
    "                    f.write(ujson.dumps(docs) + '\\n')\n",
    "                    f.close()\n",
    "            # if no more articles, go to next date\n",
    "            else:\n",
    "                return"
   ]
  },
  {
   "cell_type": "markdown",
   "metadata": {},
   "source": [
    "Let's search December 2018 and January 2019 for an arbitrary topic."
   ]
  },
  {
   "cell_type": "code",
   "execution_count": 11,
   "metadata": {},
   "outputs": [
    {
     "name": "stderr",
     "output_type": "stream",
     "text": [
      "62it [07:13,  6.89s/it]\n"
     ]
    }
   ],
   "source": [
    "query = 'Goverment+Shutdown'\n",
    "json_file_path = 'json_data'\n",
    "\n",
    "# define start date\n",
    "start_year = 2018\n",
    "start_month = 12\n",
    "start_day = 1\n",
    "\n",
    "# define end date\n",
    "end_year = 2019\n",
    "end_month = 1\n",
    "end_day = 31\n",
    "\n",
    "# define date\n",
    "start_date = datetime.date(year = start_year, month = start_month, day = start_day)\n",
    "end_date = datetime.date(year = end_year, month = end_month, day = end_day)\n",
    "\n",
    "with tqdm() as progress:\n",
    "    for date in get_date_range(start_date, end_date):\n",
    "        date = date.strftime(\"%Y%m%d\")\n",
    "        get_articles(date, query, json_file_path)\n",
    "\n",
    "        progress.update()"
   ]
  },
  {
   "cell_type": "code",
   "execution_count": 17,
   "metadata": {
    "scrolled": true
   },
   "outputs": [
    {
     "data": {
      "text/html": [
       "<div>\n",
       "<style scoped>\n",
       "    .dataframe tbody tr th:only-of-type {\n",
       "        vertical-align: middle;\n",
       "    }\n",
       "\n",
       "    .dataframe tbody tr th {\n",
       "        vertical-align: top;\n",
       "    }\n",
       "\n",
       "    .dataframe thead th {\n",
       "        text-align: right;\n",
       "    }\n",
       "</style>\n",
       "<table border=\"1\" class=\"dataframe\">\n",
       "  <thead>\n",
       "    <tr style=\"text-align: right;\">\n",
       "      <th></th>\n",
       "      <th>_id</th>\n",
       "      <th>blog</th>\n",
       "      <th>byline</th>\n",
       "      <th>document_type</th>\n",
       "      <th>headline</th>\n",
       "      <th>keywords</th>\n",
       "      <th>lead_paragraph</th>\n",
       "      <th>multimedia</th>\n",
       "      <th>news_desk</th>\n",
       "      <th>print_page</th>\n",
       "      <th>pub_date</th>\n",
       "      <th>score</th>\n",
       "      <th>section_name</th>\n",
       "      <th>snippet</th>\n",
       "      <th>source</th>\n",
       "      <th>subsectoinName</th>\n",
       "      <th>type_of_material</th>\n",
       "      <th>uri</th>\n",
       "      <th>web_url</th>\n",
       "      <th>word_count</th>\n",
       "    </tr>\n",
       "  </thead>\n",
       "  <tbody>\n",
       "    <tr>\n",
       "      <th>0</th>\n",
       "      <td>5c1e759d3a125f5075c01911</td>\n",
       "      <td>{}</td>\n",
       "      <td>{'original': 'By SHERYL GAY STOLBERG and KATIE...</td>\n",
       "      <td>article</td>\n",
       "      <td>{'main': 'Government Shutdown to Continue for ...</td>\n",
       "      <td>[{'name': 'persons', 'value': 'Trump, Donald J...</td>\n",
       "      <td>Senate Democrats said they would never accede ...</td>\n",
       "      <td>[{'rank': 0, 'subtype': 'xlarge', 'caption': N...</td>\n",
       "      <td>Washington</td>\n",
       "      <td>1</td>\n",
       "      <td>2018-12-22T17:33:58+0000</td>\n",
       "      <td>0</td>\n",
       "      <td>U.S.</td>\n",
       "      <td>Senate Democrats said they would never accede ...</td>\n",
       "      <td>The New York Times</td>\n",
       "      <td>Politics</td>\n",
       "      <td>News</td>\n",
       "      <td>nyt://article/f84eebb0-8ca8-5a24-b543-344ea5e2...</td>\n",
       "      <td>https://www.nytimes.com/2018/12/22/us/politics...</td>\n",
       "      <td>1706</td>\n",
       "    </tr>\n",
       "  </tbody>\n",
       "</table>\n",
       "</div>"
      ],
      "text/plain": [
       "                        _id blog  \\\n",
       "0  5c1e759d3a125f5075c01911   {}   \n",
       "\n",
       "                                              byline document_type  \\\n",
       "0  {'original': 'By SHERYL GAY STOLBERG and KATIE...       article   \n",
       "\n",
       "                                            headline  \\\n",
       "0  {'main': 'Government Shutdown to Continue for ...   \n",
       "\n",
       "                                            keywords  \\\n",
       "0  [{'name': 'persons', 'value': 'Trump, Donald J...   \n",
       "\n",
       "                                      lead_paragraph  \\\n",
       "0  Senate Democrats said they would never accede ...   \n",
       "\n",
       "                                          multimedia   news_desk  print_page  \\\n",
       "0  [{'rank': 0, 'subtype': 'xlarge', 'caption': N...  Washington           1   \n",
       "\n",
       "                   pub_date  score section_name  \\\n",
       "0  2018-12-22T17:33:58+0000      0         U.S.   \n",
       "\n",
       "                                             snippet              source  \\\n",
       "0  Senate Democrats said they would never accede ...  The New York Times   \n",
       "\n",
       "  subsectoinName type_of_material  \\\n",
       "0       Politics             News   \n",
       "\n",
       "                                                 uri  \\\n",
       "0  nyt://article/f84eebb0-8ca8-5a24-b543-344ea5e2...   \n",
       "\n",
       "                                             web_url  word_count  \n",
       "0  https://www.nytimes.com/2018/12/22/us/politics...        1706  "
      ]
     },
     "execution_count": 17,
     "metadata": {},
     "output_type": "execute_result"
    }
   ],
   "source": [
    "data = pd.read_json('json_data/20181222.0.json')\n",
    "data.head()"
   ]
  },
  {
   "cell_type": "code",
   "execution_count": 18,
   "metadata": {},
   "outputs": [
    {
     "data": {
      "text/plain": [
       "Index(['_id', 'blog', 'byline', 'document_type', 'headline', 'keywords',\n",
       "       'lead_paragraph', 'multimedia', 'news_desk', 'print_page', 'pub_date',\n",
       "       'score', 'section_name', 'snippet', 'source', 'subsectoinName',\n",
       "       'type_of_material', 'uri', 'web_url', 'word_count'],\n",
       "      dtype='object')"
      ]
     },
     "execution_count": 18,
     "metadata": {},
     "output_type": "execute_result"
    }
   ],
   "source": [
    "data.columns"
   ]
  },
  {
   "cell_type": "code",
   "execution_count": 20,
   "metadata": {},
   "outputs": [
    {
     "name": "stdout",
     "output_type": "stream",
     "text": [
      "Government Shutdown to Continue for Days as Senate Adjourns Until Thursday\n",
      "\n",
      "Senate Democrats said they would never accede to President Trump’s demand for $5 billion for a border wall, and the White House offered no early indication that the president would accept less.\n",
      "\n",
      "https://www.nytimes.com/2018/12/22/us/politics/shutdown-trump-senate.html\n",
      "\n"
     ]
    }
   ],
   "source": [
    "with open('json_data/20181222.0.json') as f:\n",
    "    data = json.load(f)\n",
    "    print(data[0]['headline']['main'] + '\\n')\n",
    "    print(data[0]['lead_paragraph'] + '\\n')\n",
    "    print(data[0]['web_url'] + '\\n')"
   ]
  },
  {
   "cell_type": "markdown",
   "metadata": {},
   "source": [
    "NYTimes article search gives us a wide range of options to query for data, by range of date, fields like day_of_week, headline, subject and more, and news desk values like blogs, cars, fashion and many more. That way we can narrow it down to what we are looking for."
   ]
  },
  {
   "cell_type": "markdown",
   "metadata": {},
   "source": [
    "### Example"
   ]
  },
  {
   "cell_type": "markdown",
   "metadata": {},
   "source": [
    "Here is a link from the above search: https://www.nytimes.com/2018/12/22/us/politics/shutdown-trump-senate.html"
   ]
  },
  {
   "cell_type": "markdown",
   "metadata": {},
   "source": [
    "![NYTimes HTML Example](images/nytimes_html.png)"
   ]
  },
  {
   "cell_type": "markdown",
   "metadata": {},
   "source": [
    "As we can see each paragraph is in his own container.\n",
    "\n",
    "Unfortunately we only get the lead paragraph from our search which doesn't help much if we are looking for the full article. All we get is metadata but that's it."
   ]
  },
  {
   "cell_type": "markdown",
   "metadata": {},
   "source": [
    "---"
   ]
  },
  {
   "cell_type": "markdown",
   "metadata": {},
   "source": [
    "## News API\n",
    "https://newsapi.org\n",
    "\n",
    "Get breaking news headlines, and search for articles from over 30,000 news sources and blogs. Similar to the nytimes api we can query for topics we are interested in or just get from all source the top headlines from the past 30 days.\n",
    "\n",
    "We will get the unformatted content of the article, where available. The content is truncated to 260 characters for the developer plan users, but if you are willing to pay we could get the full content."
   ]
  },
  {
   "cell_type": "code",
   "execution_count": 4,
   "metadata": {},
   "outputs": [
    {
     "name": "stdout",
     "output_type": "stream",
     "text": [
      "['abc-news', 'al-jazeera-english', 'ars-technica', 'associated-press', 'axios', 'bleacher-report', 'bloomberg', 'breitbart-news', 'business-insider', 'buzzfeed', 'cbs-news', 'cnbc', 'cnn', 'crypto-coins-news', 'engadget', 'entertainment-weekly', 'espn', 'espn-cric-info', 'fortune', 'fox-news', 'fox-sports', 'google-news', 'hacker-news', 'ign', 'mashable', 'medical-news-today', 'msnbc', 'mtv-news', 'national-geographic', 'national-review', 'nbc-news', 'new-scientist', 'newsweek', 'new-york-magazine', 'next-big-future', 'nfl-news', 'nhl-news', 'politico', 'polygon', 'recode', 'reddit-r-all', 'reuters', 'techcrunch', 'techradar', 'the-american-conservative', 'the-hill', 'the-huffington-post', 'the-new-york-times', 'the-next-web', 'the-verge', 'the-wall-street-journal', 'the-washington-post', 'the-washington-times', 'time', 'usa-today', 'vice-news', 'wired']\n"
     ]
    }
   ],
   "source": [
    "# Initialize\n",
    "newsapi = NewsApiClient(api_key = tokens['newsapi'])\n",
    "sources = newsapi.get_sources(language='en', country='us')\n",
    "\n",
    "news_sources = [sources['sources'][i]['id'] for i, source in enumerate(sources['sources'])]\n",
    "print(news_sources)"
   ]
  },
  {
   "cell_type": "code",
   "execution_count": 5,
   "metadata": {},
   "outputs": [
    {
     "name": "stdout",
     "output_type": "stream",
     "text": [
      "Number of source: 57\n"
     ]
    }
   ],
   "source": [
    "print('Number of source: {}'.format(len(news_sources)))"
   ]
  },
  {
   "cell_type": "markdown",
   "metadata": {},
   "source": [
    "Let us toy around a little and see what results we will get search for \"Border\" and \"Wall\"."
   ]
  },
  {
   "cell_type": "code",
   "execution_count": 6,
   "metadata": {},
   "outputs": [
    {
     "name": "stdout",
     "output_type": "stream",
     "text": [
      "Total number of results: 147791\n"
     ]
    }
   ],
   "source": [
    "# define start date\n",
    "start_year = 2019\n",
    "start_month = 2\n",
    "start_day = 24\n",
    "\n",
    "# define date\n",
    "date = datetime.date(year = start_year, month = start_month, day = start_day)\n",
    "sources = ', '.join(news_sources)\n",
    "all_articles = newsapi.get_everything(sources=sources, from_param=str(date), sort_by='relevancy')\n",
    "print('Total number of results: {}'.format(all_articles['totalResults']))  "
   ]
  },
  {
   "cell_type": "markdown",
   "metadata": {},
   "source": [
    "Let us search for everything possible in all english news sources in the US and sort it by relevance."
   ]
  },
  {
   "cell_type": "code",
   "execution_count": null,
   "metadata": {},
   "outputs": [],
   "source": [
    "json_file_path = 'newsapi_data'\n",
    "        \n",
    "with tqdm() as progress:\n",
    "    for source in news_sources:\n",
    "        # we should set the range to the maximum possible number based on the total results devided by page_size\n",
    "        # articles = newsapi.get_everything(sources=source, from_param=str(date), sort_by='relevancy', page_size=100)\n",
    "        # articles['totalResults'] // 100 + 1\n",
    "        for page in range(1, 3):\n",
    "            articles = newsapi.get_everything(sources=source, from_param=str(date), sort_by='relevancy', page_size=100, page=page)\n",
    "\n",
    "            try:\n",
    "                indexes = [i for i, v in enumerate(articles['articles']) if articles['articles'][i]['content'] is None]\n",
    "                for index in sorted(indexes, reverse=True):\n",
    "                    del articles['articles'][index]\n",
    "\n",
    "                date_str = date.strftime(\"%Y%m%d\")\n",
    "                filename = '_'.join([source, date_str])\n",
    "                json_file_name = get_json_file(filename, page, json_file_path)\n",
    "                \n",
    "                with open(json_file_name, 'w+') as f:\n",
    "                    f.write(ujson.dumps(articles) + '\\n')\n",
    "                    f.close()\n",
    "                    \n",
    "            except Exception as e:\n",
    "                print(e)\n",
    "                \n",
    "        progress.update()"
   ]
  },
  {
   "cell_type": "code",
   "execution_count": 13,
   "metadata": {},
   "outputs": [
    {
     "name": "stdout",
     "output_type": "stream",
     "text": [
      "{'author': 'Katherine Chiglinsky, Michelle Kim',\n",
      " 'content': 'Judging how Warren Buffett’s Berkshire Hathaway Inc. ended 2018 '\n",
      "            'very much depended on one’s preferred metric.\\r\\n'\n",
      "            'The company posted a staggering net loss of $25 billion in the '\n",
      "            'fourth quarter, the biggest loss in its history. That was largely '\n",
      "            'due to a new accoun… [+4462 chars]',\n",
      " 'description': 'Judging how Warren Buffett’s Berkshire Hathaway Inc. ended '\n",
      "                '2018 very much depended on one’s preferred metric.',\n",
      " 'publishedAt': '2019-02-24T17:31:52Z',\n",
      " 'source': {'id': 'bloomberg', 'name': 'Bloomberg'},\n",
      " 'title': \"Buffett's Stock Losses and Key Takeaways From Berkshire Results\",\n",
      " 'url': 'https://www.bloomberg.com/news/articles/2019-02-24/buffett-s-stock-losses-and-key-takeaways-from-berkshire-results',\n",
      " 'urlToImage': 'https://assets.bwbx.io/images/users/iqjWHBFdfxIU/iBAm0Fw91hMc/v0/1200x800.jpg'}\n"
     ]
    }
   ],
   "source": [
    "with open('newsapi_data/bloomberg_20190224.1.json') as f:\n",
    "    data = json.load(f)\n",
    "    pprint(data['articles'][0])"
   ]
  },
  {
   "cell_type": "markdown",
   "metadata": {},
   "source": [
    "Furthermore we could define our query, as well as the domains we are interested in. For example:"
   ]
  },
  {
   "cell_type": "code",
   "execution_count": 15,
   "metadata": {},
   "outputs": [
    {
     "name": "stdout",
     "output_type": "stream",
     "text": [
      "{'status': 'error', 'code': 'rateLimited', 'message': 'You have made too many requests recently. Developer accounts are limited to 1,000 requests over a 24 hour period (250 requests available every 6 hours). Please upgrade to a paid plan if you need more requests.'}\n"
     ]
    }
   ],
   "source": [
    "url = ('https://newsapi.org/v2/everything?'\n",
    "       'q=Border+Wall&'\n",
    "       'domains=wsj.com,nytimes.com&'\n",
    "       'from=2019-03-24&'\n",
    "       'sortBy=popularity&'\n",
    "       'apiKey=%s' % tokens['newsapi'])\n",
    "\n",
    "response = requests.get(url)\n",
    "print(response.json()['articles'][0]['content'])"
   ]
  },
  {
   "cell_type": "markdown",
   "metadata": {},
   "source": [
    "News API, if we would pay for it, would be a great tool to gather all sorts of content. Similar to the way the nytimes api works but faster. And we can get content from the nytimes via it `domains` attribute as well."
   ]
  },
  {
   "cell_type": "markdown",
   "metadata": {},
   "source": [
    "---"
   ]
  },
  {
   "cell_type": "markdown",
   "metadata": {},
   "source": [
    "## webhose.io"
   ]
  },
  {
   "cell_type": "markdown",
   "metadata": {},
   "source": [
    "Another possiblity I found is [webhose](webhose.io). Let us explore how they work and what kind of results we will get back from them."
   ]
  },
  {
   "cell_type": "markdown",
   "metadata": {},
   "source": [
    "### API Plyground"
   ]
  },
  {
   "cell_type": "markdown",
   "metadata": {},
   "source": [
    "Here we have two options to do the scraping. The first and most officious work flow, webhose offers a playground area to fine tune you search and copy and paste the output given including python, java, objective-c and ruby. \n",
    "\n",
    "In the example below we search news in the US for the past 30 days, which returns over 2 million articles."
   ]
  },
  {
   "cell_type": "code",
   "execution_count": 3,
   "metadata": {},
   "outputs": [
    {
     "name": "stdout",
     "output_type": "stream",
     "text": [
      "Childish Gambino makes Grammy history CNN News February 11, 2019\n",
      "Childish Gambino’s “This Is America” won Grammys for song and record of the year on Sunday, becoming the first rap song to win the prestigious awards.\n",
      "The artist — also known as the mutitalented Donald Glover — did not attend the event and reportedly declined an invitation to perform at the Grammys.\n",
      "“This Is America” beat out “Shallow,”“God’s Plan” and other big hits. The Grammy for song of the year honors song writers, while record of the year goes to the recording artist.\n",
      "The song caused a stir last May when Gambino released its ambitious video, which was full of racial symbolism.\n",
      "Related: ‘This Is America’: The Childish Gambino video explained\n",
      "The Recording Academy has made an effort to diversify its membership amid complaints the Grammys have frequently failed to recognize rap and hip-hop artists in the major categories.\n",
      "Earlier this week in an interview with the New York Times , longtime Grammy producer Ken Ehrlich acknowledged, “We continue to have a problem in the hip-hop world.”\n",
      "It’s unclear if Childish Gambino’s wins on Sunday change that. CNN News\n",
      "\n",
      "Published at 2019-02-11T04:49:00.000+02:00 \n",
      "\n",
      "Number of results found: 2387654\n"
     ]
    }
   ],
   "source": [
    "import webhoseio\n",
    "\n",
    "webhoseio.config(token=tokens['webhoseio'])\n",
    "query_params = {\n",
    "    \"q\": \"language:english is_first:true site_type:news thread.country:US site_category:media\",\n",
    "    \"ts\": \"1549870120476\",\n",
    "    \"sort\": \"crawled\"\n",
    "}\n",
    "output = webhoseio.query(\"filterWebContent\", query_params)\n",
    "with open('webhose_query.json', 'w') as outfile:\n",
    "    json.dump(output, outfile)\n",
    "\n",
    "# Print the text of the first post\n",
    "print(output['posts'][0]['text'] + '\\n')  \n",
    "# Print the text of the first post publication date\n",
    "print('Published at {} \\n'.format(output['posts'][0]['published']))\n",
    "# Print the amount of results found\n",
    "print('Number of results found: {}'.format(output['totalResults']))"
   ]
  },
  {
   "cell_type": "markdown",
   "metadata": {},
   "source": [
    "Our query found over 2 million results for the past 30 days (given as ts), which is a lot. We can narrow down our result by changing the query string. But then we are still have to know of what category the url is. So lets focus on the list provided by opensource.co."
   ]
  },
  {
   "cell_type": "code",
   "execution_count": 12,
   "metadata": {},
   "outputs": [],
   "source": [
    "df = pd.read_csv('url_sources.csv')"
   ]
  },
  {
   "cell_type": "markdown",
   "metadata": {},
   "source": [
    "### Python API"
   ]
  },
  {
   "cell_type": "markdown",
   "metadata": {},
   "source": [
    "Below we are using the api directly in python and collect the content from the out list of url's. "
   ]
  },
  {
   "cell_type": "code",
   "execution_count": 13,
   "metadata": {},
   "outputs": [],
   "source": [
    "# Setting the relative location of the text files\n",
    "resources_dir = 'url_data'\n",
    "\n",
    "def collect(filename, query):\n",
    "    lines = set()\n",
    "\n",
    "    try:\n",
    "        # Collect the data from webhose.io with the given query\n",
    "        response = webhose.search(query)\n",
    "    except Exception:\n",
    "        print('Failed to access: {}'.format(query.split(':')[-1]))\n",
    "        return\n",
    "    \n",
    "    next_responce = 1\n",
    "    while len(response.posts) > 0 and next_responce < 11:\n",
    "        # Go over the list of posts returned from the response\n",
    "        for post in response.posts:\n",
    "            # Verify that the length of the text is not too short\n",
    "            if len(post.text) > 50:\n",
    "                # Extracting the text from the post object and clean it\n",
    "                text = post.text.replace('\\n', ' ').replace('\\t', ' ')\n",
    "                \n",
    "                # add the post-text to the lines we are going to save in the text file\n",
    "                lines.add(text)\n",
    "                \n",
    "        time.sleep(6)\n",
    "        print('Getting %s' % response.next)\n",
    "        # Request the next 100 results from webhose.io\n",
    "        response = response.get_next()\n",
    "        next_responce += 1\n",
    "\n",
    "    # Create the text file\n",
    "    with open(os.path.join(resources_dir, filename + '.txt'), 'a+') as f:\n",
    "        for line in lines:\n",
    "            f.write('%s\\n' % line)\n"
   ]
  },
  {
   "cell_type": "code",
   "execution_count": 14,
   "metadata": {
    "collapsed": true
   },
   "outputs": [
    {
     "name": "stdout",
     "output_type": "stream",
     "text": [
      "Getting http://webhose.io/search?token=309cd3ce-a298-4970-83f3-8a698919133b&format=html&ts=1552260620007&q=language%3Aenglish+site%3Aamericanthinker.com\n",
      "Getting http://webhose.io/search?token=309cd3ce-a298-4970-83f3-8a698919133b&format=html&ts=1552376514024&q=language%3Aenglish+site%3Aamericanthinker.com\n",
      "Getting http://webhose.io/search?token=309cd3ce-a298-4970-83f3-8a698919133b&format=html&ts=1552376521020&q=language%3Aenglish+site%3Aamericanthinker.com\n",
      "Getting http://webhose.io/search?token=309cd3ce-a298-4970-83f3-8a698919133b&format=html&ts=1552376532002&q=language%3Aenglish+site%3Aamericanthinker.com\n",
      "Getting http://webhose.io/search?token=309cd3ce-a298-4970-83f3-8a698919133b&format=html&ts=1552376543005&q=language%3Aenglish+site%3Aamericanthinker.com\n",
      "Getting http://webhose.io/search?token=309cd3ce-a298-4970-83f3-8a698919133b&format=html&ts=1552376562002&q=language%3Aenglish+site%3Aamericanthinker.com\n",
      "Getting http://webhose.io/search?token=309cd3ce-a298-4970-83f3-8a698919133b&format=html&ts=1552376595074&q=language%3Aenglish+site%3Aamericanthinker.com\n",
      "Getting http://webhose.io/search?token=309cd3ce-a298-4970-83f3-8a698919133b&format=html&ts=1552379631027&q=language%3Aenglish+site%3Aamericanthinker.com\n",
      "Getting http://webhose.io/search?token=309cd3ce-a298-4970-83f3-8a698919133b&format=html&ts=1552469049015&q=language%3Aenglish+site%3Aamericanthinker.com\n",
      "Getting http://webhose.io/search?token=309cd3ce-a298-4970-83f3-8a698919133b&format=html&ts=1552469052021&q=language%3Aenglish+site%3Aamericanthinker.com\n",
      "Getting http://webhose.io/search?token=309cd3ce-a298-4970-83f3-8a698919133b&format=html&ts=1552450467009&q=language%3Aenglish+site%3Aantiwar.com\n",
      "Getting http://webhose.io/search?token=309cd3ce-a298-4970-83f3-8a698919133b&format=html&ts=1552465089016&q=language%3Aenglish+site%3Adefenddemocracy.press\n",
      "Getting http://webhose.io/search?token=309cd3ce-a298-4970-83f3-8a698919133b&format=html&ts=1552474640058&q=language%3Aenglish+site%3Aendtime.com\n",
      "Getting http://webhose.io/search?token=309cd3ce-a298-4970-83f3-8a698919133b&format=html&ts=1552470081000&q=language%3Aenglish+site%3AFreeBeacon.com\n",
      "Getting http://webhose.io/search?token=309cd3ce-a298-4970-83f3-8a698919133b&format=html&ts=1552449567033&q=language%3Aenglish+site%3AFreedomsPhoenix.com\n",
      "Getting http://webhose.io/search?token=309cd3ce-a298-4970-83f3-8a698919133b&format=html&ts=1552449680017&q=language%3Aenglish+site%3AFreedomsPhoenix.com\n",
      "Getting http://webhose.io/search?token=309cd3ce-a298-4970-83f3-8a698919133b&format=html&ts=1552452695000&q=language%3Aenglish+site%3Agulagbound.com\n",
      "Getting http://webhose.io/search?token=309cd3ce-a298-4970-83f3-8a698919133b&format=html&ts=1552461611031&q=language%3Aenglish+site%3Aheartland.org\n",
      "Getting http://webhose.io/search?token=309cd3ce-a298-4970-83f3-8a698919133b&format=html&ts=1552460283028&q=language%3Aenglish+site%3Aintrepidreport.com\n",
      "Getting http://webhose.io/search?token=309cd3ce-a298-4970-83f3-8a698919133b&format=html&ts=1552359814000&q=language%3Aenglish+site%3Ainvestmentwatchblog.com\n",
      "Getting http://webhose.io/search?token=309cd3ce-a298-4970-83f3-8a698919133b&format=html&ts=1552480810004&q=language%3Aenglish+site%3Ainvestmentwatchblog.com\n",
      "Getting http://webhose.io/search?token=309cd3ce-a298-4970-83f3-8a698919133b&format=html&ts=1552474905002&q=language%3Aenglish+site%3Ajournal-neo.org\n",
      "Getting http://webhose.io/search?token=309cd3ce-a298-4970-83f3-8a698919133b&format=html&ts=1552433075044&q=language%3Aenglish+site%3Akatehon.com\n",
      "Getting http://webhose.io/search?token=309cd3ce-a298-4970-83f3-8a698919133b&format=html&ts=1552454767045&q=language%3Aenglish+site%3Amoonofalabama.org\n",
      "Getting http://webhose.io/search?token=309cd3ce-a298-4970-83f3-8a698919133b&format=html&ts=1552451216049&q=language%3Aenglish+site%3Aoff-guardian.org\n",
      "Getting http://webhose.io/search?token=309cd3ce-a298-4970-83f3-8a698919133b&format=html&ts=1552460833005&q=language%3Aenglish+site%3Aorientalreview.org\n",
      "Getting http://webhose.io/search?token=309cd3ce-a298-4970-83f3-8a698919133b&format=html&ts=1552265717003&q=language%3Aenglish+site%3Apatriotnewsdaily.com\n",
      "Getting http://webhose.io/search?token=309cd3ce-a298-4970-83f3-8a698919133b&format=html&ts=1552443872002&q=language%3Aenglish+site%3Apatriotrising.com\n",
      "Getting http://webhose.io/search?token=309cd3ce-a298-4970-83f3-8a698919133b&format=html&ts=1552429076017&q=language%3Aenglish+site%3Apravdareport.com\n",
      "Getting http://webhose.io/search?token=309cd3ce-a298-4970-83f3-8a698919133b&format=html&ts=1552376150000&q=language%3Aenglish+site%3Apresstv.com\n",
      "Getting http://webhose.io/search?token=309cd3ce-a298-4970-83f3-8a698919133b&format=html&ts=1552476534014&q=language%3Aenglish+site%3Apresstv.com\n",
      "Getting http://webhose.io/search?token=309cd3ce-a298-4970-83f3-8a698919133b&format=html&ts=1552481011036&q=language%3Aenglish+site%3Apresstv.ir\n",
      "Getting http://webhose.io/search?token=309cd3ce-a298-4970-83f3-8a698919133b&format=html&ts=1552311264004&q=language%3Aenglish+site%3Asputniknews.com\n",
      "Getting http://webhose.io/search?token=309cd3ce-a298-4970-83f3-8a698919133b&format=html&ts=1552372344014&q=language%3Aenglish+site%3Asputniknews.com\n",
      "Getting http://webhose.io/search?token=309cd3ce-a298-4970-83f3-8a698919133b&format=html&ts=1552418427000&q=language%3Aenglish+site%3Asputniknews.com\n",
      "Getting http://webhose.io/search?token=309cd3ce-a298-4970-83f3-8a698919133b&format=html&ts=1552478701000&q=language%3Aenglish+site%3Asputniknews.com\n",
      "Getting http://webhose.io/search?token=309cd3ce-a298-4970-83f3-8a698919133b&format=html&ts=1552480544037&q=language%3Aenglish+site%3Asputniknews.com\n",
      "Getting http://webhose.io/search?token=309cd3ce-a298-4970-83f3-8a698919133b&format=html&ts=1552455310000&q=language%3Aenglish+site%3Athenewamerican.com\n",
      "Getting http://webhose.io/search?token=309cd3ce-a298-4970-83f3-8a698919133b&format=html&ts=1552347322011&q=language%3Aenglish+site%3Aunclesamsmisguidedchildren.com\n",
      "Getting http://webhose.io/search?token=309cd3ce-a298-4970-83f3-8a698919133b&format=html&ts=1552451565028&q=language%3Aenglish+site%3AUSAWatchdog.com\n",
      "Getting http://webhose.io/search?token=309cd3ce-a298-4970-83f3-8a698919133b&format=html&ts=1552481028002&q=language%3Aenglish+site%3Avdare.com\n",
      "Getting http://webhose.io/search?token=309cd3ce-a298-4970-83f3-8a698919133b&format=html&ts=1552468060027&q=language%3Aenglish+site%3Awashingtonsblog.com\n",
      "Getting http://webhose.io/search?token=309cd3ce-a298-4970-83f3-8a698919133b&format=html&ts=1552478101001&q=language%3Aenglish+site%3Ablacklistednews.com\n",
      "Getting http://webhose.io/search?token=309cd3ce-a298-4970-83f3-8a698919133b&format=html&ts=1552476582003&q=language%3Aenglish+site%3Aabovetopsecret.com\n",
      "Getting http://webhose.io/search?token=309cd3ce-a298-4970-83f3-8a698919133b&format=html&ts=1552463006001&q=language%3Aenglish+site%3Acorbettreport.com\n",
      "Getting http://webhose.io/search?token=309cd3ce-a298-4970-83f3-8a698919133b&format=html&ts=1552463006001&q=language%3Aenglish+site%3Acorbettreport.com\n",
      "Getting http://webhose.io/search?token=309cd3ce-a298-4970-83f3-8a698919133b&format=html&ts=1552429111007&q=language%3Aenglish+site%3Acryptogon.com\n",
      "Getting http://webhose.io/search?token=309cd3ce-a298-4970-83f3-8a698919133b&format=html&ts=1552443344014&q=language%3Aenglish+site%3Afellowshipoftheminds.com\n",
      "Getting http://webhose.io/search?token=309cd3ce-a298-4970-83f3-8a698919133b&format=html&ts=1552455548028&q=language%3Aenglish+site%3Afromthetrenchesworldreport.com\n",
      "Getting http://webhose.io/search?token=309cd3ce-a298-4970-83f3-8a698919133b&format=html&ts=1552346715063&q=language%3Aenglish+site%3Agangstergovernment.com\n",
      "Getting http://webhose.io/search?token=309cd3ce-a298-4970-83f3-8a698919133b&format=html&ts=1552329853041&q=language%3Aenglish+site%3Agovtslaves.info\n",
      "Getting http://webhose.io/search?token=309cd3ce-a298-4970-83f3-8a698919133b&format=html&ts=1552449613016&q=language%3Aenglish+site%3Agreanvillepost.com\n",
      "Getting http://webhose.io/search?token=309cd3ce-a298-4970-83f3-8a698919133b&format=html&ts=1552302013006&q=language%3Aenglish+site%3Ahangthebankers.com\n",
      "Getting http://webhose.io/search?token=309cd3ce-a298-4970-83f3-8a698919133b&format=html&ts=1552449611017&q=language%3Aenglish+site%3Ahumansarefree.com\n",
      "Getting http://webhose.io/search?token=309cd3ce-a298-4970-83f3-8a698919133b&format=html&ts=1552477344030&q=language%3Aenglish+site%3Ainfiniteunknown.net\n",
      "Getting http://webhose.io/search?token=309cd3ce-a298-4970-83f3-8a698919133b&format=html&ts=1552469537000&q=language%3Aenglish+site%3Ainformationclearinghouse.info\n",
      "Getting http://webhose.io/search?token=309cd3ce-a298-4970-83f3-8a698919133b&format=html&ts=1552419684005&q=language%3Aenglish+site%3Aintellihub.com\n",
      "Getting http://webhose.io/search?token=309cd3ce-a298-4970-83f3-8a698919133b&format=html&ts=1552461900004&q=language%3Aenglish+site%3Ainvestmentresearchdynamics.com\n",
      "Getting http://webhose.io/search?token=309cd3ce-a298-4970-83f3-8a698919133b&format=html&ts=1552479877013&q=language%3Aenglish+site%3Ajihadwatch.org\n",
      "Getting http://webhose.io/search?token=309cd3ce-a298-4970-83f3-8a698919133b&format=html&ts=1552442677002&q=language%3Aenglish+site%3Aneonnettle.com\n",
      "Getting http://webhose.io/search?token=309cd3ce-a298-4970-83f3-8a698919133b&format=html&ts=1552457271000&q=language%3Aenglish+site%3Anowtheendbegins.com\n",
      "Getting http://webhose.io/search?token=309cd3ce-a298-4970-83f3-8a698919133b&format=html&ts=1552432146005&q=language%3Aenglish+site%3AOffGridSurvival.com\n",
      "Getting http://webhose.io/search?token=309cd3ce-a298-4970-83f3-8a698919133b&format=html&ts=1552315895020&q=language%3Aenglish+site%3Aprepperwebsite.com\n",
      "Getting http://webhose.io/search?token=309cd3ce-a298-4970-83f3-8a698919133b&format=html&ts=1552358444004&q=language%3Aenglish+site%3Arumormillnews.com\n",
      "Getting http://webhose.io/search?token=309cd3ce-a298-4970-83f3-8a698919133b&format=html&ts=1552403498005&q=language%3Aenglish+site%3Athedailysheeple.com\n",
      "Getting http://webhose.io/search?token=309cd3ce-a298-4970-83f3-8a698919133b&format=html&ts=1552464633029&q=language%3Aenglish+site%3Atheeconomiccollapseblog.com\n",
      "Getting http://webhose.io/search?token=309cd3ce-a298-4970-83f3-8a698919133b&format=html&ts=1552471234012&q=language%3Aenglish+site%3Athelibertybeacon.com\n",
      "Getting http://webhose.io/search?token=309cd3ce-a298-4970-83f3-8a698919133b&format=html&ts=1552480129036&q=language%3Aenglish+site%3Athephaser.com\n",
      "Getting http://webhose.io/search?token=309cd3ce-a298-4970-83f3-8a698919133b&format=html&ts=1552475038008&q=language%3Aenglish+site%3Awhatreallyhappened.com\n",
      "Getting http://webhose.io/search?token=309cd3ce-a298-4970-83f3-8a698919133b&format=html&ts=1552475496001&q=language%3Aenglish+site%3Awhowhatwhy.org\n",
      "Getting http://webhose.io/search?token=309cd3ce-a298-4970-83f3-8a698919133b&format=html&ts=1552317029008&q=language%3Aenglish+site%3Azerohedge.com\n",
      "Getting http://webhose.io/search?token=309cd3ce-a298-4970-83f3-8a698919133b&format=html&ts=1552399750012&q=language%3Aenglish+site%3Azerohedge.com\n",
      "Getting http://webhose.io/search?token=309cd3ce-a298-4970-83f3-8a698919133b&format=html&ts=1552480494004&q=language%3Aenglish+site%3Azerohedge.com\n",
      "Getting http://webhose.io/search?token=309cd3ce-a298-4970-83f3-8a698919133b&format=html&ts=1552480497024&q=language%3Aenglish+site%3Azerohedge.com\n",
      "Getting http://webhose.io/search?token=309cd3ce-a298-4970-83f3-8a698919133b&format=html&ts=1552478519019&q=language%3Aenglish+site%3Acoed.com\n",
      "Getting http://webhose.io/search?token=309cd3ce-a298-4970-83f3-8a698919133b&format=html&ts=1552439929013&q=language%3Aenglish+site%3Aconservativedailypost.com\n",
      "Getting http://webhose.io/search?token=309cd3ce-a298-4970-83f3-8a698919133b&format=html&ts=1552441279004&q=language%3Aenglish+site%3Adailyheadlines.net\n",
      "Getting http://webhose.io/search?token=309cd3ce-a298-4970-83f3-8a698919133b&format=html&ts=1552409987013&q=language%3Aenglish+site%3Afakingnews.com\n",
      "Getting http://webhose.io/search?token=309cd3ce-a298-4970-83f3-8a698919133b&format=html&ts=1552474062041&q=language%3Aenglish+site%3Anewsfrompolitics.com\n",
      "Getting http://webhose.io/search?token=309cd3ce-a298-4970-83f3-8a698919133b&format=html&ts=1552258021031&q=language%3Aenglish+site%3Aonepoliticalplaza.com\n",
      "Getting http://webhose.io/search?token=309cd3ce-a298-4970-83f3-8a698919133b&format=html&ts=1552299170003&q=language%3Aenglish+site%3Aonepoliticalplaza.com\n",
      "Getting http://webhose.io/search?token=309cd3ce-a298-4970-83f3-8a698919133b&format=html&ts=1552343197004&q=language%3Aenglish+site%3Aonepoliticalplaza.com\n",
      "Getting http://webhose.io/search?token=309cd3ce-a298-4970-83f3-8a698919133b&format=html&ts=1552343677012&q=language%3Aenglish+site%3Aonepoliticalplaza.com\n",
      "Getting http://webhose.io/search?token=309cd3ce-a298-4970-83f3-8a698919133b&format=html&ts=1552418111009&q=language%3Aenglish+site%3Aonepoliticalplaza.com\n",
      "Getting http://webhose.io/search?token=309cd3ce-a298-4970-83f3-8a698919133b&format=html&ts=1552418677003&q=language%3Aenglish+site%3Aonepoliticalplaza.com\n",
      "Getting http://webhose.io/search?token=309cd3ce-a298-4970-83f3-8a698919133b&format=html&ts=1552457655012&q=language%3Aenglish+site%3Aonepoliticalplaza.com\n",
      "Getting http://webhose.io/search?token=309cd3ce-a298-4970-83f3-8a698919133b&format=html&ts=1552458337023&q=language%3Aenglish+site%3Aonepoliticalplaza.com\n",
      "Getting http://webhose.io/search?token=309cd3ce-a298-4970-83f3-8a698919133b&format=html&ts=1552458360002&q=language%3Aenglish+site%3Aonepoliticalplaza.com\n",
      "Getting http://webhose.io/search?token=309cd3ce-a298-4970-83f3-8a698919133b&format=html&ts=1552452800003&q=language%3Aenglish+site%3Atherightscoop.com\n",
      "Getting http://webhose.io/search?token=309cd3ce-a298-4970-83f3-8a698919133b&format=html&ts=1552417346000&q=language%3Aenglish+site%3Athetruthseeker.co.uk\n",
      "Getting http://webhose.io/search?token=309cd3ce-a298-4970-83f3-8a698919133b&format=html&ts=1552266658023&q=language%3Aenglish+site%3Athreepercenternation.com\n",
      "Getting http://webhose.io/search?token=309cd3ce-a298-4970-83f3-8a698919133b&format=html&ts=1552373876000&q=language%3Aenglish+site%3Aundergroundworldnews.com\n",
      "Getting http://webhose.io/search?token=309cd3ce-a298-4970-83f3-8a698919133b&format=html&ts=1552250854000&q=language%3Aenglish+site%3Ausahitman.com\n",
      "Getting http://webhose.io/search?token=309cd3ce-a298-4970-83f3-8a698919133b&format=html&ts=1552440518044&q=language%3Aenglish+site%3Aancient-code.com\n",
      "Getting http://webhose.io/search?token=309cd3ce-a298-4970-83f3-8a698919133b&format=html&ts=1552447341005&q=language%3Aenglish+site%3Acollective-evolution.com\n",
      "Getting http://webhose.io/search?token=309cd3ce-a298-4970-83f3-8a698919133b&format=html&ts=1552271737024&q=language%3Aenglish+site%3Aconsciouslifenews.com\n",
      "Getting http://webhose.io/search?token=309cd3ce-a298-4970-83f3-8a698919133b&format=html&ts=1552372237126&q=language%3Aenglish+site%3Ageoengineeringwatch.org\n",
      "Getting http://webhose.io/search?token=309cd3ce-a298-4970-83f3-8a698919133b&format=html&ts=1552474055015&q=language%3Aenglish+site%3AGreenMedInfo.com\n",
      "Getting http://webhose.io/search?token=309cd3ce-a298-4970-83f3-8a698919133b&format=html&ts=1552445241017&q=language%3Aenglish+site%3Ahealthimpactnews.com\n",
      "Getting http://webhose.io/search?token=309cd3ce-a298-4970-83f3-8a698919133b&format=html&ts=1552365721021&q=language%3Aenglish+site%3Ain5d.com\n",
      "Getting http://webhose.io/search?token=309cd3ce-a298-4970-83f3-8a698919133b&format=html&ts=1552447355022&q=language%3Aenglish+site%3Arealfarmacy.com\n",
      "Getting http://webhose.io/search?token=309cd3ce-a298-4970-83f3-8a698919133b&format=html&ts=1552442431010&q=language%3Aenglish+site%3Aamericanprogress.org\n",
      "Getting http://webhose.io/search?token=309cd3ce-a298-4970-83f3-8a698919133b&format=html&ts=1552227858000&q=language%3Aenglish+site%3Abreitbart.com\n",
      "Getting http://webhose.io/search?token=309cd3ce-a298-4970-83f3-8a698919133b&format=html&ts=1552227860018&q=language%3Aenglish+site%3Abreitbart.com\n",
      "Getting http://webhose.io/search?token=309cd3ce-a298-4970-83f3-8a698919133b&format=html&ts=1552227863023&q=language%3Aenglish+site%3Abreitbart.com\n",
      "Getting http://webhose.io/search?token=309cd3ce-a298-4970-83f3-8a698919133b&format=html&ts=1552227874007&q=language%3Aenglish+site%3Abreitbart.com\n",
      "Getting http://webhose.io/search?token=309cd3ce-a298-4970-83f3-8a698919133b&format=html&ts=1552227876034&q=language%3Aenglish+site%3Abreitbart.com\n",
      "Getting http://webhose.io/search?token=309cd3ce-a298-4970-83f3-8a698919133b&format=html&ts=1552228483053&q=language%3Aenglish+site%3Abreitbart.com\n",
      "Getting http://webhose.io/search?token=309cd3ce-a298-4970-83f3-8a698919133b&format=html&ts=1552229044013&q=language%3Aenglish+site%3Abreitbart.com\n",
      "Getting http://webhose.io/search?token=309cd3ce-a298-4970-83f3-8a698919133b&format=html&ts=1552231180044&q=language%3Aenglish+site%3Abreitbart.com\n",
      "Getting http://webhose.io/search?token=309cd3ce-a298-4970-83f3-8a698919133b&format=html&ts=1552233768005&q=language%3Aenglish+site%3Abreitbart.com\n",
      "Getting http://webhose.io/search?token=309cd3ce-a298-4970-83f3-8a698919133b&format=html&ts=1552236417018&q=language%3Aenglish+site%3Abreitbart.com\n",
      "Failed to access: cato.org/blog\n",
      "Getting http://webhose.io/search?token=309cd3ce-a298-4970-83f3-8a698919133b&format=html&ts=1552478914001&q=language%3Aenglish+site%3Acity-journal.org\n",
      "Getting http://webhose.io/search?token=309cd3ce-a298-4970-83f3-8a698919133b&format=html&ts=1552431060002&q=language%3Aenglish+site%3Acommentarymagazine.com\n",
      "Getting http://webhose.io/search?token=309cd3ce-a298-4970-83f3-8a698919133b&format=html&ts=1552424238002&q=language%3Aenglish+site%3Acommondreams.org\n",
      "Getting http://webhose.io/search?token=309cd3ce-a298-4970-83f3-8a698919133b&format=html&ts=1552461492013&q=language%3Aenglish+site%3Acommondreams.org\n",
      "Getting http://webhose.io/search?token=309cd3ce-a298-4970-83f3-8a698919133b&format=html&ts=1552465934006&q=language%3Aenglish+site%3Acountercurrents.org\n",
      "Getting http://webhose.io/search?token=309cd3ce-a298-4970-83f3-8a698919133b&format=html&ts=1552326365044&q=language%3Aenglish+site%3Adissentmagazine.org\n",
      "Getting http://webhose.io/search?token=309cd3ce-a298-4970-83f3-8a698919133b&format=html&ts=1552461764012&q=language%3Aenglish+site%3Aecowatch.com\n",
      "Getting http://webhose.io/search?token=309cd3ce-a298-4970-83f3-8a698919133b&format=html&ts=1552406100008&q=language%3Aenglish+site%3Afreedomworks.org\n",
      "Getting http://webhose.io/search?token=309cd3ce-a298-4970-83f3-8a698919133b&format=html&ts=1552353795057&q=language%3Aenglish+site%3Aguardianlv.com\n",
      "Getting http://webhose.io/search?token=309cd3ce-a298-4970-83f3-8a698919133b&format=html&ts=1552477451005&q=language%3Aenglish+site%3Aguardianlv.com\n",
      "Getting http://webhose.io/search?token=309cd3ce-a298-4970-83f3-8a698919133b&format=html&ts=1552467361006&q=language%3Aenglish+site%3Aijr.com\n",
      "Getting http://webhose.io/search?token=309cd3ce-a298-4970-83f3-8a698919133b&format=html&ts=1552423334000&q=language%3Aenglish+site%3Ajacobinmag.com\n",
      "Getting http://webhose.io/search?token=309cd3ce-a298-4970-83f3-8a698919133b&format=html&ts=1552339603003&q=language%3Aenglish+site%3Ajudicialwatch.org\n",
      "Getting http://webhose.io/search?token=309cd3ce-a298-4970-83f3-8a698919133b&format=html&ts=1552357269023&q=language%3Aenglish+site%3Amintpressnews.com\n",
      "Getting http://webhose.io/search?token=309cd3ce-a298-4970-83f3-8a698919133b&format=html&ts=1552438954003&q=language%3Aenglish+site%3Amintpressnews.com\n",
      "Getting http://webhose.io/search?token=309cd3ce-a298-4970-83f3-8a698919133b&format=html&ts=1552480681009&q=language%3Aenglish+site%3Anationalreview.com\n",
      "Getting http://webhose.io/search?token=309cd3ce-a298-4970-83f3-8a698919133b&format=html&ts=1552464435044&q=language%3Aenglish+site%3Anewscorpse.com\n",
      "Getting http://webhose.io/search?token=309cd3ce-a298-4970-83f3-8a698919133b&format=html&ts=1552310826022&q=language%3Aenglish+site%3Aoann.com\n",
      "Getting http://webhose.io/search?token=309cd3ce-a298-4970-83f3-8a698919133b&format=html&ts=1552386350005&q=language%3Aenglish+site%3Aoann.com\n",
      "Getting http://webhose.io/search?token=309cd3ce-a298-4970-83f3-8a698919133b&format=html&ts=1552461949023&q=language%3Aenglish+site%3Aoann.com\n",
      "Getting http://webhose.io/search?token=309cd3ce-a298-4970-83f3-8a698919133b&format=html&ts=1552479578000&q=language%3Aenglish+site%3Aoann.com\n",
      "Getting http://webhose.io/search?token=309cd3ce-a298-4970-83f3-8a698919133b&format=html&ts=1552478875009&q=language%3Aenglish+site%3Aobserver.com\n",
      "Getting http://webhose.io/search?token=309cd3ce-a298-4970-83f3-8a698919133b&format=html&ts=1552417026023&q=language%3Aenglish+site%3AOCCUPY.com\n",
      "Getting http://webhose.io/search?token=309cd3ce-a298-4970-83f3-8a698919133b&format=html&ts=1552479087049&q=language%3Aenglish+site%3Arinf.com\n",
      "Getting http://webhose.io/search?token=309cd3ce-a298-4970-83f3-8a698919133b&format=html&ts=1552440790016&q=language%3Aenglish+site%3Aronpaulinstitute.org\n",
      "Getting http://webhose.io/search?token=309cd3ce-a298-4970-83f3-8a698919133b&format=html&ts=1552475536012&q=language%3Aenglish+site%3Atheblaze.com\n",
      "Getting http://webhose.io/search?token=309cd3ce-a298-4970-83f3-8a698919133b&format=html&ts=1552480202014&q=language%3Aenglish+site%3Atheintercept.com\n",
      "Getting http://webhose.io/search?token=309cd3ce-a298-4970-83f3-8a698919133b&format=html&ts=1552478530007&q=language%3Aenglish+site%3Athinkprogress.org\n",
      "Getting http://webhose.io/search?token=309cd3ce-a298-4970-83f3-8a698919133b&format=html&ts=1552473571005&q=language%3Aenglish+site%3Ayellowhammernews.com\n",
      "Getting http://webhose.io/search?token=309cd3ce-a298-4970-83f3-8a698919133b&format=html&ts=1552457746014&q=language%3Aenglish+site%3Achristianpost.com\n",
      "Getting http://webhose.io/search?token=309cd3ce-a298-4970-83f3-8a698919133b&format=html&ts=1552436340020&q=language%3Aenglish+site%3Aconsortiumnews.com\n",
      "Getting http://webhose.io/search?token=309cd3ce-a298-4970-83f3-8a698919133b&format=html&ts=1552401933030&q=language%3Aenglish+site%3Anutritionfacts.org\n",
      "Getting http://webhose.io/search?token=309cd3ce-a298-4970-83f3-8a698919133b&format=html&ts=1552435648009&q=language%3Aenglish+site%3Aadobochronicles.com\n",
      "Getting http://webhose.io/search?token=309cd3ce-a298-4970-83f3-8a698919133b&format=html&ts=1552351270015&q=language%3Aenglish+site%3Aglossynews.com\n",
      "Failed to access: newyorker.com/humor\n",
      "Getting http://webhose.io/search?token=309cd3ce-a298-4970-83f3-8a698919133b&format=html&ts=1552265717003&q=language%3Aenglish+site%3Apatriotnewsdaily.com\n",
      "Getting http://webhose.io/search?token=309cd3ce-a298-4970-83f3-8a698919133b&format=html&ts=1552432200003&q=language%3Aenglish+site%3Areductress.com\n",
      "Getting http://webhose.io/search?token=309cd3ce-a298-4970-83f3-8a698919133b&format=html&ts=1552445593031&q=language%3Aenglish+site%3Athebeaverton.com\n",
      "Getting http://webhose.io/search?token=309cd3ce-a298-4970-83f3-8a698919133b&format=html&ts=1552473607018&q=language%3Aenglish+site%3Athedailywtf.com\n",
      "Getting http://webhose.io/search?token=309cd3ce-a298-4970-83f3-8a698919133b&format=html&ts=1552377436015&q=language%3Aenglish+site%3Atheshovel.com.au\n",
      "Getting http://webhose.io/search?token=309cd3ce-a298-4970-83f3-8a698919133b&format=html&ts=1552456967006&q=language%3Aenglish+site%3Athespoof.com\n",
      "Getting http://webhose.io/search?token=309cd3ce-a298-4970-83f3-8a698919133b&format=html&ts=1552344279021&q=language%3Aenglish+site%3AActing-Man.com\n",
      "Getting http://webhose.io/search?token=309cd3ce-a298-4970-83f3-8a698919133b&format=html&ts=1552472057009&q=language%3Aenglish+site%3Aahtribune.com\n",
      "Getting http://webhose.io/search?token=309cd3ce-a298-4970-83f3-8a698919133b&format=html&ts=1552409907023&q=language%3Aenglish+site%3Acnnnext.com\n",
      "Getting http://webhose.io/search?token=309cd3ce-a298-4970-83f3-8a698919133b&format=html&ts=1552440645023&q=language%3Aenglish+site%3ACNSNews.com\n",
      "Getting http://webhose.io/search?token=309cd3ce-a298-4970-83f3-8a698919133b&format=html&ts=1552481768016&q=language%3Aenglish+site%3ACNSNews.com\n",
      "Getting http://webhose.io/search?token=309cd3ce-a298-4970-83f3-8a698919133b&format=html&ts=1552387980027&q=language%3Aenglish+site%3Acoasttocoastam.com\n",
      "Getting http://webhose.io/search?token=309cd3ce-a298-4970-83f3-8a698919133b&format=html&ts=1552481343017&q=language%3Aenglish+site%3ANewsmax.com\n",
      "Getting http://webhose.io/search?token=309cd3ce-a298-4970-83f3-8a698919133b&format=html&ts=1552436005015&q=language%3Aenglish+site%3Ashareblue.com\n",
      "Getting http://webhose.io/search?token=309cd3ce-a298-4970-83f3-8a698919133b&format=html&ts=1552409382005&q=language%3Aenglish+site%3ASovereignMan.com\n",
      "Failed to access: thegoldandoilguy.com/articles\n",
      "Getting http://webhose.io/search?token=309cd3ce-a298-4970-83f3-8a698919133b&format=html&ts=1552404718006&q=language%3Aenglish+site%3AWallStreetOnParade.com\n",
      "Getting http://webhose.io/search?token=309cd3ce-a298-4970-83f3-8a698919133b&format=html&ts=1552341066018&q=language%3Aenglish+site%3Awikileaks.org\n",
      "Getting http://webhose.io/search?token=309cd3ce-a298-4970-83f3-8a698919133b&format=html&ts=1552457024000&q=language%3Aenglish+site%3AWolfStreet.com\n",
      "Getting http://webhose.io/search?token=309cd3ce-a298-4970-83f3-8a698919133b&format=html&ts=1552224363033&q=language%3Aenglish+site%3Ayahoo.com\n",
      "Getting http://webhose.io/search?token=309cd3ce-a298-4970-83f3-8a698919133b&format=html&ts=1552225708023&q=language%3Aenglish+site%3Ayahoo.com\n",
      "Getting http://webhose.io/search?token=309cd3ce-a298-4970-83f3-8a698919133b&format=html&ts=1552226388017&q=language%3Aenglish+site%3Ayahoo.com\n",
      "Getting http://webhose.io/search?token=309cd3ce-a298-4970-83f3-8a698919133b&format=html&ts=1552227020000&q=language%3Aenglish+site%3Ayahoo.com\n",
      "Getting http://webhose.io/search?token=309cd3ce-a298-4970-83f3-8a698919133b&format=html&ts=1552227368013&q=language%3Aenglish+site%3Ayahoo.com\n",
      "Getting http://webhose.io/search?token=309cd3ce-a298-4970-83f3-8a698919133b&format=html&ts=1552227795008&q=language%3Aenglish+site%3Ayahoo.com\n",
      "Getting http://webhose.io/search?token=309cd3ce-a298-4970-83f3-8a698919133b&format=html&ts=1552228061018&q=language%3Aenglish+site%3Ayahoo.com\n",
      "Getting http://webhose.io/search?token=309cd3ce-a298-4970-83f3-8a698919133b&format=html&ts=1552228665008&q=language%3Aenglish+site%3Ayahoo.com\n",
      "Getting http://webhose.io/search?token=309cd3ce-a298-4970-83f3-8a698919133b&format=html&ts=1552229284016&q=language%3Aenglish+site%3Ayahoo.com\n",
      "Getting http://webhose.io/search?token=309cd3ce-a298-4970-83f3-8a698919133b&format=html&ts=1552230252001&q=language%3Aenglish+site%3Ayahoo.com\n",
      "Getting http://webhose.io/search?token=309cd3ce-a298-4970-83f3-8a698919133b&format=html&ts=1552432365000&q=language%3Aenglish+site%3Asfgate.com\n",
      "Getting http://webhose.io/search?token=309cd3ce-a298-4970-83f3-8a698919133b&format=html&ts=1552473911001&q=language%3Aenglish+site%3Ahuffingtonpost.com\n",
      "Getting http://webhose.io/search?token=309cd3ce-a298-4970-83f3-8a698919133b&format=html&ts=1552245860000&q=language%3Aenglish+site%3Amsn.com\n",
      "Getting http://webhose.io/search?token=309cd3ce-a298-4970-83f3-8a698919133b&format=html&ts=1552275756004&q=language%3Aenglish+site%3Amsn.com\n",
      "Getting http://webhose.io/search?token=309cd3ce-a298-4970-83f3-8a698919133b&format=html&ts=1552288467000&q=language%3Aenglish+site%3Amsn.com\n",
      "Getting http://webhose.io/search?token=309cd3ce-a298-4970-83f3-8a698919133b&format=html&ts=1552304145000&q=language%3Aenglish+site%3Amsn.com\n",
      "Getting http://webhose.io/search?token=309cd3ce-a298-4970-83f3-8a698919133b&format=html&ts=1552320784000&q=language%3Aenglish+site%3Amsn.com\n",
      "Getting http://webhose.io/search?token=309cd3ce-a298-4970-83f3-8a698919133b&format=html&ts=1552328805005&q=language%3Aenglish+site%3Amsn.com\n",
      "Getting http://webhose.io/search?token=309cd3ce-a298-4970-83f3-8a698919133b&format=html&ts=1552349740002&q=language%3Aenglish+site%3Amsn.com\n",
      "Getting http://webhose.io/search?token=309cd3ce-a298-4970-83f3-8a698919133b&format=html&ts=1552363867000&q=language%3Aenglish+site%3Amsn.com\n",
      "Getting http://webhose.io/search?token=309cd3ce-a298-4970-83f3-8a698919133b&format=html&ts=1552377483014&q=language%3Aenglish+site%3Amsn.com\n",
      "Getting http://webhose.io/search?token=309cd3ce-a298-4970-83f3-8a698919133b&format=html&ts=1552394985013&q=language%3Aenglish+site%3Amsn.com\n",
      "Getting http://webhose.io/search?token=309cd3ce-a298-4970-83f3-8a698919133b&format=html&ts=1552254275005&q=language%3Aenglish+site%3Abusinessinsider.com\n",
      "Getting http://webhose.io/search?token=309cd3ce-a298-4970-83f3-8a698919133b&format=html&ts=1552288501006&q=language%3Aenglish+site%3Abusinessinsider.com\n",
      "Getting http://webhose.io/search?token=309cd3ce-a298-4970-83f3-8a698919133b&format=html&ts=1552298114016&q=language%3Aenglish+site%3Abusinessinsider.com\n",
      "Getting http://webhose.io/search?token=309cd3ce-a298-4970-83f3-8a698919133b&format=html&ts=1552310521020&q=language%3Aenglish+site%3Abusinessinsider.com\n",
      "Getting http://webhose.io/search?token=309cd3ce-a298-4970-83f3-8a698919133b&format=html&ts=1552316390000&q=language%3Aenglish+site%3Abusinessinsider.com\n",
      "Getting http://webhose.io/search?token=309cd3ce-a298-4970-83f3-8a698919133b&format=html&ts=1552322090005&q=language%3Aenglish+site%3Abusinessinsider.com\n",
      "Getting http://webhose.io/search?token=309cd3ce-a298-4970-83f3-8a698919133b&format=html&ts=1552324650000&q=language%3Aenglish+site%3Abusinessinsider.com\n",
      "Getting http://webhose.io/search?token=309cd3ce-a298-4970-83f3-8a698919133b&format=html&ts=1552333476006&q=language%3Aenglish+site%3Abusinessinsider.com\n",
      "Getting http://webhose.io/search?token=309cd3ce-a298-4970-83f3-8a698919133b&format=html&ts=1552341344004&q=language%3Aenglish+site%3Abusinessinsider.com\n",
      "Getting http://webhose.io/search?token=309cd3ce-a298-4970-83f3-8a698919133b&format=html&ts=1552347837004&q=language%3Aenglish+site%3Abusinessinsider.com\n",
      "Getting http://webhose.io/search?token=309cd3ce-a298-4970-83f3-8a698919133b&format=html&ts=1552242846001&q=language%3Aenglish+site%3Atheguardian.com\n",
      "Getting http://webhose.io/search?token=309cd3ce-a298-4970-83f3-8a698919133b&format=html&ts=1552274867005&q=language%3Aenglish+site%3Atheguardian.com\n",
      "Getting http://webhose.io/search?token=309cd3ce-a298-4970-83f3-8a698919133b&format=html&ts=1552294252015&q=language%3Aenglish+site%3Atheguardian.com\n",
      "Getting http://webhose.io/search?token=309cd3ce-a298-4970-83f3-8a698919133b&format=html&ts=1552307059001&q=language%3Aenglish+site%3Atheguardian.com\n",
      "Getting http://webhose.io/search?token=309cd3ce-a298-4970-83f3-8a698919133b&format=html&ts=1552315386021&q=language%3Aenglish+site%3Atheguardian.com\n",
      "Getting http://webhose.io/search?token=309cd3ce-a298-4970-83f3-8a698919133b&format=html&ts=1552326174012&q=language%3Aenglish+site%3Atheguardian.com\n",
      "Getting http://webhose.io/search?token=309cd3ce-a298-4970-83f3-8a698919133b&format=html&ts=1552344448016&q=language%3Aenglish+site%3Atheguardian.com\n",
      "Getting http://webhose.io/search?token=309cd3ce-a298-4970-83f3-8a698919133b&format=html&ts=1552372936029&q=language%3Aenglish+site%3Atheguardian.com\n",
      "Getting http://webhose.io/search?token=309cd3ce-a298-4970-83f3-8a698919133b&format=html&ts=1552386236012&q=language%3Aenglish+site%3Atheguardian.com\n",
      "Getting http://webhose.io/search?token=309cd3ce-a298-4970-83f3-8a698919133b&format=html&ts=1552399530038&q=language%3Aenglish+site%3Atheguardian.com\n",
      "Getting http://webhose.io/search?token=309cd3ce-a298-4970-83f3-8a698919133b&format=html&ts=1552233752010&q=language%3Aenglish+site%3Abuzzfeed.com\n",
      "Getting http://webhose.io/search?token=309cd3ce-a298-4970-83f3-8a698919133b&format=html&ts=1552233765006&q=language%3Aenglish+site%3Abuzzfeed.com\n",
      "Getting http://webhose.io/search?token=309cd3ce-a298-4970-83f3-8a698919133b&format=html&ts=1552249401011&q=language%3Aenglish+site%3Abuzzfeed.com\n",
      "Getting http://webhose.io/search?token=309cd3ce-a298-4970-83f3-8a698919133b&format=html&ts=1552284486004&q=language%3Aenglish+site%3Abuzzfeed.com\n",
      "Getting http://webhose.io/search?token=309cd3ce-a298-4970-83f3-8a698919133b&format=html&ts=1552342540050&q=language%3Aenglish+site%3Abuzzfeed.com\n",
      "Getting http://webhose.io/search?token=309cd3ce-a298-4970-83f3-8a698919133b&format=html&ts=1552347576010&q=language%3Aenglish+site%3Abuzzfeed.com\n",
      "Getting http://webhose.io/search?token=309cd3ce-a298-4970-83f3-8a698919133b&format=html&ts=1552349445018&q=language%3Aenglish+site%3Abuzzfeed.com\n",
      "Getting http://webhose.io/search?token=309cd3ce-a298-4970-83f3-8a698919133b&format=html&ts=1552349453039&q=language%3Aenglish+site%3Abuzzfeed.com\n",
      "Getting http://webhose.io/search?token=309cd3ce-a298-4970-83f3-8a698919133b&format=html&ts=1552349477014&q=language%3Aenglish+site%3Abuzzfeed.com\n",
      "Getting http://webhose.io/search?token=309cd3ce-a298-4970-83f3-8a698919133b&format=html&ts=1552349929075&q=language%3Aenglish+site%3Abuzzfeed.com\n",
      "Getting http://webhose.io/search?token=309cd3ce-a298-4970-83f3-8a698919133b&format=html&ts=1552314588102&q=language%3Aenglish+site%3Awsj.com\n",
      "Getting http://webhose.io/search?token=309cd3ce-a298-4970-83f3-8a698919133b&format=html&ts=1552348324014&q=language%3Aenglish+site%3Awsj.com\n",
      "Getting http://webhose.io/search?token=309cd3ce-a298-4970-83f3-8a698919133b&format=html&ts=1552422736002&q=language%3Aenglish+site%3Awsj.com\n",
      "Getting http://webhose.io/search?token=309cd3ce-a298-4970-83f3-8a698919133b&format=html&ts=1552476369080&q=language%3Aenglish+site%3Awsj.com\n",
      "Getting http://webhose.io/search?token=309cd3ce-a298-4970-83f3-8a698919133b&format=html&ts=1552480454000&q=language%3Aenglish+site%3Awsj.com\n",
      "Getting http://webhose.io/search?token=309cd3ce-a298-4970-83f3-8a698919133b&format=html&ts=1552469130000&q=language%3Aenglish+site%3Anhl.com\n",
      "Getting http://webhose.io/search?token=309cd3ce-a298-4970-83f3-8a698919133b&format=html&ts=1552284753027&q=language%3Aenglish+site%3Alegacy.com\n",
      "Getting http://webhose.io/search?token=309cd3ce-a298-4970-83f3-8a698919133b&format=html&ts=1552369529007&q=language%3Aenglish+site%3Alegacy.com\n",
      "Getting http://webhose.io/search?token=309cd3ce-a298-4970-83f3-8a698919133b&format=html&ts=1552433031007&q=language%3Aenglish+site%3Alegacy.com\n",
      "Getting http://webhose.io/search?token=309cd3ce-a298-4970-83f3-8a698919133b&format=html&ts=1552464244017&q=language%3Aenglish+site%3Alegacy.com\n",
      "Getting http://webhose.io/search?token=309cd3ce-a298-4970-83f3-8a698919133b&format=html&ts=1552482759000&q=language%3Aenglish+site%3Alegacy.com\n",
      "Getting http://webhose.io/search?token=309cd3ce-a298-4970-83f3-8a698919133b&format=html&ts=1552482811001&q=language%3Aenglish+site%3Alegacy.com\n",
      "Getting http://webhose.io/search?token=309cd3ce-a298-4970-83f3-8a698919133b&format=html&ts=1552482822000&q=language%3Aenglish+site%3Alegacy.com\n",
      "Getting http://webhose.io/search?token=309cd3ce-a298-4970-83f3-8a698919133b&format=html&ts=1552374591014&q=language%3Aenglish+site%3Alatimes.com\n",
      "Getting http://webhose.io/search?token=309cd3ce-a298-4970-83f3-8a698919133b&format=html&ts=1552254982036&q=language%3Aenglish+site%3Aforbes.com\n",
      "Getting http://webhose.io/search?token=309cd3ce-a298-4970-83f3-8a698919133b&format=html&ts=1552293520009&q=language%3Aenglish+site%3Aforbes.com\n",
      "Getting http://webhose.io/search?token=309cd3ce-a298-4970-83f3-8a698919133b&format=html&ts=1552309508000&q=language%3Aenglish+site%3Aforbes.com\n",
      "Getting http://webhose.io/search?token=309cd3ce-a298-4970-83f3-8a698919133b&format=html&ts=1552318276004&q=language%3Aenglish+site%3Aforbes.com\n",
      "Getting http://webhose.io/search?token=309cd3ce-a298-4970-83f3-8a698919133b&format=html&ts=1552329931023&q=language%3Aenglish+site%3Aforbes.com\n",
      "Getting http://webhose.io/search?token=309cd3ce-a298-4970-83f3-8a698919133b&format=html&ts=1552347947023&q=language%3Aenglish+site%3Aforbes.com\n",
      "Getting http://webhose.io/search?token=309cd3ce-a298-4970-83f3-8a698919133b&format=html&ts=1552389321045&q=language%3Aenglish+site%3Aforbes.com\n",
      "Getting http://webhose.io/search?token=309cd3ce-a298-4970-83f3-8a698919133b&format=html&ts=1552398086036&q=language%3Aenglish+site%3Aforbes.com\n",
      "Getting http://webhose.io/search?token=309cd3ce-a298-4970-83f3-8a698919133b&format=html&ts=1552407469024&q=language%3Aenglish+site%3Aforbes.com\n",
      "Getting http://webhose.io/search?token=309cd3ce-a298-4970-83f3-8a698919133b&format=html&ts=1552419780017&q=language%3Aenglish+site%3Aforbes.com\n",
      "Getting http://webhose.io/search?token=309cd3ce-a298-4970-83f3-8a698919133b&format=html&ts=1552333889026&q=language%3Aenglish+site%3Anydailynews.com\n",
      "Getting http://webhose.io/search?token=309cd3ce-a298-4970-83f3-8a698919133b&format=html&ts=1552380437034&q=language%3Aenglish+site%3Anydailynews.com\n",
      "Getting http://webhose.io/search?token=309cd3ce-a298-4970-83f3-8a698919133b&format=html&ts=1552458912000&q=language%3Aenglish+site%3Anydailynews.com\n",
      "Getting http://webhose.io/search?token=309cd3ce-a298-4970-83f3-8a698919133b&format=html&ts=1552474968001&q=language%3Aenglish+site%3Anydailynews.com\n",
      "Getting http://webhose.io/search?token=309cd3ce-a298-4970-83f3-8a698919133b&format=html&ts=1552440274030&q=language%3Aenglish+site%3Abloomberg.com\n",
      "Getting http://webhose.io/search?token=309cd3ce-a298-4970-83f3-8a698919133b&format=html&ts=1552267156015&q=language%3Aenglish+site%3Ausatoday.com\n",
      "Getting http://webhose.io/search?token=309cd3ce-a298-4970-83f3-8a698919133b&format=html&ts=1552313361000&q=language%3Aenglish+site%3Ausatoday.com\n",
      "Getting http://webhose.io/search?token=309cd3ce-a298-4970-83f3-8a698919133b&format=html&ts=1552333750014&q=language%3Aenglish+site%3Ausatoday.com\n",
      "Getting http://webhose.io/search?token=309cd3ce-a298-4970-83f3-8a698919133b&format=html&ts=1552347991003&q=language%3Aenglish+site%3Ausatoday.com\n",
      "Getting http://webhose.io/search?token=309cd3ce-a298-4970-83f3-8a698919133b&format=html&ts=1552347995007&q=language%3Aenglish+site%3Ausatoday.com\n",
      "Getting http://webhose.io/search?token=309cd3ce-a298-4970-83f3-8a698919133b&format=html&ts=1552348461006&q=language%3Aenglish+site%3Ausatoday.com\n",
      "Getting http://webhose.io/search?token=309cd3ce-a298-4970-83f3-8a698919133b&format=html&ts=1552352740003&q=language%3Aenglish+site%3Ausatoday.com\n",
      "Getting http://webhose.io/search?token=309cd3ce-a298-4970-83f3-8a698919133b&format=html&ts=1552381034014&q=language%3Aenglish+site%3Ausatoday.com\n",
      "Getting http://webhose.io/search?token=309cd3ce-a298-4970-83f3-8a698919133b&format=html&ts=1552398204022&q=language%3Aenglish+site%3Ausatoday.com\n",
      "Getting http://webhose.io/search?token=309cd3ce-a298-4970-83f3-8a698919133b&format=html&ts=1552409319027&q=language%3Aenglish+site%3Ausatoday.com\n",
      "Getting http://webhose.io/search?token=309cd3ce-a298-4970-83f3-8a698919133b&format=html&ts=1552280805001&q=language%3Aenglish+site%3Andtv.com\n",
      "Getting http://webhose.io/search?token=309cd3ce-a298-4970-83f3-8a698919133b&format=html&ts=1552299149011&q=language%3Aenglish+site%3Andtv.com\n",
      "Getting http://webhose.io/search?token=309cd3ce-a298-4970-83f3-8a698919133b&format=html&ts=1552314427029&q=language%3Aenglish+site%3Andtv.com\n",
      "Getting http://webhose.io/search?token=309cd3ce-a298-4970-83f3-8a698919133b&format=html&ts=1552362750037&q=language%3Aenglish+site%3Andtv.com\n",
      "Getting http://webhose.io/search?token=309cd3ce-a298-4970-83f3-8a698919133b&format=html&ts=1552380861002&q=language%3Aenglish+site%3Andtv.com\n",
      "Getting http://webhose.io/search?token=309cd3ce-a298-4970-83f3-8a698919133b&format=html&ts=1552395840000&q=language%3Aenglish+site%3Andtv.com\n",
      "Getting http://webhose.io/search?token=309cd3ce-a298-4970-83f3-8a698919133b&format=html&ts=1552417928001&q=language%3Aenglish+site%3Andtv.com\n",
      "Getting http://webhose.io/search?token=309cd3ce-a298-4970-83f3-8a698919133b&format=html&ts=1552460527001&q=language%3Aenglish+site%3Andtv.com\n",
      "Getting http://webhose.io/search?token=309cd3ce-a298-4970-83f3-8a698919133b&format=html&ts=1552478472000&q=language%3Aenglish+site%3Andtv.com\n",
      "Getting http://webhose.io/search?token=309cd3ce-a298-4970-83f3-8a698919133b&format=html&ts=1552482473005&q=language%3Aenglish+site%3Andtv.com\n",
      "Getting http://webhose.io/search?token=309cd3ce-a298-4970-83f3-8a698919133b&format=html&ts=1552306528024&q=language%3Aenglish+site%3Acnbc.com\n",
      "Getting http://webhose.io/search?token=309cd3ce-a298-4970-83f3-8a698919133b&format=html&ts=1552338965000&q=language%3Aenglish+site%3Acnbc.com\n",
      "Getting http://webhose.io/search?token=309cd3ce-a298-4970-83f3-8a698919133b&format=html&ts=1552373902017&q=language%3Aenglish+site%3Acnbc.com\n",
      "Getting http://webhose.io/search?token=309cd3ce-a298-4970-83f3-8a698919133b&format=html&ts=1552400391046&q=language%3Aenglish+site%3Acnbc.com\n",
      "Getting http://webhose.io/search?token=309cd3ce-a298-4970-83f3-8a698919133b&format=html&ts=1552416455024&q=language%3Aenglish+site%3Acnbc.com\n",
      "Getting http://webhose.io/search?token=309cd3ce-a298-4970-83f3-8a698919133b&format=html&ts=1552449594006&q=language%3Aenglish+site%3Acnbc.com\n",
      "Getting http://webhose.io/search?token=309cd3ce-a298-4970-83f3-8a698919133b&format=html&ts=1552482813000&q=language%3Aenglish+site%3Acnbc.com\n",
      "Getting http://webhose.io/search?token=309cd3ce-a298-4970-83f3-8a698919133b&format=html&ts=1552305892014&q=language%3Aenglish+site%3Acbsnews.com\n",
      "Getting http://webhose.io/search?token=309cd3ce-a298-4970-83f3-8a698919133b&format=html&ts=1552346551025&q=language%3Aenglish+site%3Acbsnews.com\n",
      "Getting http://webhose.io/search?token=309cd3ce-a298-4970-83f3-8a698919133b&format=html&ts=1552421743012&q=language%3Aenglish+site%3Acbsnews.com\n",
      "Getting http://webhose.io/search?token=309cd3ce-a298-4970-83f3-8a698919133b&format=html&ts=1552482808028&q=language%3Aenglish+site%3Acbsnews.com\n",
      "Getting http://webhose.io/search?token=309cd3ce-a298-4970-83f3-8a698919133b&format=html&ts=1552251707024&q=language%3Aenglish+site%3Amarketwatch.com\n",
      "Getting http://webhose.io/search?token=309cd3ce-a298-4970-83f3-8a698919133b&format=html&ts=1552263432035&q=language%3Aenglish+site%3Amarketwatch.com\n",
      "Getting http://webhose.io/search?token=309cd3ce-a298-4970-83f3-8a698919133b&format=html&ts=1552266126006&q=language%3Aenglish+site%3Amarketwatch.com\n",
      "Getting http://webhose.io/search?token=309cd3ce-a298-4970-83f3-8a698919133b&format=html&ts=1552267275035&q=language%3Aenglish+site%3Amarketwatch.com\n",
      "Getting http://webhose.io/search?token=309cd3ce-a298-4970-83f3-8a698919133b&format=html&ts=1552272450002&q=language%3Aenglish+site%3Amarketwatch.com\n",
      "Getting http://webhose.io/search?token=309cd3ce-a298-4970-83f3-8a698919133b&format=html&ts=1552281678025&q=language%3Aenglish+site%3Amarketwatch.com\n",
      "Getting http://webhose.io/search?token=309cd3ce-a298-4970-83f3-8a698919133b&format=html&ts=1552286997035&q=language%3Aenglish+site%3Amarketwatch.com\n",
      "Getting http://webhose.io/search?token=309cd3ce-a298-4970-83f3-8a698919133b&format=html&ts=1552287018038&q=language%3Aenglish+site%3Amarketwatch.com\n",
      "Getting http://webhose.io/search?token=309cd3ce-a298-4970-83f3-8a698919133b&format=html&ts=1552289723012&q=language%3Aenglish+site%3Amarketwatch.com\n",
      "Getting http://webhose.io/search?token=309cd3ce-a298-4970-83f3-8a698919133b&format=html&ts=1552300534036&q=language%3Aenglish+site%3Amarketwatch.com\n",
      "Getting http://webhose.io/search?token=309cd3ce-a298-4970-83f3-8a698919133b&format=html&ts=1552336857060&q=language%3Aenglish+site%3Anpr.org\n",
      "Getting http://webhose.io/search?token=309cd3ce-a298-4970-83f3-8a698919133b&format=html&ts=1552389864059&q=language%3Aenglish+site%3Anpr.org\n",
      "Getting http://webhose.io/search?token=309cd3ce-a298-4970-83f3-8a698919133b&format=html&ts=1552467994027&q=language%3Aenglish+site%3Anpr.org\n",
      "Getting http://webhose.io/search?token=309cd3ce-a298-4970-83f3-8a698919133b&format=html&ts=1552482361004&q=language%3Aenglish+site%3Anpr.org\n",
      "Getting http://webhose.io/search?token=309cd3ce-a298-4970-83f3-8a698919133b&format=html&ts=1552306045014&q=language%3Aenglish+site%3Ableacherreport.com\n",
      "Getting http://webhose.io/search?token=309cd3ce-a298-4970-83f3-8a698919133b&format=html&ts=1552339125004&q=language%3Aenglish+site%3Ableacherreport.com\n",
      "Getting http://webhose.io/search?token=309cd3ce-a298-4970-83f3-8a698919133b&format=html&ts=1552401010020&q=language%3Aenglish+site%3Ableacherreport.com\n",
      "Getting http://webhose.io/search?token=309cd3ce-a298-4970-83f3-8a698919133b&format=html&ts=1552440017024&q=language%3Aenglish+site%3Ableacherreport.com\n",
      "Getting http://webhose.io/search?token=309cd3ce-a298-4970-83f3-8a698919133b&format=html&ts=1552482355016&q=language%3Aenglish+site%3Ableacherreport.com\n",
      "Getting http://webhose.io/search?token=309cd3ce-a298-4970-83f3-8a698919133b&format=html&ts=1552326968001&q=language%3Aenglish+site%3Acbssports.com\n",
      "Getting http://webhose.io/search?token=309cd3ce-a298-4970-83f3-8a698919133b&format=html&ts=1552423229110&q=language%3Aenglish+site%3Acbssports.com\n",
      "Getting http://webhose.io/search?token=309cd3ce-a298-4970-83f3-8a698919133b&format=html&ts=1552478516024&q=language%3Aenglish+site%3Acbssports.com\n",
      "Getting http://webhose.io/search?token=309cd3ce-a298-4970-83f3-8a698919133b&format=html&ts=1552287555026&q=language%3Aenglish+site%3Apeople.com\n",
      "Getting http://webhose.io/search?token=309cd3ce-a298-4970-83f3-8a698919133b&format=html&ts=1552282044001&q=language%3Aenglish+site%3Acnet.com\n",
      "Getting http://webhose.io/search?token=309cd3ce-a298-4970-83f3-8a698919133b&format=html&ts=1552326970069&q=language%3Aenglish+site%3Acnet.com\n",
      "Getting http://webhose.io/search?token=309cd3ce-a298-4970-83f3-8a698919133b&format=html&ts=1552352118012&q=language%3Aenglish+site%3Acnet.com\n",
      "Getting http://webhose.io/search?token=309cd3ce-a298-4970-83f3-8a698919133b&format=html&ts=1552401412000&q=language%3Aenglish+site%3Acnet.com\n",
      "Getting http://webhose.io/search?token=309cd3ce-a298-4970-83f3-8a698919133b&format=html&ts=1552429892000&q=language%3Aenglish+site%3Acnet.com\n",
      "Getting http://webhose.io/search?token=309cd3ce-a298-4970-83f3-8a698919133b&format=html&ts=1552480628030&q=language%3Aenglish+site%3Acnet.com\n",
      "Getting http://webhose.io/search?token=309cd3ce-a298-4970-83f3-8a698919133b&format=html&ts=1552482877011&q=language%3Aenglish+site%3Acnet.com\n",
      "Getting http://webhose.io/search?token=309cd3ce-a298-4970-83f3-8a698919133b&format=html&ts=1552420342000&q=language%3Aenglish+site%3Anba.com\n",
      "Getting http://webhose.io/search?token=309cd3ce-a298-4970-83f3-8a698919133b&format=html&ts=1552472501028&q=language%3Aenglish+site%3Anba.com\n",
      "Getting http://webhose.io/search?token=309cd3ce-a298-4970-83f3-8a698919133b&format=html&ts=1552269202015&q=language%3Aenglish+site%3Ainvesting.com\n",
      "Getting http://webhose.io/search?token=309cd3ce-a298-4970-83f3-8a698919133b&format=html&ts=1552285166000&q=language%3Aenglish+site%3Ainvesting.com\n",
      "Getting http://webhose.io/search?token=309cd3ce-a298-4970-83f3-8a698919133b&format=html&ts=1552304425038&q=language%3Aenglish+site%3Ainvesting.com\n",
      "Getting http://webhose.io/search?token=309cd3ce-a298-4970-83f3-8a698919133b&format=html&ts=1552308354004&q=language%3Aenglish+site%3Ainvesting.com\n",
      "Getting http://webhose.io/search?token=309cd3ce-a298-4970-83f3-8a698919133b&format=html&ts=1552336815019&q=language%3Aenglish+site%3Ainvesting.com\n",
      "Getting http://webhose.io/search?token=309cd3ce-a298-4970-83f3-8a698919133b&format=html&ts=1552343584011&q=language%3Aenglish+site%3Ainvesting.com\n",
      "Getting http://webhose.io/search?token=309cd3ce-a298-4970-83f3-8a698919133b&format=html&ts=1552363305082&q=language%3Aenglish+site%3Ainvesting.com\n",
      "Getting http://webhose.io/search?token=309cd3ce-a298-4970-83f3-8a698919133b&format=html&ts=1552386600058&q=language%3Aenglish+site%3Ainvesting.com\n",
      "Getting http://webhose.io/search?token=309cd3ce-a298-4970-83f3-8a698919133b&format=html&ts=1552400219022&q=language%3Aenglish+site%3Ainvesting.com\n",
      "Getting http://webhose.io/search?token=309cd3ce-a298-4970-83f3-8a698919133b&format=html&ts=1552403924003&q=language%3Aenglish+site%3Ainvesting.com\n",
      "Getting http://webhose.io/search?token=309cd3ce-a298-4970-83f3-8a698919133b&format=html&ts=1552264289015&q=language%3Aenglish+site%3Acnn.com\n",
      "Getting http://webhose.io/search?token=309cd3ce-a298-4970-83f3-8a698919133b&format=html&ts=1552316612001&q=language%3Aenglish+site%3Acnn.com\n",
      "Getting http://webhose.io/search?token=309cd3ce-a298-4970-83f3-8a698919133b&format=html&ts=1552336014184&q=language%3Aenglish+site%3Acnn.com\n",
      "Getting http://webhose.io/search?token=309cd3ce-a298-4970-83f3-8a698919133b&format=html&ts=1552363714006&q=language%3Aenglish+site%3Acnn.com\n",
      "Getting http://webhose.io/search?token=309cd3ce-a298-4970-83f3-8a698919133b&format=html&ts=1552400108004&q=language%3Aenglish+site%3Acnn.com\n",
      "Getting http://webhose.io/search?token=309cd3ce-a298-4970-83f3-8a698919133b&format=html&ts=1552414382027&q=language%3Aenglish+site%3Acnn.com\n",
      "Getting http://webhose.io/search?token=309cd3ce-a298-4970-83f3-8a698919133b&format=html&ts=1552443878072&q=language%3Aenglish+site%3Acnn.com\n",
      "Getting http://webhose.io/search?token=309cd3ce-a298-4970-83f3-8a698919133b&format=html&ts=1552479692010&q=language%3Aenglish+site%3Acnn.com\n",
      "Getting http://webhose.io/search?token=309cd3ce-a298-4970-83f3-8a698919133b&format=html&ts=1552483038008&q=language%3Aenglish+site%3Acnn.com\n",
      "Getting http://webhose.io/search?token=309cd3ce-a298-4970-83f3-8a698919133b&format=html&ts=1552334336015&q=language%3Aenglish+site%3Aeonline.com\n",
      "Getting http://webhose.io/search?token=309cd3ce-a298-4970-83f3-8a698919133b&format=html&ts=1552483322023&q=language%3Aenglish+site%3Aeonline.com\n",
      "Getting http://webhose.io/search?token=309cd3ce-a298-4970-83f3-8a698919133b&format=html&ts=1552330558006&q=language%3Aenglish+site%3Anbcnews.com\n",
      "Getting http://webhose.io/search?token=309cd3ce-a298-4970-83f3-8a698919133b&format=html&ts=1552400199027&q=language%3Aenglish+site%3Anbcnews.com\n",
      "Getting http://webhose.io/search?token=309cd3ce-a298-4970-83f3-8a698919133b&format=html&ts=1552483062021&q=language%3Aenglish+site%3Anbcnews.com\n",
      "Getting http://webhose.io/search?token=309cd3ce-a298-4970-83f3-8a698919133b&format=html&ts=1552347869014&q=language%3Aenglish+site%3Apolitico.com\n",
      "Getting http://webhose.io/search?token=309cd3ce-a298-4970-83f3-8a698919133b&format=html&ts=1552347870014&q=language%3Aenglish+site%3Apolitico.com\n",
      "Getting http://webhose.io/search?token=309cd3ce-a298-4970-83f3-8a698919133b&format=html&ts=1552347871010&q=language%3Aenglish+site%3Apolitico.com\n",
      "Getting http://webhose.io/search?token=309cd3ce-a298-4970-83f3-8a698919133b&format=html&ts=1552347886015&q=language%3Aenglish+site%3Apolitico.com\n",
      "Getting http://webhose.io/search?token=309cd3ce-a298-4970-83f3-8a698919133b&format=html&ts=1552347886026&q=language%3Aenglish+site%3Apolitico.com\n",
      "Getting http://webhose.io/search?token=309cd3ce-a298-4970-83f3-8a698919133b&format=html&ts=1552347886037&q=language%3Aenglish+site%3Apolitico.com\n",
      "Getting http://webhose.io/search?token=309cd3ce-a298-4970-83f3-8a698919133b&format=html&ts=1552347886053&q=language%3Aenglish+site%3Apolitico.com\n",
      "Getting http://webhose.io/search?token=309cd3ce-a298-4970-83f3-8a698919133b&format=html&ts=1552347886081&q=language%3Aenglish+site%3Apolitico.com\n",
      "Getting http://webhose.io/search?token=309cd3ce-a298-4970-83f3-8a698919133b&format=html&ts=1552347904000&q=language%3Aenglish+site%3Apolitico.com\n",
      "Getting http://webhose.io/search?token=309cd3ce-a298-4970-83f3-8a698919133b&format=html&ts=1552347906017&q=language%3Aenglish+site%3Apolitico.com\n",
      "Getting http://webhose.io/search?token=309cd3ce-a298-4970-83f3-8a698919133b&format=html&ts=1552444194000&q=language%3Aenglish+site%3Aengadget.com\n",
      "Getting http://webhose.io/search?token=309cd3ce-a298-4970-83f3-8a698919133b&format=html&ts=1552482292032&q=language%3Aenglish+site%3Aengadget.com\n",
      "Getting http://webhose.io/search?token=309cd3ce-a298-4970-83f3-8a698919133b&format=html&ts=1552458054000&q=language%3Aenglish+site%3Avice.com\n",
      "Getting http://webhose.io/search?token=309cd3ce-a298-4970-83f3-8a698919133b&format=html&ts=1552482907044&q=language%3Aenglish+site%3Avice.com\n",
      "Getting http://webhose.io/search?token=309cd3ce-a298-4970-83f3-8a698919133b&format=html&ts=1552480913010&q=language%3Aenglish+site%3Awikihow.com\n",
      "Getting http://webhose.io/search?token=309cd3ce-a298-4970-83f3-8a698919133b&format=html&ts=1552465651001&q=language%3Aenglish+site%3Anfl.com\n",
      "Getting http://webhose.io/search?token=309cd3ce-a298-4970-83f3-8a698919133b&format=html&ts=1552351735001&q=language%3Aenglish+site%3Arealclearpolitics.com\n",
      "Getting http://webhose.io/search?token=309cd3ce-a298-4970-83f3-8a698919133b&format=html&ts=1552482420030&q=language%3Aenglish+site%3Arealclearpolitics.com\n"
     ]
    }
   ],
   "source": [
    "for i, url in enumerate(df.url):\n",
    "    query_string = \"language:english site:\"\n",
    "    query_url = query_string + url\n",
    "    \n",
    "    collect(df.category[i], query_url)"
   ]
  },
  {
   "cell_type": "markdown",
   "metadata": {},
   "source": [
    "Because we only saved the content based on their category without the base url - which is an oversight on our side - we don't know from where each article is from nor how much."
   ]
  },
  {
   "cell_type": "markdown",
   "metadata": {},
   "source": [
    "---"
   ]
  },
  {
   "cell_type": "markdown",
   "metadata": {},
   "source": [
    "## Extracting extra data from a dataset found at webhose.io "
   ]
  },
  {
   "cell_type": "markdown",
   "metadata": {},
   "source": [
    "Webhoe offers also archived data which we downloaded. Let's ahve a look and see what we can use from it. To note here is that the content is a few years old. Let us see what we have so far before we will commit to it."
   ]
  },
  {
   "cell_type": "code",
   "execution_count": 24,
   "metadata": {},
   "outputs": [
    {
     "data": {
      "text/plain": [
       "dict_keys(['organizations', 'uuid', 'thread', 'author', 'url', 'ord_in_thread', 'title', 'locations', 'entities', 'highlightText', 'language', 'persons', 'text', 'external_links', 'published', 'crawled', 'highlightTitle'])"
      ]
     },
     "execution_count": 24,
     "metadata": {},
     "output_type": "execute_result"
    }
   ],
   "source": [
    "with open('data/news_0499610.json') as f:\n",
    "    data = json.load(f)\n",
    "    \n",
    "data.keys()"
   ]
  },
  {
   "cell_type": "code",
   "execution_count": 25,
   "metadata": {},
   "outputs": [],
   "source": [
    "n_files = len([name for name in os.listdir('data/')])\n",
    "\n",
    "template = 'data/news_{:07d}.json'\n",
    "filenames = [template.format(k) for k in range(1, n_files)]"
   ]
  },
  {
   "cell_type": "code",
   "execution_count": 26,
   "metadata": {},
   "outputs": [],
   "source": [
    "dataframes = (json.load(open(fname)) for fname in filenames if Path(fname).exists())"
   ]
  },
  {
   "cell_type": "markdown",
   "metadata": {},
   "source": [
    "### URL's\n",
    "\n",
    "Let's see how many unique url's we have in the data."
   ]
  },
  {
   "cell_type": "code",
   "execution_count": 27,
   "metadata": {},
   "outputs": [
    {
     "name": "stderr",
     "output_type": "stream",
     "text": [
      "499610it [03:21, 2480.59it/s]\n"
     ]
    }
   ],
   "source": [
    "url_list = []\n",
    "\n",
    "with tqdm() as progress:\n",
    "    for data in dataframes:\n",
    "        list = tldextract.extract(data['url'])\n",
    "        domain_name = list.domain + '.' + list.suffix\n",
    "        url_list.append(domain_name)\n",
    "        \n",
    "        progress.update()"
   ]
  },
  {
   "cell_type": "code",
   "execution_count": 28,
   "metadata": {},
   "outputs": [
    {
     "data": {
      "text/plain": [
       "272"
      ]
     },
     "execution_count": 28,
     "metadata": {},
     "output_type": "execute_result"
    }
   ],
   "source": [
    "urls = set(url_list)\n",
    "len(urls)"
   ]
  },
  {
   "cell_type": "code",
   "execution_count": 29,
   "metadata": {},
   "outputs": [
    {
     "name": "stdout",
     "output_type": "stream",
     "text": [
      "['spotify.com', 'nairaland.com', 'delta.com', 'constantcontact.com', 'bankofamerica.com', 'udn.com', 'slickdeals.net', 'prezi.com', 'gizmodo.com', 'pcmag.com', 'php.net', 'cocolog-nifty.com', 'abplive.in', 'biobiochile.cl', 'office.com', 'marriott.com', 'www.gov.uk', 'moneycontrol.com', 'thekitchn.com', 'mit.edu', 'lemonde.fr', 'cbs.com', 'bbc.com', 'macys.com', 'investopedia.com', 'vimeo.com', 'allrecipes.com', 'xbox.com', 'woot.com', 'quora.com', 'squarespace.com', 'yelp.com', 'conservativetribune.com', 'aol.com', 'telegraph.co.uk', 'bhaskar.com', 'techcrunch.com', 'sourceforge.net', 'booking.com', 'usaa.com', 'babycenter.com', 'airbnb.com', 'patch.com', 'sky.com', 'archive.org', 'att.com', 'howtogeek.com', 'time.com', 'wiley.com', 'rollingstone.com', 'intuit.com', 'wattpad.com', 'speedtest.net', 'adobe.com', 'samsung.com', 'surveymonkey.com', 'ups.com', 'gamespot.com', 'ed.gov', 'icc-cricket.com', '163.com', 'thesportbible.com', 'myfitnesspal.com', 'about.com', 'force.com', 'slate.com', 'windows.com', 'salesforce.com', 'ultimate-guitar.com', 'mayoclinic.org', 'slack.com', 'tribunnews.com', 'y8.com', 'intoday.in', 'worldlifestyle.com', 'slideshare.net', 'abril.com.br', 'theladbible.com', 'houzz.com', 'wunderground.com', 'ted.com', '6pm.com', 'accuweather.com', 'instructables.com', 'weather.com', 'hp.com', 'steampowered.com', 'kooora.com', 'china.com.cn', 'battle.net', 'bt.com', 'independent.co.uk', 'go.com', 'espncricinfo.com', 'drudgereport.com', 'gearbest.com', 'redtube.com', 'mcafee.com', 'quikr.com', 'themeforest.net', 'foodnetwork.com', 'giphy.com', 'codecanyon.net', 'weather.gov', 'ibm.com', 'zillow.com', 'fitbit.com', 'ca.gov', 'souq.com', 'jcpenney.com', 'youm7.com', 'alibaba.com', 'apple.com', 'gfycat.com', 'instructure.com', 'gmanetwork.com', 'state.gov', 'ancestry.com', 'vetogate.com', 'evernote.com', 'uptodown.com', 'wired.com', 'nikkei.com', 'deviantART.com', 'weebly.com', 'inquirer.net', 'blastingnews.com', 'craigslist.org', 'diply.com', 'issuu.com', 'abs-cbn.com', 'fivethirtyeight.com', 'aweber.com', 'onet.pl', 'ign.com', 'adp.com', 'xinhuanet.com', 'chinadaily.com.cn', 'cookpad.com', 'wittyfeed.com', 'uol.com.br', 'yenisafak.com', 'rediff.com', 'medium.com', 'snapdeal.com', 'cisco.com', 'foxnews.com', 'manoramaonline.com', 'farsnews.com', 'imdb.com', 'urbandictionary.com', 'bbc.co.uk', 'kayak.com', 'trulia.com', 'backpage.com', 'indiatimes.com', 'nike.com', 'informer.com', 'repubblica.it', 'dailypakistan.com.pk', 'oracle.com', 'stackexchange.com', 'indianexpress.com', 'thedailybeast.com', 'intel.com', 'ew.com', 'godaddy.com', 'gawker.com', 'cracked.com', 'vox.com', 'Indianexpress.com', 'mashable.com', 'realtor.com', 'qq.com', 'liputan6.com', 'rottentomatoes.com', 'wikia.com', 'list-manage.com', 'nhk.or.jp', 'shopify.com', 'mirror.co.uk', 'scribd.com', 'theverge.com', 'westernjournalism.com', 'ticketmaster.com', 'taleo.net', 'popsugar.com', 'xda-developers.com', 'bhphotovideo.com', 'reddit.com', 'dictionary.com', 'tmz.com', 'webmd.com', 'rakuten.co.jp', 'ncaa.com', 'kickstarter.com', 'meetup.com', 'vnexpress.net', 'dailymail.co.uk', 'india.com', 'verizon.com', 'superuser.com', 'filehippo.com', 'audible.com', 'eventbrite.com', 'tomshardware.com', 'faithtap.com', 'europa.eu', 'infusionsoft.com', 'dell.com', 'kotaku.com', 'rt.com', 'mozilla.org', 'asahi.com', 'vid.me', 'walmart.com', 'nih.gov', 'fc2.com', 'lifehacker.com', 'skype.com', 'shutterstock.com', 'change.org', 'irs.gov', 'goal.com', 'cricbuzz.com', 'thehindu.com', 'rarbg.to', 'mlb.com', 'deviantart.com', 'expedia.com']\n"
     ]
    }
   ],
   "source": [
    "url_df = pd.read_csv('url_sources.csv')\n",
    "url_sources = url_df['url'].values\n",
    "\n",
    "not_in_source = [url for url in urls if url not in url_sources]\n",
    "print(not_in_source)"
   ]
  },
  {
   "cell_type": "markdown",
   "metadata": {},
   "source": [
    "### Select only sites with `.com` suffix"
   ]
  },
  {
   "cell_type": "code",
   "execution_count": 30,
   "metadata": {},
   "outputs": [
    {
     "data": {
      "text/plain": [
       "185"
      ]
     },
     "execution_count": 30,
     "metadata": {},
     "output_type": "execute_result"
    }
   ],
   "source": [
    "dotcom_list = [url for url in not_in_source if url.endswith('.com')]\n",
    "len(dotcom_list)"
   ]
  },
  {
   "cell_type": "markdown",
   "metadata": {},
   "source": [
    "### Remove none-US sites"
   ]
  },
  {
   "cell_type": "code",
   "execution_count": 31,
   "metadata": {},
   "outputs": [
    {
     "name": "stdout",
     "output_type": "stream",
     "text": [
      "cocolog-nifty.com nodename nor servname provided, or not known\n"
     ]
    },
    {
     "data": {
      "text/plain": [
       "125"
      ]
     },
     "execution_count": 31,
     "metadata": {},
     "output_type": "execute_result"
    }
   ],
   "source": [
    "US_list = []\n",
    "for url in dotcom_list:\n",
    "    try:\n",
    "        ip = socket.gethostbyname(url)\n",
    "        reader = geoip2.database.Reader('GeoLite2-Country_20190305/GeoLite2-Country.mmdb')\n",
    "        response = reader.country(ip)\n",
    "        \n",
    "        if response.country.iso_code == 'US':\n",
    "            US_list.append(url)\n",
    "            \n",
    "    except IOError:\n",
    "        print('{} nodename nor servname provided, or not known'.format(url))\n",
    "        \n",
    "len(US_list)"
   ]
  },
  {
   "cell_type": "code",
   "execution_count": 33,
   "metadata": {},
   "outputs": [
    {
     "name": "stdout",
     "output_type": "stream",
     "text": [
      "['spotify.com', 'nairaland.com', 'delta.com', 'constantcontact.com', 'bankofamerica.com', 'prezi.com', 'gizmodo.com', 'pcmag.com', 'thekitchn.com', 'cbs.com', 'investopedia.com', 'allrecipes.com', 'woot.com', 'quora.com', 'squarespace.com', 'conservativetribune.com', 'bhaskar.com', 'techcrunch.com', 'babycenter.com', 'airbnb.com', 'patch.com', 'att.com', 'howtogeek.com', 'time.com', 'wiley.com', 'rollingstone.com', 'wattpad.com', 'adobe.com', 'surveymonkey.com', 'ups.com', 'gamespot.com', 'icc-cricket.com', 'thesportbible.com', 'myfitnesspal.com', 'about.com', 'force.com', 'slate.com', 'windows.com', 'salesforce.com', 'ultimate-guitar.com', 'slack.com', 'worldlifestyle.com', 'houzz.com', 'ted.com', '6pm.com', 'hp.com', 'kooora.com', 'go.com', 'drudgereport.com', 'mcafee.com', 'foodnetwork.com', 'giphy.com', 'ibm.com', 'zillow.com', 'fitbit.com', 'youm7.com', 'alibaba.com', 'apple.com', 'gfycat.com', 'instructure.com', 'ancestry.com', 'vetogate.com', 'evernote.com', 'wired.com', 'deviantART.com', 'weebly.com', 'diply.com', 'issuu.com', 'fivethirtyeight.com', 'aweber.com', 'ign.com', 'adp.com', 'cookpad.com', 'medium.com', 'cisco.com', 'foxnews.com', 'imdb.com', 'urbandictionary.com', 'kayak.com', 'trulia.com', 'backpage.com', 'nike.com', 'informer.com', 'oracle.com', 'stackexchange.com', 'thedailybeast.com', 'intel.com', 'ew.com', 'godaddy.com', 'gawker.com', 'vox.com', 'realtor.com', 'rottentomatoes.com', 'wikia.com', 'list-manage.com', 'shopify.com', 'scribd.com', 'theverge.com', 'westernjournalism.com', 'popsugar.com', 'xda-developers.com', 'bhphotovideo.com', 'dictionary.com', 'tmz.com', 'webmd.com', 'kickstarter.com', 'meetup.com', 'india.com', 'verizon.com', 'superuser.com', 'filehippo.com', 'audible.com', 'eventbrite.com', 'tomshardware.com', 'faithtap.com', 'infusionsoft.com', 'dell.com', 'kotaku.com', 'walmart.com', 'fc2.com', 'lifehacker.com', 'shutterstock.com', 'mlb.com', 'deviantart.com', 'expedia.com']\n"
     ]
    }
   ],
   "source": [
    "print(US_list)"
   ]
  },
  {
   "cell_type": "markdown",
   "metadata": {},
   "source": [
    "Well, looking at the list is an awful lot of site which have nothing to do with news. Let's select the few which are news related."
   ]
  },
  {
   "cell_type": "code",
   "execution_count": 36,
   "metadata": {},
   "outputs": [],
   "source": [
    "urls_to_keep = ['westernjournalism.com', 'vox.com', 'time.com', 'thedailybeast.com', 'foxnews.com']"
   ]
  },
  {
   "cell_type": "markdown",
   "metadata": {},
   "source": [
    "### Collect news article"
   ]
  },
  {
   "cell_type": "code",
   "execution_count": 37,
   "metadata": {},
   "outputs": [],
   "source": [
    "json_data = (json.load(open(fname)) for fname in filenames if Path(fname).exists())"
   ]
  },
  {
   "cell_type": "code",
   "execution_count": 38,
   "metadata": {},
   "outputs": [
    {
     "name": "stderr",
     "output_type": "stream",
     "text": [
      "499610it [03:22, 2468.63it/s]\n"
     ]
    }
   ],
   "source": [
    "lines = set()\n",
    "\n",
    "with tqdm() as progress:\n",
    "    for data in json_data:\n",
    "        list = tldextract.extract(data['url'])\n",
    "        domain_name = list.domain + '.' + list.suffix\n",
    "        \n",
    "        if domain_name in urls_to_keep:\n",
    "            lines.add(data['text'].encode('utf-8'))\n",
    "        \n",
    "        progress.update()"
   ]
  },
  {
   "cell_type": "code",
   "execution_count": 39,
   "metadata": {},
   "outputs": [
    {
     "data": {
      "text/plain": [
       "4806"
      ]
     },
     "execution_count": 39,
     "metadata": {},
     "output_type": "execute_result"
    }
   ],
   "source": [
    "len(lines)"
   ]
  },
  {
   "cell_type": "markdown",
   "metadata": {},
   "source": [
    "We were able to extract 4806 article. "
   ]
  },
  {
   "cell_type": "markdown",
   "metadata": {},
   "source": [
    "### Save content"
   ]
  },
  {
   "cell_type": "code",
   "execution_count": 40,
   "metadata": {},
   "outputs": [],
   "source": [
    "with open(os.path.join(resources_dir, 'political_webhose.txt'), 'a+') as f:\n",
    "    for line in lines:\n",
    "        f.write('%s\\n' % line)"
   ]
  },
  {
   "cell_type": "code",
   "execution_count": null,
   "metadata": {},
   "outputs": [],
   "source": []
  },
  {
   "cell_type": "code",
   "execution_count": null,
   "metadata": {},
   "outputs": [],
   "source": []
  }
 ],
 "metadata": {
  "kernelspec": {
   "display_name": "Python 3",
   "language": "python",
   "name": "python3"
  },
  "language_info": {
   "codemirror_mode": {
    "name": "ipython",
    "version": 3
   },
   "file_extension": ".py",
   "mimetype": "text/x-python",
   "name": "python",
   "nbconvert_exporter": "python",
   "pygments_lexer": "ipython3",
   "version": "3.7.3"
  },
  "toc": {
   "base_numbering": 1,
   "nav_menu": {},
   "number_sections": true,
   "sideBar": true,
   "skip_h1_title": false,
   "title_cell": "Table of Contents",
   "title_sidebar": "Contents",
   "toc_cell": true,
   "toc_position": {},
   "toc_section_display": true,
   "toc_window_display": false
  },
  "toc-autonumbering": false
 },
 "nbformat": 4,
 "nbformat_minor": 2
}
