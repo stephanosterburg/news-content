{
 "cells": [
  {
   "cell_type": "markdown",
   "metadata": {
    "toc": true
   },
   "source": [
    "<h1>Table of Contents<span class=\"tocSkip\"></span></h1>\n",
    "<div class=\"toc\"><ul class=\"toc-item\"><li><span><a href=\"#Fake-News-Corpus\" data-toc-modified-id=\"Fake-News-Corpus-1\"><span class=\"toc-item-num\">1&nbsp;&nbsp;</span>Fake News Corpus</a></span></li><li><span><a href=\"#Libraries\" data-toc-modified-id=\"Libraries-2\"><span class=\"toc-item-num\">2&nbsp;&nbsp;</span>Libraries</a></span></li><li><span><a href=\"#dask.dataframe\" data-toc-modified-id=\"dask.dataframe-3\"><span class=\"toc-item-num\">3&nbsp;&nbsp;</span>dask.dataframe</a></span></li><li><span><a href=\"#Setting-csv-field-limit\" data-toc-modified-id=\"Setting-csv-field-limit-4\"><span class=\"toc-item-num\">4&nbsp;&nbsp;</span>Setting csv field limit</a></span></li><li><span><a href=\"#Load-data-with-pandas\" data-toc-modified-id=\"Load-data-with-pandas-5\"><span class=\"toc-item-num\">5&nbsp;&nbsp;</span>Load data with pandas</a></span><ul class=\"toc-item\"><li><span><a href=\"#Let's-test-if-replacing-'\\n'-with-an-empty-character-helps-to-load-a-csv-file-with-dask\" data-toc-modified-id=\"Let's-test-if-replacing-'\\n'-with-an-empty-character-helps-to-load-a-csv-file-with-dask-5.1\"><span class=\"toc-item-num\">5.1&nbsp;&nbsp;</span>Let's test if replacing '\\n' with an empty character helps to load a csv file with dask</a></span></li><li><span><a href=\"#Loop-in-chunks-over-csv-file-and-do-a-basic-pre-processing-pass\" data-toc-modified-id=\"Loop-in-chunks-over-csv-file-and-do-a-basic-pre-processing-pass-5.2\"><span class=\"toc-item-num\">5.2&nbsp;&nbsp;</span>Loop in chunks over csv file and do a basic pre-processing pass</a></span></li></ul></li><li><span><a href=\"#Dask---second-pre-processing-pass\" data-toc-modified-id=\"Dask---second-pre-processing-pass-6\"><span class=\"toc-item-num\">6&nbsp;&nbsp;</span>Dask - second pre-processing pass</a></span><ul class=\"toc-item\"><li><span><a href=\"#Check-for-null-values\" data-toc-modified-id=\"Check-for-null-values-6.1\"><span class=\"toc-item-num\">6.1&nbsp;&nbsp;</span>Check for null values</a></span></li><li><span><a href=\"#Visualize-the-categories\" data-toc-modified-id=\"Visualize-the-categories-6.2\"><span class=\"toc-item-num\">6.2&nbsp;&nbsp;</span>Visualize the categories</a></span></li><li><span><a href=\"#Set-dask-scheduler-globally\" data-toc-modified-id=\"Set-dask-scheduler-globally-6.3\"><span class=\"toc-item-num\">6.3&nbsp;&nbsp;</span>Set dask scheduler globally</a></span></li><li><span><a href=\"#Remove-html-links,-digits,-stop-words-and-lemmatize-text\" data-toc-modified-id=\"Remove-html-links,-digits,-stop-words-and-lemmatize-text-6.4\"><span class=\"toc-item-num\">6.4&nbsp;&nbsp;</span>Remove html links, digits, stop words and lemmatize text</a></span></li><li><span><a href=\"#Create-balanced-dataset\" data-toc-modified-id=\"Create-balanced-dataset-6.5\"><span class=\"toc-item-num\">6.5&nbsp;&nbsp;</span>Create balanced dataset</a></span></li><li><span><a href=\"#Just-making-sure\" data-toc-modified-id=\"Just-making-sure-6.6\"><span class=\"toc-item-num\">6.6&nbsp;&nbsp;</span>Just making sure</a></span></li></ul></li><li><span><a href=\"#train_test_split-datset\" data-toc-modified-id=\"train_test_split-datset-7\"><span class=\"toc-item-num\">7&nbsp;&nbsp;</span>train_test_split datset</a></span><ul class=\"toc-item\"><li><span><a href=\"#HACK\" data-toc-modified-id=\"HACK-7.1\"><span class=\"toc-item-num\">7.1&nbsp;&nbsp;</span>HACK</a></span></li><li><span><a href=\"#Concatenate-files\" data-toc-modified-id=\"Concatenate-files-7.2\"><span class=\"toc-item-num\">7.2&nbsp;&nbsp;</span>Concatenate files</a></span></li></ul></li><li><span><a href=\"#Keras\" data-toc-modified-id=\"Keras-8\"><span class=\"toc-item-num\">8&nbsp;&nbsp;</span>Keras</a></span><ul class=\"toc-item\"><li><span><a href=\"#Cache-GloVe-100d\" data-toc-modified-id=\"Cache-GloVe-100d-8.1\"><span class=\"toc-item-num\">8.1&nbsp;&nbsp;</span>Cache GloVe 100d</a></span></li><li><span><a href=\"#Create-Generator\" data-toc-modified-id=\"Create-Generator-8.2\"><span class=\"toc-item-num\">8.2&nbsp;&nbsp;</span>Create Generator</a></span></li><li><span><a href=\"#Define-some-variables\" data-toc-modified-id=\"Define-some-variables-8.3\"><span class=\"toc-item-num\">8.3&nbsp;&nbsp;</span>Define some variables</a></span></li><li><span><a href=\"#Define-a-keras-model\" data-toc-modified-id=\"Define-a-keras-model-8.4\"><span class=\"toc-item-num\">8.4&nbsp;&nbsp;</span>Define a keras model</a></span></li><li><span><a href=\"#Visualize-accurarcy-and-loss\" data-toc-modified-id=\"Visualize-accurarcy-and-loss-8.5\"><span class=\"toc-item-num\">8.5&nbsp;&nbsp;</span>Visualize accurarcy and loss</a></span></li></ul></li></ul></div>"
   ]
  },
  {
   "cell_type": "markdown",
   "metadata": {},
   "source": [
    "# Fake News Corpus"
   ]
  },
  {
   "cell_type": "markdown",
   "metadata": {},
   "source": [
    "I found an already cleaned and fairly large dataset at https://github.com/several27/FakeNewsCorpus \n",
    "\n",
    "> This is an open source dataset composed of millions of news articles mostly scraped from a curated list of 1001 domains from http://www.opensources.co/. Because the list does not contain many reliable websites, additionally NYTimes and Webhose English News Articles articles has been included to better balance the classes. The dataset is still work in progress and for now, the public version includes only 9,408,908 articles (745 out of 1001 domains)."
   ]
  },
  {
   "cell_type": "markdown",
   "metadata": {},
   "source": [
    "# Libraries"
   ]
  },
  {
   "cell_type": "code",
   "execution_count": 1,
   "metadata": {},
   "outputs": [
    {
     "name": "stderr",
     "output_type": "stream",
     "text": [
      "Using TensorFlow backend.\n"
     ]
    }
   ],
   "source": [
    "import os\n",
    "import re\n",
    "import sys\n",
    "import csv\n",
    "import glob\n",
    "import string\n",
    "\n",
    "import pandas as pd\n",
    "import numpy as np\n",
    "np.random.seed(0)\n",
    "\n",
    "import dask\n",
    "import dask.dataframe as dd\n",
    "from dask import compute\n",
    "from dask.delayed import delayed\n",
    "from dask.multiprocessing import get\n",
    "from dask.distributed import Client\n",
    "from dask.diagnostics import ProgressBar\n",
    "\n",
    "import multiprocessing as mp\n",
    "from multiprocessing import cpu_count\n",
    "\n",
    "from tqdm import tqdm\n",
    "tqdm.pandas(desc=\"progress-bar\")\n",
    "\n",
    "from pathlib import Path\n",
    "from byte_to_humanity.bth import convert_byte_to\n",
    "from wordcloud import WordCloud, STOPWORDS\n",
    "\n",
    "import keras\n",
    "from keras.preprocessing import sequence\n",
    "from keras.layers import Input, Dense, Embedding, Conv2D, MaxPool2D, Conv1D, GlobalMaxPooling1D, MaxPool1D\n",
    "from keras.layers import Reshape, Flatten, Dropout, Concatenate, Dropout, Activation, Flatten\n",
    "from keras.callbacks import ModelCheckpoint\n",
    "from keras.optimizers import Adam\n",
    "from keras.models import Sequential, load_model, Model\n",
    "import tensorflow as tf\n",
    "\n",
    "import nltk\n",
    "from nltk import FreqDist\n",
    "from nltk import word_tokenize\n",
    "from nltk.corpus import stopwords\n",
    "from nltk.stem.wordnet import WordNetLemmatizer\n",
    "\n",
    "import gensim\n",
    "from gensim.models import word2vec\n",
    "from gensim.models.fasttext import FastText\n",
    "from gensim.parsing.preprocessing import preprocess_string\n",
    "\n",
    "from sklearn.model_selection import train_test_split\n",
    "# from dask_ml.model_selection import train_test_split\n",
    "\n",
    "import matplotlib.pyplot as plt\n",
    "%matplotlib inline\n",
    "\n",
    "# don't print matching warnings\n",
    "import warnings\n",
    "warnings.filterwarnings('ignore') "
   ]
  },
  {
   "cell_type": "code",
   "execution_count": 2,
   "metadata": {},
   "outputs": [],
   "source": [
    "# import local functions\n",
    "import functions as func\n",
    "\n",
    "%load_ext autoreload\n",
    "%autoreload 2"
   ]
  },
  {
   "cell_type": "code",
   "execution_count": 3,
   "metadata": {},
   "outputs": [
    {
     "data": {
      "text/html": [
       "<table style=\"border: 2px solid white;\">\n",
       "<tr>\n",
       "<td style=\"vertical-align: top; border: 0px solid white\">\n",
       "<h3>Client</h3>\n",
       "<ul>\n",
       "  <li><b>Scheduler: </b>tcp://127.0.0.1:43034\n",
       "</ul>\n",
       "</td>\n",
       "<td style=\"vertical-align: top; border: 0px solid white\">\n",
       "<h3>Cluster</h3>\n",
       "<ul>\n",
       "  <li><b>Workers: </b>4</li>\n",
       "  <li><b>Cores: </b>8</li>\n",
       "  <li><b>Memory: </b>31.62 GB</li>\n",
       "</ul>\n",
       "</td>\n",
       "</tr>\n",
       "</table>"
      ],
      "text/plain": [
       "<Client: scheduler='tcp://127.0.0.1:43034' processes=4 cores=8>"
      ]
     },
     "execution_count": 3,
     "metadata": {},
     "output_type": "execute_result"
    }
   ],
   "source": [
    "client = Client()\n",
    "client"
   ]
  },
  {
   "cell_type": "code",
   "execution_count": 4,
   "metadata": {},
   "outputs": [
    {
     "data": {
      "text/plain": [
       "8"
      ]
     },
     "execution_count": 4,
     "metadata": {},
     "output_type": "execute_result"
    }
   ],
   "source": [
    "nCores = cpu_count()\n",
    "nCores"
   ]
  },
  {
   "cell_type": "markdown",
   "metadata": {},
   "source": [
    "# dask.dataframe\n",
    "\n",
    "Because of the size of the dataset (unzipped ~26GB) I am considering using dask. But loading the csv file ended in a ParserError (`Error tokenizing data. C error: EOF inside string starting at row 63`) and apparently this is a known problem with dask's read_csv if the file contains a newline character between quotes (https://stackoverflow.com/q/45752805/5983691)."
   ]
  },
  {
   "cell_type": "markdown",
   "metadata": {},
   "source": [
    "# Setting csv field limit"
   ]
  },
  {
   "cell_type": "markdown",
   "metadata": {},
   "source": [
    "The same row (63) ended in a `_csv.Error: field larger than field limit (131072)` when trying to read the csv file with pandas. To address that error we have to increase the `csv.field_size_limit`."
   ]
  },
  {
   "cell_type": "code",
   "execution_count": 5,
   "metadata": {},
   "outputs": [],
   "source": [
    "# _csv.Error: field larger than field limit (131072)\n",
    "# https://stackoverflow.com/a/15063941/5983691\n",
    "def csv_field_limit():\n",
    "    maxInt = sys.maxsize\n",
    "    decrement = True\n",
    "\n",
    "    while decrement:\n",
    "        # decrease the maxInt value by factor 10 \n",
    "        # as long as the OverflowError occurs.\n",
    "        decrement = False\n",
    "        try:\n",
    "            csv.field_size_limit(maxInt)\n",
    "        except OverflowError:\n",
    "            maxInt = int(maxInt/10)\n",
    "            decrement = True"
   ]
  },
  {
   "cell_type": "code",
   "execution_count": 6,
   "metadata": {},
   "outputs": [],
   "source": [
    "csv_field_limit()"
   ]
  },
  {
   "cell_type": "markdown",
   "metadata": {},
   "source": [
    "# Load data with pandas\n",
    "\n",
    "Unzipped the dataset is about 26GB on disk or 78GB in RAM. It’s not huge, but is also larger than we’d like to manage on a laptop, especially if we value interactivity. In any case let's have a look at the first 100 rows to see what we have and determine what features we can drop and others we need to keep. "
   ]
  },
  {
   "cell_type": "code",
   "execution_count": 7,
   "metadata": {},
   "outputs": [
    {
     "data": {
      "text/html": [
       "<div>\n",
       "<style scoped>\n",
       "    .dataframe tbody tr th:only-of-type {\n",
       "        vertical-align: middle;\n",
       "    }\n",
       "\n",
       "    .dataframe tbody tr th {\n",
       "        vertical-align: top;\n",
       "    }\n",
       "\n",
       "    .dataframe thead th {\n",
       "        text-align: right;\n",
       "    }\n",
       "</style>\n",
       "<table border=\"1\" class=\"dataframe\">\n",
       "  <thead>\n",
       "    <tr style=\"text-align: right;\">\n",
       "      <th></th>\n",
       "      <th>Unnamed: 0</th>\n",
       "      <th>id</th>\n",
       "      <th>domain</th>\n",
       "      <th>type</th>\n",
       "      <th>url</th>\n",
       "      <th>content</th>\n",
       "      <th>scraped_at</th>\n",
       "      <th>inserted_at</th>\n",
       "      <th>updated_at</th>\n",
       "      <th>title</th>\n",
       "      <th>authors</th>\n",
       "      <th>keywords</th>\n",
       "      <th>meta_keywords</th>\n",
       "      <th>meta_description</th>\n",
       "      <th>tags</th>\n",
       "      <th>summary</th>\n",
       "      <th>source</th>\n",
       "    </tr>\n",
       "  </thead>\n",
       "  <tbody>\n",
       "    <tr>\n",
       "      <th>0</th>\n",
       "      <td>0</td>\n",
       "      <td>2</td>\n",
       "      <td>express.co.uk</td>\n",
       "      <td>rumor</td>\n",
       "      <td>https://www.express.co.uk/news/science/738402/...</td>\n",
       "      <td>Life is an illusion, at least on a quantum lev...</td>\n",
       "      <td>2018-01-25 16:17:44.789555</td>\n",
       "      <td>2018-02-02 01:19:41.756632</td>\n",
       "      <td>2018-02-02 01:19:41.756664</td>\n",
       "      <td>Is life an ILLUSION? Researchers prove 'realit...</td>\n",
       "      <td>Sean Martin</td>\n",
       "      <td>NaN</td>\n",
       "      <td>['']</td>\n",
       "      <td>THE UNIVERSE ceases to exist when we are not l...</td>\n",
       "      <td>NaN</td>\n",
       "      <td>NaN</td>\n",
       "      <td>NaN</td>\n",
       "    </tr>\n",
       "    <tr>\n",
       "      <th>1</th>\n",
       "      <td>1</td>\n",
       "      <td>6</td>\n",
       "      <td>barenakedislam.com</td>\n",
       "      <td>hate</td>\n",
       "      <td>http://barenakedislam.com/category/donald-trum...</td>\n",
       "      <td>Unfortunately, he hasn’t yet attacked her for ...</td>\n",
       "      <td>2018-01-25 16:17:44.789555</td>\n",
       "      <td>2018-02-02 01:19:41.756632</td>\n",
       "      <td>2018-02-02 01:19:41.756664</td>\n",
       "      <td>Donald Trump</td>\n",
       "      <td>Linda Rivera, Conrad Calvano, Az Gal, Lincoln ...</td>\n",
       "      <td>NaN</td>\n",
       "      <td>['']</td>\n",
       "      <td>NaN</td>\n",
       "      <td>NaN</td>\n",
       "      <td>NaN</td>\n",
       "      <td>NaN</td>\n",
       "    </tr>\n",
       "    <tr>\n",
       "      <th>2</th>\n",
       "      <td>2</td>\n",
       "      <td>7</td>\n",
       "      <td>barenakedislam.com</td>\n",
       "      <td>hate</td>\n",
       "      <td>http://barenakedislam.com/category/donald-trum...</td>\n",
       "      <td>The Los Angeles Police Department has been den...</td>\n",
       "      <td>2018-01-25 16:17:44.789555</td>\n",
       "      <td>2018-02-02 01:19:41.756632</td>\n",
       "      <td>2018-02-02 01:19:41.756664</td>\n",
       "      <td>Donald Trump</td>\n",
       "      <td>Linda Rivera, Conrad Calvano, Az Gal, Lincoln ...</td>\n",
       "      <td>NaN</td>\n",
       "      <td>['']</td>\n",
       "      <td>NaN</td>\n",
       "      <td>NaN</td>\n",
       "      <td>NaN</td>\n",
       "      <td>NaN</td>\n",
       "    </tr>\n",
       "    <tr>\n",
       "      <th>3</th>\n",
       "      <td>3</td>\n",
       "      <td>8</td>\n",
       "      <td>barenakedislam.com</td>\n",
       "      <td>hate</td>\n",
       "      <td>http://barenakedislam.com/2017/12/24/more-winn...</td>\n",
       "      <td>The White House has decided to quietly withdra...</td>\n",
       "      <td>2018-01-25 16:17:44.789555</td>\n",
       "      <td>2018-02-02 01:19:41.756632</td>\n",
       "      <td>2018-02-02 01:19:41.756664</td>\n",
       "      <td>MORE WINNING! Israeli intelligence source, DEB...</td>\n",
       "      <td>Cleavis Nowell, Cleavisnowell, Clarence J. Fei...</td>\n",
       "      <td>NaN</td>\n",
       "      <td>['']</td>\n",
       "      <td>NaN</td>\n",
       "      <td>NaN</td>\n",
       "      <td>NaN</td>\n",
       "      <td>NaN</td>\n",
       "    </tr>\n",
       "    <tr>\n",
       "      <th>4</th>\n",
       "      <td>4</td>\n",
       "      <td>9</td>\n",
       "      <td>barenakedislam.com</td>\n",
       "      <td>hate</td>\n",
       "      <td>http://barenakedislam.com/2017/12/25/oh-trump-...</td>\n",
       "      <td>“The time has come to cut off the tongues of t...</td>\n",
       "      <td>2018-01-25 16:17:44.789555</td>\n",
       "      <td>2018-02-02 01:19:41.756632</td>\n",
       "      <td>2018-02-02 01:19:41.756664</td>\n",
       "      <td>“Oh, Trump, you coward, you just wait, we will...</td>\n",
       "      <td>F.N. Lehner, Don Spilman, Clarence J. Feinour,...</td>\n",
       "      <td>NaN</td>\n",
       "      <td>['']</td>\n",
       "      <td>NaN</td>\n",
       "      <td>NaN</td>\n",
       "      <td>NaN</td>\n",
       "      <td>NaN</td>\n",
       "    </tr>\n",
       "  </tbody>\n",
       "</table>\n",
       "</div>"
      ],
      "text/plain": [
       "   Unnamed: 0  id              domain   type  \\\n",
       "0           0   2       express.co.uk  rumor   \n",
       "1           1   6  barenakedislam.com   hate   \n",
       "2           2   7  barenakedislam.com   hate   \n",
       "3           3   8  barenakedislam.com   hate   \n",
       "4           4   9  barenakedislam.com   hate   \n",
       "\n",
       "                                                 url  \\\n",
       "0  https://www.express.co.uk/news/science/738402/...   \n",
       "1  http://barenakedislam.com/category/donald-trum...   \n",
       "2  http://barenakedislam.com/category/donald-trum...   \n",
       "3  http://barenakedislam.com/2017/12/24/more-winn...   \n",
       "4  http://barenakedislam.com/2017/12/25/oh-trump-...   \n",
       "\n",
       "                                             content  \\\n",
       "0  Life is an illusion, at least on a quantum lev...   \n",
       "1  Unfortunately, he hasn’t yet attacked her for ...   \n",
       "2  The Los Angeles Police Department has been den...   \n",
       "3  The White House has decided to quietly withdra...   \n",
       "4  “The time has come to cut off the tongues of t...   \n",
       "\n",
       "                   scraped_at                 inserted_at  \\\n",
       "0  2018-01-25 16:17:44.789555  2018-02-02 01:19:41.756632   \n",
       "1  2018-01-25 16:17:44.789555  2018-02-02 01:19:41.756632   \n",
       "2  2018-01-25 16:17:44.789555  2018-02-02 01:19:41.756632   \n",
       "3  2018-01-25 16:17:44.789555  2018-02-02 01:19:41.756632   \n",
       "4  2018-01-25 16:17:44.789555  2018-02-02 01:19:41.756632   \n",
       "\n",
       "                   updated_at  \\\n",
       "0  2018-02-02 01:19:41.756664   \n",
       "1  2018-02-02 01:19:41.756664   \n",
       "2  2018-02-02 01:19:41.756664   \n",
       "3  2018-02-02 01:19:41.756664   \n",
       "4  2018-02-02 01:19:41.756664   \n",
       "\n",
       "                                               title  \\\n",
       "0  Is life an ILLUSION? Researchers prove 'realit...   \n",
       "1                                       Donald Trump   \n",
       "2                                       Donald Trump   \n",
       "3  MORE WINNING! Israeli intelligence source, DEB...   \n",
       "4  “Oh, Trump, you coward, you just wait, we will...   \n",
       "\n",
       "                                             authors  keywords meta_keywords  \\\n",
       "0                                        Sean Martin       NaN          ['']   \n",
       "1  Linda Rivera, Conrad Calvano, Az Gal, Lincoln ...       NaN          ['']   \n",
       "2  Linda Rivera, Conrad Calvano, Az Gal, Lincoln ...       NaN          ['']   \n",
       "3  Cleavis Nowell, Cleavisnowell, Clarence J. Fei...       NaN          ['']   \n",
       "4  F.N. Lehner, Don Spilman, Clarence J. Feinour,...       NaN          ['']   \n",
       "\n",
       "                                    meta_description tags  summary  source  \n",
       "0  THE UNIVERSE ceases to exist when we are not l...  NaN      NaN     NaN  \n",
       "1                                                NaN  NaN      NaN     NaN  \n",
       "2                                                NaN  NaN      NaN     NaN  \n",
       "3                                                NaN  NaN      NaN     NaN  \n",
       "4                                                NaN  NaN      NaN     NaN  "
      ]
     },
     "execution_count": 7,
     "metadata": {},
     "output_type": "execute_result"
    }
   ],
   "source": [
    "in_file = '/storage/data/news_cleaned_2018_02_13.csv.gz'\n",
    "\n",
    "df = pd.read_csv(in_file, nrows=100, compression='gzip')\n",
    "df.head()"
   ]
  },
  {
   "cell_type": "code",
   "execution_count": 8,
   "metadata": {},
   "outputs": [
    {
     "data": {
      "text/html": [
       "<div>\n",
       "<style scoped>\n",
       "    .dataframe tbody tr th:only-of-type {\n",
       "        vertical-align: middle;\n",
       "    }\n",
       "\n",
       "    .dataframe tbody tr th {\n",
       "        vertical-align: top;\n",
       "    }\n",
       "\n",
       "    .dataframe thead th {\n",
       "        text-align: right;\n",
       "    }\n",
       "</style>\n",
       "<table border=\"1\" class=\"dataframe\">\n",
       "  <thead>\n",
       "    <tr style=\"text-align: right;\">\n",
       "      <th></th>\n",
       "      <th>Unnamed: 0</th>\n",
       "      <th>id</th>\n",
       "      <th>domain</th>\n",
       "      <th>type</th>\n",
       "      <th>url</th>\n",
       "      <th>content</th>\n",
       "      <th>scraped_at</th>\n",
       "      <th>inserted_at</th>\n",
       "      <th>updated_at</th>\n",
       "      <th>title</th>\n",
       "      <th>authors</th>\n",
       "      <th>keywords</th>\n",
       "      <th>meta_keywords</th>\n",
       "      <th>meta_description</th>\n",
       "      <th>tags</th>\n",
       "      <th>summary</th>\n",
       "      <th>source</th>\n",
       "    </tr>\n",
       "  </thead>\n",
       "  <tbody>\n",
       "    <tr>\n",
       "      <th>63</th>\n",
       "      <td>63</td>\n",
       "      <td>79</td>\n",
       "      <td>awm.com</td>\n",
       "      <td>unreliable</td>\n",
       "      <td>http://awm.com/heres-the-video-causing-people-...</td>\n",
       "      <td>When the staff at the Australian Reptile Park ...</td>\n",
       "      <td>2018-01-25 16:17:44.789555</td>\n",
       "      <td>2018-02-02 01:19:41.756632</td>\n",
       "      <td>2018-02-02 01:19:41.756664</td>\n",
       "      <td>Here’s The Video Causing People To Gag And Run...</td>\n",
       "      <td>Alexander Smith</td>\n",
       "      <td>NaN</td>\n",
       "      <td>['']</td>\n",
       "      <td>NaN</td>\n",
       "      <td>NaN</td>\n",
       "      <td>NaN</td>\n",
       "      <td>NaN</td>\n",
       "    </tr>\n",
       "  </tbody>\n",
       "</table>\n",
       "</div>"
      ],
      "text/plain": [
       "    Unnamed: 0  id   domain        type  \\\n",
       "63          63  79  awm.com  unreliable   \n",
       "\n",
       "                                                  url  \\\n",
       "63  http://awm.com/heres-the-video-causing-people-...   \n",
       "\n",
       "                                              content  \\\n",
       "63  When the staff at the Australian Reptile Park ...   \n",
       "\n",
       "                    scraped_at                 inserted_at  \\\n",
       "63  2018-01-25 16:17:44.789555  2018-02-02 01:19:41.756632   \n",
       "\n",
       "                    updated_at  \\\n",
       "63  2018-02-02 01:19:41.756664   \n",
       "\n",
       "                                                title          authors  \\\n",
       "63  Here’s The Video Causing People To Gag And Run...  Alexander Smith   \n",
       "\n",
       "    keywords meta_keywords meta_description tags  summary  source  \n",
       "63       NaN          ['']              NaN  NaN      NaN     NaN  "
      ]
     },
     "execution_count": 8,
     "metadata": {},
     "output_type": "execute_result"
    }
   ],
   "source": [
    "df.iloc[[63]]"
   ]
  },
  {
   "cell_type": "code",
   "execution_count": 9,
   "metadata": {},
   "outputs": [
    {
     "data": {
      "text/plain": [
       "'When the staff at the Australian Reptile Park realized that a spider’s egg sack was ready to burst, they hurried to grab their camera and set it up to capture all the nightmarish scene. And as a result, you’ll see hundreds, if not over a thousand, baby spiders emerging from their egg sack and crawling out into the world. These spiders are deadly, and the resulting video will make put your gag reflex to the test.\\n\\nWatch as the staff members of the reptile park film theses tiny, venomous, and extremely deadly funnel web spiders emerging into the world.\\n\\nThe park harvests funnel web spiders’ venom to produce a life-saving anti-venom in the unfortunate case when someone is bitten by a dangerous spider. To get the venom from these tiny deadly creatures, the staff members must “milk” the funnel web spiders for their venom.\\n\\nTo raise awareness and gross thousands of people out, the park filmed the birth of these funnel web spiders. And as you will see when you press play (and you’re going to press play because it is just too disturbing of a video to ignore), the staff member uses tweezers to rip open the spider egg sack and help the little ones out into the world.\\n\\nAfter filming the clip, they shared it on their Facebook page where it quickly gained international attention. They wrote the following caption to accompany the video:\\n\\n“Baby Funnel web spiders coming out of an egg sack is the stuff of some people’s nightmares – but we love them!”\\n\\nThe park loves the spiders because they collect their venom to save lives in the case of a fatal spider bite. Kane Christensen works as the Head of Spiders at the Australian Reptile Park. He spoke to the Daily Mail Australia about the funnel web spiders and their use for their venom.\\n\\n“The venom is used by BioCSL, to manufacture anti-venom that saves spider bite victims,” Christensen said.\\n\\nThe egg-hatching video only shows the tip of the iceberg, so to speak. The park has a dozen more spider eggs ready to go.\\n\\n“I’m a proud dad with all those babies,” he said.\\n\\nThe Australian Reptile Park is the only place in the country of Australia that supplies the venom that is needed to create anti-venom for the funnel web spiders bite.\\n\\nThe process can be very difficult. Male spiders do not produce venom until they are four-years-old. That means Christensen and his team have to wait a lot and breeds lots of spiders over the years.\\n\\nChristensen leads his specially trained team to milk more than 150 funnel web spiders every two weeks. They need to do it that often if they hope to produce enough venom to supply enough for the anti-venom.\\n\\n“Each egg would have an average of 100 spiders inside each one, but last week one gave us 175 little spiders, which was awesome.”\\n\\nSince the anti-venom has been produced, no fatalities have resulted from a bite of a funnel web spider.\\n\\nChristensen and his team are doing profound work and saving lives.'"
      ]
     },
     "execution_count": 9,
     "metadata": {},
     "output_type": "execute_result"
    }
   ],
   "source": [
    "df.content[63]"
   ]
  },
  {
   "cell_type": "markdown",
   "metadata": {},
   "source": [
    "## Let's test if replacing '\\n' with an empty character helps to load a csv file with dask"
   ]
  },
  {
   "cell_type": "code",
   "execution_count": 10,
   "metadata": {},
   "outputs": [],
   "source": [
    "df = df.replace('\\n', ' ', regex=True)\n",
    "df.to_csv('test_out.csv', index=False)\n",
    "dataset = dd.read_csv('test_out.csv')"
   ]
  },
  {
   "cell_type": "markdown",
   "metadata": {},
   "source": [
    "## Loop in chunks over csv file and do a basic pre-processing pass"
   ]
  },
  {
   "cell_type": "markdown",
   "metadata": {},
   "source": [
    "In order to fix the problem we can load in the dataset in chunks and loop that way through the dataset. And while we are at it, lets look at what features we want to keep? `title`, `content` and `type` for sure, but what else might be of good use later?\n",
    "\n",
    "We will save to parquet to save disk space, 23GB csv file vs 12GB parquet file."
   ]
  },
  {
   "cell_type": "code",
   "execution_count": 11,
   "metadata": {},
   "outputs": [
    {
     "name": "stderr",
     "output_type": "stream",
     "text": [
      "853it [1:26:56,  6.85s/it]\n"
     ]
    }
   ],
   "source": [
    "filename = '/storage/data/preproc.csv'\n",
    "\n",
    "chunksize = 10000\n",
    "reader = pd.read_csv(in_file, usecols=['type', 'content', 'title'], chunksize=chunksize, \n",
    "                     encoding='utf-8', engine='python', compression='gzip')\n",
    "\n",
    "with tqdm() as progress:\n",
    "    for i, chunk in enumerate(reader):\n",
    "        # lower case text\n",
    "        chunk = chunk.apply(lambda x: x.astype(str).str.lower())\n",
    "\n",
    "        # remove newlines\n",
    "        chunk['content'] = chunk['content'].apply(func.remove_newlines)\n",
    "        chunk['title'] = chunk['title'].apply(func.remove_newlines)\n",
    "\n",
    "        # remove punctuation\n",
    "        chunk['content'] = chunk['content'].apply(func.remove_punctuation)\n",
    "        chunk['title'] = chunk['title'].apply(func.remove_punctuation)\n",
    "\n",
    "        # merge title and content column\n",
    "        chunk['news_content'] = chunk['title'].map(str) + ' ' + chunk['content'].map(str)                 \n",
    "\n",
    "        # drop title and content column\n",
    "        chunk.drop(['title', 'content'], axis=1, inplace=True)\n",
    "        \n",
    "        # rename columns\n",
    "        chunk = chunk.rename(columns={'type': 'category'})\n",
    "\n",
    "        # reorder columns\n",
    "        chunk = chunk[['news_content', 'category']]\n",
    "        \n",
    "        # save data to parquet file\n",
    "        if i == 0:\n",
    "            chunk.to_csv(filename, index=False)\n",
    "        else:\n",
    "            chunk.to_csv(filename, index=False, mode='a', header=False)\n",
    "\n",
    "        progress.update()"
   ]
  },
  {
   "cell_type": "code",
   "execution_count": 12,
   "metadata": {},
   "outputs": [
    {
     "data": {
      "text/plain": [
       "233"
      ]
     },
     "execution_count": 12,
     "metadata": {},
     "output_type": "execute_result"
    }
   ],
   "source": [
    "# calculate number of partitions that have around 100MB of data each\n",
    "size = os.path.getsize('/storage/data/preproc.csv')\n",
    "npar = int(convert_byte_to(size, 'm')/100)\n",
    "npar"
   ]
  },
  {
   "cell_type": "code",
   "execution_count": 13,
   "metadata": {},
   "outputs": [],
   "source": [
    "# repartition dataset and save as parquet file\n",
    "ddf = dd.read_csv('/storage/data/preproc.csv').repartition(npartitions=npar).to_parquet('/storage/data/parquet')"
   ]
  },
  {
   "cell_type": "code",
   "execution_count": 14,
   "metadata": {},
   "outputs": [],
   "source": [
    "# removing csv file to save disk space\n",
    "os.remove('/storage/data/preproc.csv')"
   ]
  },
  {
   "cell_type": "markdown",
   "metadata": {},
   "source": [
    "---"
   ]
  },
  {
   "cell_type": "markdown",
   "metadata": {},
   "source": [
    "# Dask - second pre-processing pass\n",
    "\n",
    "Now we can have a much better look at our data. What categories are in there and the usual things..."
   ]
  },
  {
   "cell_type": "code",
   "execution_count": 15,
   "metadata": {},
   "outputs": [
    {
     "data": {
      "text/html": [
       "<div>\n",
       "<style scoped>\n",
       "    .dataframe tbody tr th:only-of-type {\n",
       "        vertical-align: middle;\n",
       "    }\n",
       "\n",
       "    .dataframe tbody tr th {\n",
       "        vertical-align: top;\n",
       "    }\n",
       "\n",
       "    .dataframe thead th {\n",
       "        text-align: right;\n",
       "    }\n",
       "</style>\n",
       "<table border=\"1\" class=\"dataframe\">\n",
       "  <thead>\n",
       "    <tr style=\"text-align: right;\">\n",
       "      <th></th>\n",
       "      <th>news_content</th>\n",
       "      <th>category</th>\n",
       "    </tr>\n",
       "  </thead>\n",
       "  <tbody>\n",
       "    <tr>\n",
       "      <th>0</th>\n",
       "      <td>is life an illusion researchers prove reality ...</td>\n",
       "      <td>rumor</td>\n",
       "    </tr>\n",
       "    <tr>\n",
       "      <th>1</th>\n",
       "      <td>donald trump unfortunately he hasn’t yet attac...</td>\n",
       "      <td>hate</td>\n",
       "    </tr>\n",
       "    <tr>\n",
       "      <th>2</th>\n",
       "      <td>donald trump the los angeles police department...</td>\n",
       "      <td>hate</td>\n",
       "    </tr>\n",
       "    <tr>\n",
       "      <th>3</th>\n",
       "      <td>more winning israeli intelligence source debka...</td>\n",
       "      <td>hate</td>\n",
       "    </tr>\n",
       "    <tr>\n",
       "      <th>4</th>\n",
       "      <td>oh trump you coward you just wait we will dig ...</td>\n",
       "      <td>hate</td>\n",
       "    </tr>\n",
       "  </tbody>\n",
       "</table>\n",
       "</div>"
      ],
      "text/plain": [
       "                                        news_content category\n",
       "0  is life an illusion researchers prove reality ...    rumor\n",
       "1  donald trump unfortunately he hasn’t yet attac...     hate\n",
       "2  donald trump the los angeles police department...     hate\n",
       "3  more winning israeli intelligence source debka...     hate\n",
       "4  oh trump you coward you just wait we will dig ...     hate"
      ]
     },
     "execution_count": 15,
     "metadata": {},
     "output_type": "execute_result"
    }
   ],
   "source": [
    "ddf = dd.read_parquet('/storage/data/parquet')\n",
    "ddf.head()"
   ]
  },
  {
   "cell_type": "code",
   "execution_count": 16,
   "metadata": {},
   "outputs": [
    {
     "name": "stdout",
     "output_type": "stream",
     "text": [
      "Number of rows: 8529090\n"
     ]
    }
   ],
   "source": [
    "print('Number of rows: {}'.format(len(ddf)))"
   ]
  },
  {
   "cell_type": "markdown",
   "metadata": {},
   "source": [
    "## Check for null values"
   ]
  },
  {
   "cell_type": "code",
   "execution_count": 17,
   "metadata": {},
   "outputs": [
    {
     "data": {
      "text/plain": [
       "403309"
      ]
     },
     "execution_count": 17,
     "metadata": {},
     "output_type": "execute_result"
    }
   ],
   "source": [
    "ddf.isna().sum().sum().compute(num_workers=4)"
   ]
  },
  {
   "cell_type": "markdown",
   "metadata": {},
   "source": [
    "## Visualize the categories"
   ]
  },
  {
   "cell_type": "code",
   "execution_count": 18,
   "metadata": {},
   "outputs": [
    {
     "data": {
      "text/plain": [
       "reliable                      1913222\n",
       "political                     1657224\n",
       "bias                          1138998\n",
       "fake                           894746\n",
       "conspiracy                     831235\n",
       "rumor                          481158\n",
       "unknown                        371518\n",
       "unreliable                     298784\n",
       "clickbait                      231949\n",
       "junksci                        117467\n",
       "satire                         112948\n",
       "hate                            76496\n",
       "none                               23\n",
       "2018-02-10 13:43:39.521661         13\n",
       "Name: category, dtype: int64"
      ]
     },
     "execution_count": 18,
     "metadata": {},
     "output_type": "execute_result"
    }
   ],
   "source": [
    "categories = ddf.category.value_counts().compute(num_workers=4)\n",
    "categories"
   ]
  },
  {
   "cell_type": "code",
   "execution_count": null,
   "metadata": {},
   "outputs": [
    {
     "data": {
      "image/png": "[encoded data removed]",
      "text/plain": [
       "<Figure size 864x864 with 1 Axes>"
      ]
     },
     "metadata": {},
     "output_type": "display_data"
    }
   ],
   "source": [
    "categories.plot(kind='pie', figsize=(12, 12))\n",
    "plt.show();"
   ]
  },
  {
   "cell_type": "markdown",
   "metadata": {},
   "source": [
    "We have some oddly named categories and null values. With the next few steps we will take care of it and more..."
   ]
  },
  {
   "cell_type": "markdown",
   "metadata": {},
   "source": [
    "## Set dask scheduler globally"
   ]
  },
  {
   "cell_type": "code",
   "execution_count": null,
   "metadata": {},
   "outputs": [
    {
     "data": {
      "text/plain": [
       "<dask.config.set at 0x7f34ca04bcf8>"
      ]
     },
     "execution_count": 20,
     "metadata": {},
     "output_type": "execute_result"
    }
   ],
   "source": [
    "# Send data to separate processes for processing. This option \n",
    "# is good when operating on pure Python objects like strings.\n",
    "dask.config.set(scheduler='processes')"
   ]
  },
  {
   "cell_type": "markdown",
   "metadata": {},
   "source": [
    "## Remove html links, digits, stop words and lemmatize text"
   ]
  },
  {
   "cell_type": "code",
   "execution_count": null,
   "metadata": {},
   "outputs": [],
   "source": [
    "ddf['news_content'] = ddf['news_content'].map(func.remove_html, meta=pd.Series(dtype='O'))"
   ]
  },
  {
   "cell_type": "code",
   "execution_count": null,
   "metadata": {},
   "outputs": [],
   "source": [
    "ddf['news_content'] = ddf['news_content'].map(func.remove_digits, meta=pd.Series(dtype='O'))"
   ]
  },
  {
   "cell_type": "code",
   "execution_count": null,
   "metadata": {},
   "outputs": [],
   "source": [
    "ddf['news_content'] = ddf['news_content'].map(func.stopwords_lemmatizing, meta=pd.Series(dtype='O'))"
   ]
  },
  {
   "cell_type": "markdown",
   "metadata": {},
   "source": [
    "**TODO**: figure out a way to improve speed."
   ]
  },
  {
   "cell_type": "markdown",
   "metadata": {},
   "source": [
    "## Create balanced dataset"
   ]
  },
  {
   "cell_type": "markdown",
   "metadata": {},
   "source": [
    "Let us recall how the categories are distributed and create a dataset which has only two categories: `reliable` and `unreliable`. We will combine a few categories into one for category `unreliable`."
   ]
  },
  {
   "cell_type": "code",
   "execution_count": null,
   "metadata": {},
   "outputs": [
    {
     "name": "stdout",
     "output_type": "stream",
     "text": [
      "Total number of unreliable content: 2024765\n"
     ]
    }
   ],
   "source": [
    "num_unreliable = categories['conspiracy'] + categories['fake'] + categories['unreliable']\n",
    "print('Total number of unreliable content: {}'.format(num_unreliable))"
   ]
  },
  {
   "cell_type": "markdown",
   "metadata": {},
   "source": [
    "Let us combine the above categories into one and then make both (`reliable` and `unreliable`) categories the same size. And while we are at it, drop the rest."
   ]
  },
  {
   "cell_type": "code",
   "execution_count": null,
   "metadata": {},
   "outputs": [],
   "source": [
    "ddf['category'] = ddf['category'].map({'reliable': 'reliable', 'unreliable': 'unreliable', \n",
    "                                       'conspiracy': 'unreliable', 'fake': 'unreliable'})"
   ]
  },
  {
   "cell_type": "code",
   "execution_count": null,
   "metadata": {},
   "outputs": [],
   "source": [
    "ddf = ddf.dropna()"
   ]
  },
  {
   "cell_type": "code",
   "execution_count": null,
   "metadata": {},
   "outputs": [
    {
     "name": "stdout",
     "output_type": "stream",
     "text": [
      "[########################################] | 100% Completed |  2hr 20min 48.3s\n"
     ]
    }
   ],
   "source": [
    "with ProgressBar():\n",
    "    ddf.to_parquet('/storage/data/cleaned')"
   ]
  },
  {
   "cell_type": "markdown",
   "metadata": {},
   "source": [
    "## Just making sure"
   ]
  },
  {
   "cell_type": "code",
   "execution_count": null,
   "metadata": {},
   "outputs": [],
   "source": [
    "ddf = dd.read_parquet('/storage/data/cleaned')"
   ]
  },
  {
   "cell_type": "code",
   "execution_count": null,
   "metadata": {},
   "outputs": [
    {
     "data": {
      "text/plain": [
       "0"
      ]
     },
     "execution_count": 29,
     "metadata": {},
     "output_type": "execute_result"
    }
   ],
   "source": [
    "ddf.isnull().sum().sum().compute(num_workers=4)"
   ]
  },
  {
   "cell_type": "code",
   "execution_count": null,
   "metadata": {},
   "outputs": [
    {
     "data": {
      "text/plain": [
       "unreliable    2024765\n",
       "reliable      1913222\n",
       "Name: category, dtype: int64"
      ]
     },
     "execution_count": 30,
     "metadata": {},
     "output_type": "execute_result"
    }
   ],
   "source": [
    "categories = ddf.category.value_counts().compute(num_workers=4)\n",
    "categories"
   ]
  },
  {
   "cell_type": "markdown",
   "metadata": {},
   "source": [
    "Our dataset looks much better now, no Nan values and only two categories."
   ]
  },
  {
   "cell_type": "markdown",
   "metadata": {},
   "source": [
    "# train_test_split datset"
   ]
  },
  {
   "cell_type": "markdown",
   "metadata": {},
   "source": [
    "## HACK\n",
    "\n",
    "For some reason we are missing two files somehwere in the list. To fix it and be able to work better with it we will convert them to csv. Also, the parquet files are named `part.0.parquet` and get converted to csv with `000.part` naming and therefore are sorted."
   ]
  },
  {
   "cell_type": "code",
   "execution_count": null,
   "metadata": {},
   "outputs": [
    {
     "name": "stdout",
     "output_type": "stream",
     "text": [
      "[########################################] | 100% Completed |  1min 27.2s\n"
     ]
    }
   ],
   "source": [
    "with ProgressBar():\n",
    "    ddf = dd.read_parquet('/storage/data/cleaned')\n",
    "    ddf = ddf.to_csv('/storage/data/cleaned_csv', index=False)"
   ]
  },
  {
   "cell_type": "markdown",
   "metadata": {},
   "source": [
    "## Concatenate files\n",
    "\n",
    "To concatenate the cleaned csv files into one makes only sense if we have a lot of memory, like we have at paperspace. Otherwise we will run into errors like the following: `OSError: [Errno 12] Cannot allocate memory`"
   ]
  },
  {
   "cell_type": "code",
   "execution_count": null,
   "metadata": {},
   "outputs": [
    {
     "name": "stderr",
     "output_type": "stream",
     "text": [
      "231it [06:22,  4.12s/it]\n"
     ]
    }
   ],
   "source": [
    "allFiles = glob.glob(\"/storage/data/cleaned_csv/*\")\n",
    "out_file = Path('/storage/data/cleaned_news_data.csv')\n",
    "\n",
    "with tqdm() as progress:\n",
    "    for i, file in enumerate(sorted(allFiles)):\n",
    "        df = pd.read_csv(file)\n",
    "\n",
    "        if i == 0:\n",
    "            df.to_csv(out_file, index=False)\n",
    "        else:\n",
    "            df.to_csv(out_file, index=False, mode='a', header=False)\n",
    "            \n",
    "        progress.update()"
   ]
  },
  {
   "cell_type": "code",
   "execution_count": null,
   "metadata": {},
   "outputs": [
    {
     "name": "stdout",
     "output_type": "stream",
     "text": [
      "The cleaned dataset is 6.54 GB\n"
     ]
    }
   ],
   "source": [
    "size = os.path.getsize(out_file)\n",
    "print('The cleaned dataset is {0:.2f} GB'.format(convert_byte_to(size, 'g')))"
   ]
  },
  {
   "cell_type": "markdown",
   "metadata": {},
   "source": [
    "Let us split the dataset into a training and a test dataset a different way without filling up our memory. A nearly 7GB csv file will be more than 20GB in memory with pandas."
   ]
  },
  {
   "cell_type": "code",
   "execution_count": null,
   "metadata": {},
   "outputs": [],
   "source": [
    "train_file = Path('/storage/data/train_data.csv')\n",
    "test_file = Path('/storage/data/test_data.csv')"
   ]
  },
  {
   "cell_type": "code",
   "execution_count": null,
   "metadata": {},
   "outputs": [],
   "source": [
    "def split_dataset(i, df):\n",
    "    train, test = train_test_split(df, test_size=0.2)\n",
    "\n",
    "    if i == 0:\n",
    "        train.to_csv(train_file, index=False)\n",
    "        test.to_csv(test_file, index=False)\n",
    "    else:\n",
    "        train.to_csv(train_file, index=False, mode='a', header=False)\n",
    "        test.to_csv(test_file, index=False, mode='a', header=False)"
   ]
  },
  {
   "cell_type": "code",
   "execution_count": null,
   "metadata": {},
   "outputs": [],
   "source": [
    "n_files = len([name for name in os.listdir('/storage/data/cleaned_csv/')])\n",
    "\n",
    "template = '/storage/data/cleaned_csv/{:03d}.part'\n",
    "filenames = [template.format(k) for k in range(0, n_files)]\n",
    "dataframes = (pd.read_csv(fname) for fname in filenames)"
   ]
  },
  {
   "cell_type": "code",
   "execution_count": null,
   "metadata": {},
   "outputs": [
    {
     "name": "stderr",
     "output_type": "stream",
     "text": [
      "231it [06:10,  3.25s/it]\n"
     ]
    }
   ],
   "source": [
    "with tqdm() as progress:\n",
    "    for i, df in enumerate(dataframes):\n",
    "        split_dataset(i, df)\n",
    "\n",
    "        progress.update()"
   ]
  },
  {
   "cell_type": "markdown",
   "metadata": {},
   "source": [
    "---"
   ]
  },
  {
   "cell_type": "markdown",
   "metadata": {},
   "source": [
    "# Keras"
   ]
  },
  {
   "cell_type": "code",
   "execution_count": 7,
   "metadata": {},
   "outputs": [],
   "source": [
    "train_data = Path('/storage/data/train_bool_data.csv')\n",
    "valid_data = Path('/storage/data/valid_bool_data.csv')"
   ]
  },
  {
   "cell_type": "code",
   "execution_count": 8,
   "metadata": {},
   "outputs": [
    {
     "name": "stderr",
     "output_type": "stream",
     "text": [
      "3150390it [00:16, 189338.48it/s]\n"
     ]
    }
   ],
   "source": [
    "train_size = 0\n",
    "with open(train_data, 'r') as f:\n",
    "    for line in tqdm(f):\n",
    "        train_size += 1"
   ]
  },
  {
   "cell_type": "code",
   "execution_count": 9,
   "metadata": {},
   "outputs": [
    {
     "name": "stderr",
     "output_type": "stream",
     "text": [
      "787599it [00:04, 180622.41it/s]\n"
     ]
    }
   ],
   "source": [
    "valid_size = 0\n",
    "with open(valid_data, 'r') as f:\n",
    "    for line in tqdm(f):\n",
    "        valid_size += 1"
   ]
  },
  {
   "cell_type": "markdown",
   "metadata": {},
   "source": [
    "## Cache GloVe 100d\n",
    "\n",
    "We are going to use the Global Vectors for Word Representation which can be found [here](https://nlp.stanford.edu/projects/glove/)."
   ]
  },
  {
   "cell_type": "code",
   "execution_count": 10,
   "metadata": {},
   "outputs": [
    {
     "name": "stderr",
     "output_type": "stream",
     "text": [
      "400000it [00:11, 35268.80it/s]\n"
     ]
    }
   ],
   "source": [
    "f = open('/storage/data/glove.6B.100d.txt', 'r')\n",
    "\n",
    "glove = {}\n",
    "for line in tqdm(f):\n",
    "    values = line.split()\n",
    "    \n",
    "    word = values[0]\n",
    "    glove[word] = np.asarray(values[1:], dtype='float32')\n",
    "    \n",
    "f.close()"
   ]
  },
  {
   "cell_type": "markdown",
   "metadata": {},
   "source": [
    "## Create Generator"
   ]
  },
  {
   "cell_type": "markdown",
   "metadata": {},
   "source": [
    "Because of the size of our data we need to create our own generator in order to read the data line by line."
   ]
  },
  {
   "cell_type": "code",
   "execution_count": 11,
   "metadata": {},
   "outputs": [],
   "source": [
    "def _generator_process_line(line):\n",
    "    # initialize content\n",
    "    embedding = np.zeros((max_words, 100))\n",
    "    \n",
    "    # iterate over each word in line\n",
    "    for i, word in enumerate(line[0].split()[:max_words]):\n",
    "        # get vector if word is in glove\n",
    "        if word in glove:\n",
    "            embedding[i] = glove[word]\n",
    "            \n",
    "    return embedding, line[1]\n",
    "\n",
    "def Generator(data, batch_size):\n",
    "    while True:\n",
    "        with open(data, 'r') as f:\n",
    "            # skip header\n",
    "            for _ in range(1):\n",
    "                next(f)\n",
    "            \n",
    "            # initialize content and category using numpy\n",
    "            batch_i = 0\n",
    "            batch_embedding = np.zeros((batch_size, max_words, 100))\n",
    "            batch_category = np.zeros((batch_size, 1))\n",
    "            \n",
    "            # read over each line\n",
    "            reader = csv.reader(f)\n",
    "            for line in reader:\n",
    "                # process each line\n",
    "                embedding, category = _generator_process_line(line)                \n",
    "                \n",
    "                # set batch values, if iterator plus 1 equals batch_size re-initialize\n",
    "                if (batch_i + 1) == batch_size:\n",
    "                    yield batch_embedding, batch_category\n",
    "                    \n",
    "                    batch_embedding = np.zeros((batch_size, max_words, 100))\n",
    "                    batch_category = np.zeros((batch_size, 1))\n",
    "                    batch_i = 0\n",
    "                else:\n",
    "                    batch_embedding[batch_i] = embedding\n",
    "                    batch_category[batch_i, 0] = category\n",
    "                    batch_i += 1"
   ]
  },
  {
   "cell_type": "markdown",
   "metadata": {},
   "source": [
    "## Define some variables"
   ]
  },
  {
   "cell_type": "markdown",
   "metadata": {},
   "source": [
    "The more words we want to have in our model the slower the calaculation, but it might be worth running 2, 3 epochs to see what the outcome is."
   ]
  },
  {
   "cell_type": "code",
   "execution_count": 12,
   "metadata": {},
   "outputs": [],
   "source": [
    "max_words = 250\n",
    "input_shape = max_words, 100\n",
    "\n",
    "filters = 250\n",
    "kernel_size = 3\n",
    "hidden_dims = 250\n",
    "\n",
    "batch_size = 128\n",
    "epochs = 20"
   ]
  },
  {
   "cell_type": "markdown",
   "metadata": {},
   "source": [
    "## Define a keras model"
   ]
  },
  {
   "cell_type": "code",
   "execution_count": 13,
   "metadata": {},
   "outputs": [],
   "source": [
    "def cnn_model(input_shape, filters=250, kernel_size=3, hidden_dims=250):\n",
    "    model = Sequential([\n",
    "        Conv1D(filters, kernel_size, input_shape=(input_shape[0], input_shape[1]), \n",
    "               padding='valid', activation='relu', strides=1),\n",
    "        GlobalMaxPooling1D(),\n",
    "        Dense(hidden_dims),\n",
    "        Dropout(0.2, activation='relu'),\n",
    "        Dense(1, activation='sigmoid')\n",
    "    ])\n",
    "    \n",
    "    # We only looking for reliable vs unreliable targets\n",
    "    model.compile(loss='binary_crossentropy', optimizer='adam', metrics=['accuracy'])\n",
    "    \n",
    "    return model"
   ]
  },
  {
   "cell_type": "code",
   "execution_count": 14,
   "metadata": {},
   "outputs": [
    {
     "name": "stdout",
     "output_type": "stream",
     "text": [
      "WARNING:tensorflow:From /opt/conda/envs/fastai/lib/python3.6/site-packages/tensorflow/python/framework/op_def_library.py:263: colocate_with (from tensorflow.python.framework.ops) is deprecated and will be removed in a future version.\n",
      "Instructions for updating:\n",
      "Colocations handled automatically by placer.\n",
      "WARNING:tensorflow:From /opt/conda/envs/fastai/lib/python3.6/site-packages/keras/backend/tensorflow_backend.py:3445: calling dropout (from tensorflow.python.ops.nn_ops) with keep_prob is deprecated and will be removed in a future version.\n",
      "Instructions for updating:\n",
      "Please use `rate` instead of `keep_prob`. Rate should be set to `rate = 1 - keep_prob`.\n",
      "_________________________________________________________________\n",
      "Layer (type)                 Output Shape              Param #   \n",
      "=================================================================\n",
      "conv1d_1 (Conv1D)            (None, 248, 250)          75250     \n",
      "_________________________________________________________________\n",
      "global_max_pooling1d_1 (Glob (None, 250)               0         \n",
      "_________________________________________________________________\n",
      "dense_1 (Dense)              (None, 250)               62750     \n",
      "_________________________________________________________________\n",
      "dropout_1 (Dropout)          (None, 250)               0         \n",
      "_________________________________________________________________\n",
      "activation_1 (Activation)    (None, 250)               0         \n",
      "_________________________________________________________________\n",
      "dense_2 (Dense)              (None, 1)                 251       \n",
      "=================================================================\n",
      "Total params: 138,251\n",
      "Trainable params: 138,251\n",
      "Non-trainable params: 0\n",
      "_________________________________________________________________\n"
     ]
    }
   ],
   "source": [
    "model = cnn_model(input_shape, filters, kernel_size, hidden_dims)\n",
    "model.summary()"
   ]
  },
  {
   "cell_type": "markdown",
   "metadata": {},
   "source": [
    "Let's use tensorflow on one GPU. Next step would be calculate the model on [multiple GPU's](https://www.tensorflow.org/guide/using_gpu#using_multiple_gpus)."
   ]
  },
  {
   "cell_type": "code",
   "execution_count": 15,
   "metadata": {
    "scrolled": true
   },
   "outputs": [
    {
     "name": "stdout",
     "output_type": "stream",
     "text": [
      "WARNING:tensorflow:From /opt/conda/envs/fastai/lib/python3.6/site-packages/tensorflow/python/ops/math_ops.py:3066: to_int32 (from tensorflow.python.ops.math_ops) is deprecated and will be removed in a future version.\n",
      "Instructions for updating:\n",
      "Use tf.cast instead.\n",
      "WARNING:tensorflow:From /opt/conda/envs/fastai/lib/python3.6/site-packages/tensorflow/python/ops/math_grad.py:102: div (from tensorflow.python.ops.math_ops) is deprecated and will be removed in a future version.\n",
      "Instructions for updating:\n",
      "Deprecated in favor of operator or tf.math.divide.\n",
      "Epoch 1/20\n",
      " 3491/24612 [===>..........................] - ETA: 35:39 - loss: 0.0682 - acc: 0.9739"
     ]
    },
    {
     "name": "stderr",
     "output_type": "stream",
     "text": [
      "IOPub message rate exceeded.\n",
      "The notebook server will temporarily stop sending output\n",
      "to the client in order to avoid crashing it.\n",
      "To change this limit, set the config variable\n",
      "`--NotebookApp.iopub_msg_rate_limit`.\n",
      "\n",
      "Current values:\n",
      "NotebookApp.iopub_msg_rate_limit=1000.0 (msgs/sec)\n",
      "NotebookApp.rate_limit_window=3.0 (secs)\n",
      "\n"
     ]
    },
    {
     "name": "stdout",
     "output_type": "stream",
     "text": [
      " 8921/24612 [=========>....................] - ETA: 26:43 - loss: 0.0664 - acc: 0.9744"
     ]
    },
    {
     "name": "stderr",
     "output_type": "stream",
     "text": [
      "IOPub message rate exceeded.\n",
      "The notebook server will temporarily stop sending output\n",
      "to the client in order to avoid crashing it.\n",
      "To change this limit, set the config variable\n",
      "`--NotebookApp.iopub_msg_rate_limit`.\n",
      "\n",
      "Current values:\n",
      "NotebookApp.iopub_msg_rate_limit=1000.0 (msgs/sec)\n",
      "NotebookApp.rate_limit_window=3.0 (secs)\n",
      "\n"
     ]
    },
    {
     "name": "stdout",
     "output_type": "stream",
     "text": [
      "15461/24612 [=================>............] - ETA: 16:22 - loss: 0.0648 - acc: 0.9750"
     ]
    },
    {
     "name": "stderr",
     "output_type": "stream",
     "text": [
      "IOPub message rate exceeded.\n",
      "The notebook server will temporarily stop sending output\n",
      "to the client in order to avoid crashing it.\n",
      "To change this limit, set the config variable\n",
      "`--NotebookApp.iopub_msg_rate_limit`.\n",
      "\n",
      "Current values:\n",
      "NotebookApp.iopub_msg_rate_limit=1000.0 (msgs/sec)\n",
      "NotebookApp.rate_limit_window=3.0 (secs)\n",
      "\n"
     ]
    },
    {
     "name": "stdout",
     "output_type": "stream",
     "text": [
      "24612/24612 [==============================] - 2980s 121ms/step - loss: 0.0633 - acc: 0.9757 - val_loss: 0.0627 - val_acc: 0.9759\n",
      "Epoch 3/20\n",
      " 1663/24612 [=>............................] - ETA: 39:05 - loss: 0.0591 - acc: 0.9777"
     ]
    },
    {
     "name": "stderr",
     "output_type": "stream",
     "text": [
      "IOPub message rate exceeded.\n",
      "The notebook server will temporarily stop sending output\n",
      "to the client in order to avoid crashing it.\n",
      "To change this limit, set the config variable\n",
      "`--NotebookApp.iopub_msg_rate_limit`.\n",
      "\n",
      "Current values:\n",
      "NotebookApp.iopub_msg_rate_limit=1000.0 (msgs/sec)\n",
      "NotebookApp.rate_limit_window=3.0 (secs)\n",
      "\n"
     ]
    },
    {
     "name": "stdout",
     "output_type": "stream",
     "text": [
      "24612/24612 [==============================] - 2833s 115ms/step - loss: 0.0556 - acc: 0.9788 - val_loss: 0.0560 - val_acc: 0.9784\n",
      "Epoch 4/20\n",
      "24612/24612 [==============================] - 2895s 118ms/step - loss: 0.0509 - acc: 0.9807 - val_loss: 0.0575 - val_acc: 0.9778\n",
      "Epoch 5/20\n",
      "24612/24612 [==============================] - 2881s 117ms/step - loss: 0.0474 - acc: 0.9820 - val_loss: 0.0626 - val_acc: 0.9762\n",
      "Epoch 6/20\n",
      "24612/24612 [==============================] - 2860s 116ms/step - loss: 0.0446 - acc: 0.9831 - val_loss: 0.0589 - val_acc: 0.9784\n",
      "Epoch 7/20\n",
      "24612/24612 [==============================] - 3410s 139ms/step - loss: 0.0426 - acc: 0.9839 - val_loss: 0.0589 - val_acc: 0.9784\n",
      "Epoch 8/20\n",
      "24612/24612 [==============================] - 3249s 132ms/step - loss: 0.0409 - acc: 0.9845 - val_loss: 0.0569 - val_acc: 0.9790\n",
      "Epoch 9/20\n",
      "24612/24612 [==============================] - 3098s 126ms/step - loss: 0.0393 - acc: 0.9851 - val_loss: 0.0570 - val_acc: 0.9793\n",
      "Epoch 10/20\n",
      "24612/24612 [==============================] - 3100s 126ms/step - loss: 0.0380 - acc: 0.9856 - val_loss: 0.0586 - val_acc: 0.9791\n",
      "Epoch 11/20\n",
      "24612/24612 [==============================] - 3145s 128ms/step - loss: 0.0369 - acc: 0.9860 - val_loss: 0.0604 - val_acc: 0.9791\n",
      "Epoch 12/20\n",
      "24612/24612 [==============================] - 3151s 128ms/step - loss: 0.0358 - acc: 0.9864 - val_loss: 0.0611 - val_acc: 0.9795\n",
      "Epoch 13/20\n",
      "24612/24612 [==============================] - 3158s 128ms/step - loss: 0.0350 - acc: 0.9867 - val_loss: 0.0627 - val_acc: 0.9797\n",
      "Epoch 14/20\n",
      "24612/24612 [==============================] - 3154s 128ms/step - loss: 0.0342 - acc: 0.9869 - val_loss: 0.0602 - val_acc: 0.9795\n",
      "Epoch 15/20\n",
      "24612/24612 [==============================] - 3169s 129ms/step - loss: 0.0336 - acc: 0.9872 - val_loss: 0.0671 - val_acc: 0.9792\n",
      "Epoch 16/20\n",
      "24612/24612 [==============================] - 3171s 129ms/step - loss: 0.0329 - acc: 0.9874 - val_loss: 0.0643 - val_acc: 0.9795\n",
      "Epoch 17/20\n",
      "24612/24612 [==============================] - 3174s 129ms/step - loss: 0.0323 - acc: 0.9876 - val_loss: 0.0654 - val_acc: 0.9793\n",
      "Epoch 18/20\n",
      "24612/24612 [==============================] - 3167s 129ms/step - loss: 0.0317 - acc: 0.9878 - val_loss: 0.0683 - val_acc: 0.9794\n",
      "Epoch 19/20\n",
      "24612/24612 [==============================] - 3166s 129ms/step - loss: 0.0312 - acc: 0.9879 - val_loss: 0.0689 - val_acc: 0.9785\n",
      "Epoch 20/20\n",
      "24612/24612 [==============================] - 3164s 129ms/step - loss: 0.0307 - acc: 0.9881 - val_loss: 0.0712 - val_acc: 0.9783\n"
     ]
    }
   ],
   "source": [
    "with tf.device('/gpu:0'):\n",
    "    history = model.fit_generator(Generator(train_data, batch_size), \n",
    "                                  steps_per_epoch=train_size//batch_size,\n",
    "                                  validation_data=Generator(valid_data, batch_size), \n",
    "                                  validation_steps=valid_size//batch_size,\n",
    "                                  epochs=epochs, verbose=1)"
   ]
  },
  {
   "cell_type": "code",
   "execution_count": 18,
   "metadata": {},
   "outputs": [
    {
     "name": "stdout",
     "output_type": "stream",
     "text": [
      "Accuracy Score (acc): 97.83%\n"
     ]
    }
   ],
   "source": [
    "# Evaluate the model on a data generator.\n",
    "#\n",
    "scores = model.evaluate_generator(Generator(valid_data, batch_size), steps=valid_size//batch_size, verbose=0)\n",
    "print(\"Accuracy Score ({}): {:.2f}%\".format(model.metrics_names[1], scores[1]*100))"
   ]
  },
  {
   "cell_type": "code",
   "execution_count": 19,
   "metadata": {},
   "outputs": [],
   "source": [
    "# Save a Keras model into a single HDF5 file which will contain:\n",
    "# + the architecture of the model, allowing to re-create the model\n",
    "# + the weights of the model\n",
    "# + the training configuration (loss, optimizer)\n",
    "# + the state of the optimizer, allowing to resume training exactly where you left off.\n",
    "#\n",
    "model.save('/storage/data/cnn_model.h5')"
   ]
  },
  {
   "cell_type": "markdown",
   "metadata": {},
   "source": [
    "## Visualize accurarcy and loss"
   ]
  },
  {
   "cell_type": "code",
   "execution_count": 22,
   "metadata": {},
   "outputs": [],
   "source": [
    "def plot_history(history):\n",
    "    acc = history.history['acc']\n",
    "    val_acc = history.history['val_acc']\n",
    "    \n",
    "    loss = history.history['loss']\n",
    "    val_loss = history.history['val_loss']\n",
    "    \n",
    "    epochs = range(1, len(acc) + 1)\n",
    "\n",
    "    plt.figure(figsize=(16, 8))\n",
    "    plt.subplot(1, 2, 1)\n",
    "    plt.plot(epochs, acc, 'b', label='training acc')\n",
    "    plt.plot(epochs, val_acc, 'r', label='validation acc')\n",
    "    plt.title('training and validation accuracy')\n",
    "    plt.legend()\n",
    "    \n",
    "    plt.subplot(1, 2, 2)\n",
    "    plt.plot(epochs, loss, 'b', label='training loss')\n",
    "    plt.plot(epochs, val_loss, 'r', label='validation loss')\n",
    "    plt.title('training and validation loss')\n",
    "    plt.legend()\n",
    "    \n",
    "    plt.show();"
   ]
  },
  {
   "cell_type": "code",
   "execution_count": 23,
   "metadata": {},
   "outputs": [
    {
     "data": {
      "image/png": "[encoded data removed]",
      "text/plain": [
       "<Figure size 1152x576 with 2 Axes>"
      ]
     },
     "metadata": {
      "needs_background": "light"
     },
     "output_type": "display_data"
    }
   ],
   "source": [
    "plot_history(history)"
   ]
  },
  {
   "cell_type": "markdown",
   "metadata": {},
   "source": [
    "To improve the model we saved out we should save it after each epoch to keep the best version."
   ]
  },
  {
   "cell_type": "markdown",
   "metadata": {},
   "source": [
    "## Next Step:\n",
    "\n",
    "+ add prediction for a given text\n",
    "+ add \"content\" and \"context\" only kera models"
   ]
  },
  {
   "cell_type": "code",
   "execution_count": null,
   "metadata": {},
   "outputs": [],
   "source": []
  }
 ],
 "metadata": {
  "kernelspec": {
   "display_name": "Python 3",
   "language": "python",
   "name": "python3"
  },
  "language_info": {
   "codemirror_mode": {
    "name": "ipython",
    "version": 3
   },
   "file_extension": ".py",
   "mimetype": "text/x-python",
   "name": "python",
   "nbconvert_exporter": "python",
   "pygments_lexer": "ipython3",
   "version": "3.7.3"
  },
  "toc": {
   "base_numbering": 1,
   "nav_menu": {},
   "number_sections": true,
   "sideBar": true,
   "skip_h1_title": false,
   "title_cell": "Table of Contents",
   "title_sidebar": "Contents",
   "toc_cell": true,
   "toc_position": {},
   "toc_section_display": true,
   "toc_window_display": false
  },
  "toc-showmarkdowntxt": true
 },
 "nbformat": 4,
 "nbformat_minor": 2
}
